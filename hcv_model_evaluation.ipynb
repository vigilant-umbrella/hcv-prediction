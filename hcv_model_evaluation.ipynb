{
  "nbformat": 4,
  "nbformat_minor": 0,
  "metadata": {
    "colab": {
      "name": "hcv_model_evaluation.ipynb",
      "provenance": [],
      "collapsed_sections": [],
      "authorship_tag": "ABX9TyMZVO1PdLFZGsRr0wmu1P89",
      "include_colab_link": true
    },
    "kernelspec": {
      "name": "python3",
      "display_name": "Python 3"
    },
    "language_info": {
      "name": "python"
    }
  },
  "cells": [
    {
      "cell_type": "markdown",
      "metadata": {
        "id": "view-in-github",
        "colab_type": "text"
      },
      "source": [
        "<a href=\"https://colab.research.google.com/github/vigilant-umbrella/hcv-prediction/blob/main/hcv_model_evaluation.ipynb\" target=\"_parent\"><img src=\"https://colab.research.google.com/assets/colab-badge.svg\" alt=\"Open In Colab\"/></a>"
      ]
    },
    {
      "cell_type": "markdown",
      "metadata": {
        "id": "w8Iv3Z7fD36F"
      },
      "source": [
        "# Initialization"
      ]
    },
    {
      "cell_type": "code",
      "metadata": {
        "id": "QatIN-hXPkPZ"
      },
      "source": [
        "import pandas as pd\n",
        "\n",
        "from sklearn.preprocessing import OrdinalEncoder\n",
        "from sklearn.preprocessing import MinMaxScaler\n",
        "from sklearn.model_selection import StratifiedKFold\n",
        "from sklearn.model_selection import cross_validate\n",
        "\n",
        "from sklearn.linear_model import LogisticRegression\n",
        "from sklearn.neighbors import KNeighborsClassifier\n",
        "from sklearn.naive_bayes import GaussianNB\n",
        "from sklearn.tree import DecisionTreeClassifier\n",
        "from sklearn.ensemble import RandomForestClassifier\n",
        "from sklearn.svm import SVC\n",
        "from sklearn.neural_network import MLPClassifier"
      ],
      "execution_count": null,
      "outputs": []
    },
    {
      "cell_type": "markdown",
      "metadata": {
        "id": "5GuK5AOmQBD1"
      },
      "source": [
        "# Data Preprocessing"
      ]
    },
    {
      "cell_type": "code",
      "metadata": {
        "colab": {
          "base_uri": "https://localhost:8080/"
        },
        "id": "-5ujA_ACP0If",
        "outputId": "f3b57b61-52fd-4130-8c47-3cf801ddd7b3"
      },
      "source": [
        "%%shell\n",
        "if ! [ -f \"hcvdat0.csv\" ]; then\n",
        "    wget https://archive.ics.uci.edu/ml/machine-learning-databases/00571/hcvdat0.csv \n",
        "fi"
      ],
      "execution_count": null,
      "outputs": [
        {
          "output_type": "execute_result",
          "data": {
            "text/plain": [
              ""
            ]
          },
          "metadata": {
            "tags": []
          },
          "execution_count": 24
        }
      ]
    },
    {
      "cell_type": "code",
      "metadata": {
        "id": "pakcz0nYP1a7"
      },
      "source": [
        "data = pd.read_csv('hcvdat0.csv')\n",
        "\n",
        "data = data[(data['Category']!='0=Blood Donor') & (data['Category']!='0s=suspect Blood Donor')].reset_index(drop=True)\n",
        "\n",
        "X = data.drop(['Unnamed: 0', 'Category'], axis=1)\n",
        "category = pd.DataFrame(data['Category'])\n",
        "\n",
        "X = pd.concat([X, pd.get_dummies(X.Sex, drop_first=True)], axis=1)\n",
        "X = X.drop(['Sex'], axis=1)\n",
        "\n",
        "for col in X.columns:\n",
        "    X[col] = X[col].fillna(sum(X[col].dropna())/len(X[col].dropna()))\n",
        "\n",
        "enc = OrdinalEncoder()\n",
        "y = pd.DataFrame(enc.fit_transform(pd.DataFrame(category)), columns=['category'])"
      ],
      "execution_count": null,
      "outputs": []
    },
    {
      "cell_type": "code",
      "metadata": {
        "id": "apxWv4VNnIyw"
      },
      "source": [
        "# For alpha=0.3\n",
        "cols_to_drop = ['ALT', 'AST', 'CREA', 'GGT', 'PROT', 'm']"
      ],
      "execution_count": null,
      "outputs": []
    },
    {
      "cell_type": "code",
      "metadata": {
        "id": "IALh2JqMaTM0"
      },
      "source": [
        "X_dropped = X.drop(cols_to_drop, axis=1)\n",
        "scaler = MinMaxScaler()\n",
        "scaled_X = scaler.fit_transform(X_dropped)"
      ],
      "execution_count": null,
      "outputs": []
    },
    {
      "cell_type": "markdown",
      "metadata": {
        "id": "p1ackp_xDy3y"
      },
      "source": [
        "# Utils"
      ]
    },
    {
      "cell_type": "code",
      "metadata": {
        "id": "Po_v2FlwQhsd"
      },
      "source": [
        "def generate_kfold_report(results):\n",
        "    report = {}\n",
        "    report['Accuracy'] = sum(results['test_accuracy'])/len(results['test_accuracy'])\n",
        "    report['Precision'] = sum(results['test_precision_macro'])/len(results['test_precision_macro'])\n",
        "    report['Recall'] = sum(results['test_recall_macro'])/len(results['test_recall_macro'])\n",
        "    report['F1 Score'] = sum(results['test_f1_macro'])/len(results['test_f1_macro'])\n",
        "\n",
        "    return report"
      ],
      "execution_count": null,
      "outputs": []
    },
    {
      "cell_type": "markdown",
      "metadata": {
        "id": "fXH7UFAL-KyU"
      },
      "source": [
        "# LogisticRegresssion"
      ]
    },
    {
      "cell_type": "code",
      "metadata": {
        "id": "Y_DixH8e-KyX"
      },
      "source": [
        "lr = LogisticRegression(\n",
        "    C=0.75,\n",
        "    fit_intercept=True,\n",
        "    l1_ratio=0,\n",
        "    max_iter=50,\n",
        "    penalty='l1',\n",
        "    random_state=66,\n",
        "    solver='saga'\n",
        "    )\n",
        "\n",
        "lrcv = StratifiedKFold(n_splits=10, shuffle=True, random_state=2)\n",
        "\n",
        "lrcv_results = cross_validate(\n",
        "    lr,\n",
        "    scaled_X,\n",
        "    y['category'],\n",
        "    cv=lrcv,\n",
        "    scoring=['accuracy', 'f1_macro', 'precision_macro', 'recall_macro'],\n",
        "    n_jobs=-1\n",
        "    )"
      ],
      "execution_count": null,
      "outputs": []
    },
    {
      "cell_type": "code",
      "metadata": {
        "colab": {
          "base_uri": "https://localhost:8080/"
        },
        "id": "fR6g3fmenvyc",
        "outputId": "0e19d788-fb8e-4b42-cd5d-2411673cdd27"
      },
      "source": [
        "lr_kfold_report = generate_kfold_report(lrcv_results)\n",
        "lr_kfold_report"
      ],
      "execution_count": null,
      "outputs": [
        {
          "output_type": "execute_result",
          "data": {
            "text/plain": [
              "{'Accuracy': 0.7749999999999999,\n",
              " 'F1 Score': 0.7321428571428572,\n",
              " 'Precision': 0.7533333333333333,\n",
              " 'Recall': 0.7555555555555555}"
            ]
          },
          "metadata": {
            "tags": []
          },
          "execution_count": 30
        }
      ]
    },
    {
      "cell_type": "markdown",
      "metadata": {
        "id": "Hmolru1_9l62"
      },
      "source": [
        "# KNeighborsClassifier"
      ]
    },
    {
      "cell_type": "code",
      "metadata": {
        "id": "x8Y5Nubh9s2U"
      },
      "source": [
        "knclf = KNeighborsClassifier(\n",
        "    n_neighbors=9,\n",
        "    algorithm='ball_tree',\n",
        "    p=1\n",
        "    )\n",
        "\n",
        "kncv = StratifiedKFold(n_splits=10, shuffle=True, random_state=92)\n",
        "\n",
        "kncv_results = cross_validate(\n",
        "    knclf,\n",
        "    scaled_X,\n",
        "    y['category'],\n",
        "    cv=kncv,\n",
        "    scoring=['accuracy', 'f1_macro', 'precision_macro', 'recall_macro'],\n",
        "    n_jobs=-1\n",
        "    )"
      ],
      "execution_count": null,
      "outputs": []
    },
    {
      "cell_type": "code",
      "metadata": {
        "colab": {
          "base_uri": "https://localhost:8080/"
        },
        "id": "tkpbdx4qnixx",
        "outputId": "8647a2a8-9d49-40cb-dbb1-d4f0ee4599b9"
      },
      "source": [
        "kn_kfold_report = generate_kfold_report(kncv_results)\n",
        "kn_kfold_report"
      ],
      "execution_count": null,
      "outputs": [
        {
          "output_type": "execute_result",
          "data": {
            "text/plain": [
              "{'Accuracy': 0.7910714285714285,\n",
              " 'F1 Score': 0.7684126984126985,\n",
              " 'Precision': 0.7916666666666666,\n",
              " 'Recall': 0.788888888888889}"
            ]
          },
          "metadata": {
            "tags": []
          },
          "execution_count": 32
        }
      ]
    },
    {
      "cell_type": "markdown",
      "metadata": {
        "id": "2xIVcJd8-KOy"
      },
      "source": [
        "# GaussianNB"
      ]
    },
    {
      "cell_type": "code",
      "metadata": {
        "id": "IeVKZ0eL-KO1"
      },
      "source": [
        "gnb = GaussianNB(var_smoothing=1e-10)\n",
        "\n",
        "gnbcv = StratifiedKFold(n_splits=10, shuffle=True, random_state=446)\n",
        "\n",
        "gnbcv_results = cross_validate(\n",
        "    gnb,\n",
        "    scaled_X,\n",
        "    y['category'],\n",
        "    cv=gnbcv,\n",
        "    scoring=['accuracy', 'f1_macro', 'precision_macro', 'recall_macro'],\n",
        "    n_jobs=-1\n",
        "    )"
      ],
      "execution_count": null,
      "outputs": []
    },
    {
      "cell_type": "code",
      "metadata": {
        "colab": {
          "base_uri": "https://localhost:8080/"
        },
        "id": "Dv6RjpsUoTPS",
        "outputId": "a71647c0-ab74-453e-a39f-fbfa9d49694b"
      },
      "source": [
        "gnb_kfold_report = generate_kfold_report(gnbcv_results)\n",
        "gnb_kfold_report"
      ],
      "execution_count": null,
      "outputs": [
        {
          "output_type": "execute_result",
          "data": {
            "text/plain": [
              "{'Accuracy': 0.8160714285714287,\n",
              " 'F1 Score': 0.8163492063492063,\n",
              " 'Precision': 0.8416666666666666,\n",
              " 'Recall': 0.8277777777777778}"
            ]
          },
          "metadata": {
            "tags": []
          },
          "execution_count": 34
        }
      ]
    },
    {
      "cell_type": "markdown",
      "metadata": {
        "id": "k5UsHMvX-KgC"
      },
      "source": [
        "# DecisionTreeClassifier"
      ]
    },
    {
      "cell_type": "code",
      "metadata": {
        "id": "9act84OL-KgD"
      },
      "source": [
        "dtclf = DecisionTreeClassifier(\n",
        "    criterion='entropy',\n",
        "    max_depth=12,\n",
        "    max_features='sqrt',\n",
        "    min_samples_leaf=1,\n",
        "    min_samples_split=0.2,\n",
        "    random_state=652,\n",
        "    splitter='random'\n",
        "    )\n",
        "\n",
        "dtcv = StratifiedKFold(n_splits=10, shuffle=True, random_state=60)\n",
        "\n",
        "dtcv_results = cross_validate(\n",
        "    dtclf,\n",
        "    scaled_X,\n",
        "    y['category'],\n",
        "    cv=dtcv,\n",
        "    scoring=['accuracy', 'f1_macro', 'precision_macro', 'recall_macro'],\n",
        "    n_jobs=-1\n",
        "    )"
      ],
      "execution_count": null,
      "outputs": []
    },
    {
      "cell_type": "code",
      "metadata": {
        "colab": {
          "base_uri": "https://localhost:8080/"
        },
        "id": "BHC44YYZoXPw",
        "outputId": "95322bc4-d3ef-4e97-874c-b50a3c3cdb6f"
      },
      "source": [
        "dt_kfold_report = generate_kfold_report(dtcv_results)\n",
        "dt_kfold_report"
      ],
      "execution_count": null,
      "outputs": [
        {
          "output_type": "execute_result",
          "data": {
            "text/plain": [
              "{'Accuracy': 0.6410714285714285,\n",
              " 'F1 Score': 0.578968253968254,\n",
              " 'Precision': 0.5838888888888889,\n",
              " 'Recall': 0.6111111111111112}"
            ]
          },
          "metadata": {
            "tags": []
          },
          "execution_count": 36
        }
      ]
    },
    {
      "cell_type": "markdown",
      "metadata": {
        "id": "0qCmPMBc-KpA"
      },
      "source": [
        "# RandomForestClassifier"
      ]
    },
    {
      "cell_type": "code",
      "metadata": {
        "id": "Cj6YzJWq-KpD"
      },
      "source": [
        "rfclf = RandomForestClassifier(\n",
        "    criterion='gini',\n",
        "    max_features='sqrt',\n",
        "    min_samples_leaf=0.1,\n",
        "    min_samples_split=0.4,\n",
        "    n_estimators=50,\n",
        "    random_state=68\n",
        "    )\n",
        "\n",
        "rfcv = StratifiedKFold(n_splits=10, shuffle=True, random_state=480)\n",
        "\n",
        "rfcv_results = cross_validate(\n",
        "    rfclf,\n",
        "    scaled_X,\n",
        "    y['category'],\n",
        "    cv=rfcv,\n",
        "    scoring=['accuracy', 'f1_macro', 'precision_macro', 'recall_macro'],\n",
        "    n_jobs=-1\n",
        "    )"
      ],
      "execution_count": null,
      "outputs": []
    },
    {
      "cell_type": "code",
      "metadata": {
        "colab": {
          "base_uri": "https://localhost:8080/"
        },
        "id": "aQDKp9-EoaZI",
        "outputId": "81cc231f-af55-4a70-8059-80d0dcde0f79"
      },
      "source": [
        "rf_kfold_report = generate_kfold_report(rfcv_results)\n",
        "rf_kfold_report"
      ],
      "execution_count": null,
      "outputs": [
        {
          "output_type": "execute_result",
          "data": {
            "text/plain": [
              "{'Accuracy': 0.7857142857142856,\n",
              " 'F1 Score': 0.7545238095238095,\n",
              " 'Precision': 0.8,\n",
              " 'Recall': 0.7666666666666666}"
            ]
          },
          "metadata": {
            "tags": []
          },
          "execution_count": 38
        }
      ]
    },
    {
      "cell_type": "markdown",
      "metadata": {
        "id": "liArSRGZ-K6S"
      },
      "source": [
        "# SVC"
      ]
    },
    {
      "cell_type": "code",
      "metadata": {
        "id": "Ki3exXuM-K6U"
      },
      "source": [
        "svc = SVC(\n",
        "    C=1.25,\n",
        "    coef0=0.9,\n",
        "    degree=6,\n",
        "    gamma='auto',\n",
        "    kernel='poly',\n",
        "    random_state=0,\n",
        "    shrinking=True\n",
        "    )\n",
        "\n",
        "svccv = StratifiedKFold(n_splits=10, shuffle=True, random_state=947)\n",
        "\n",
        "svccv_results = cross_validate(\n",
        "    svc,\n",
        "    scaled_X,\n",
        "    y['category'],\n",
        "    cv=svccv,\n",
        "    scoring=['accuracy', 'f1_macro', 'precision_macro', 'recall_macro'],\n",
        "    n_jobs=-1\n",
        "    )"
      ],
      "execution_count": null,
      "outputs": []
    },
    {
      "cell_type": "code",
      "metadata": {
        "colab": {
          "base_uri": "https://localhost:8080/"
        },
        "id": "PqPoCn2yodbU",
        "outputId": "6ece39e0-2b93-4e21-b07b-16c1680b1669"
      },
      "source": [
        "svc_kfold_report = generate_kfold_report(svccv_results)\n",
        "svc_kfold_report"
      ],
      "execution_count": null,
      "outputs": [
        {
          "output_type": "execute_result",
          "data": {
            "text/plain": [
              "{'Accuracy': 0.8267857142857142,\n",
              " 'F1 Score': 0.8099206349206349,\n",
              " 'Precision': 0.8477777777777777,\n",
              " 'Recall': 0.8111111111111111}"
            ]
          },
          "metadata": {
            "tags": []
          },
          "execution_count": 40
        }
      ]
    },
    {
      "cell_type": "markdown",
      "metadata": {
        "id": "9512pyIm-KYP"
      },
      "source": [
        "# MLPClassifier"
      ]
    },
    {
      "cell_type": "code",
      "metadata": {
        "id": "ob66HbLBmzRS"
      },
      "source": [
        "mlpclf = MLPClassifier(\n",
        "    batch_size=32,\n",
        "    activation='relu',\n",
        "    early_stopping=False,\n",
        "    hidden_layer_sizes=(64, 64),\n",
        "    max_iter=300,\n",
        "    random_state=285,\n",
        "    solver='adam'\n",
        "    )\n",
        "\n",
        "mlpclfcv = StratifiedKFold(n_splits=10, shuffle=True, random_state=289)\n",
        "\n",
        "mlpclfcv_results = cross_validate(\n",
        "    mlpclf,\n",
        "    scaled_X,\n",
        "    y['category'],\n",
        "    cv=mlpclfcv,\n",
        "    scoring=['accuracy', 'f1_macro', 'precision_macro', 'recall_macro'],\n",
        "    n_jobs=-1\n",
        "    )"
      ],
      "execution_count": null,
      "outputs": []
    },
    {
      "cell_type": "code",
      "metadata": {
        "colab": {
          "base_uri": "https://localhost:8080/"
        },
        "id": "oertQ3vzogyt",
        "outputId": "8e88a622-08d1-4274-84d6-fbb0169415ba"
      },
      "source": [
        "mlpclf_kfold_report = generate_kfold_report(mlpclfcv_results)\n",
        "mlpclf_kfold_report"
      ],
      "execution_count": null,
      "outputs": [
        {
          "output_type": "execute_result",
          "data": {
            "text/plain": [
              "{'Accuracy': 0.8410714285714285,\n",
              " 'F1 Score': 0.8312698412698414,\n",
              " 'Precision': 0.8583333333333334,\n",
              " 'Recall': 0.8333333333333333}"
            ]
          },
          "metadata": {
            "tags": []
          },
          "execution_count": 42
        }
      ]
    },
    {
      "cell_type": "markdown",
      "metadata": {
        "id": "WUHJQqEtC9zI"
      },
      "source": [
        "# Evaluating Results"
      ]
    },
    {
      "cell_type": "code",
      "metadata": {
        "id": "yLZkFgLODBmX",
        "colab": {
          "base_uri": "https://localhost:8080/",
          "height": 269
        },
        "outputId": "29d46e92-488c-43e4-d865-e5069e30184f"
      },
      "source": [
        "pd.DataFrame(\n",
        "    [\n",
        "        dt_kfold_report,\n",
        "        lr_kfold_report,\n",
        "        rf_kfold_report,\n",
        "        kn_kfold_report,\n",
        "        gnb_kfold_report,\n",
        "        svc_kfold_report,\n",
        "        mlpclf_kfold_report\n",
        "    ],\n",
        "    index=[\n",
        "        'Decision Tree',\n",
        "        'Logistic Regresssion',\n",
        "        'Random Forest',\n",
        "        'k-nearest neighbors',\n",
        "        'Gaussian naive Bayes',\n",
        "        'Support Vector Machine',\n",
        "        'Mutli-layer Perceptron'\n",
        "    ]\n",
        ")"
      ],
      "execution_count": null,
      "outputs": [
        {
          "output_type": "execute_result",
          "data": {
            "text/html": [
              "<div>\n",
              "<style scoped>\n",
              "    .dataframe tbody tr th:only-of-type {\n",
              "        vertical-align: middle;\n",
              "    }\n",
              "\n",
              "    .dataframe tbody tr th {\n",
              "        vertical-align: top;\n",
              "    }\n",
              "\n",
              "    .dataframe thead th {\n",
              "        text-align: right;\n",
              "    }\n",
              "</style>\n",
              "<table border=\"1\" class=\"dataframe\">\n",
              "  <thead>\n",
              "    <tr style=\"text-align: right;\">\n",
              "      <th></th>\n",
              "      <th>Accuracy</th>\n",
              "      <th>Precision</th>\n",
              "      <th>Recall</th>\n",
              "      <th>F1 Score</th>\n",
              "    </tr>\n",
              "  </thead>\n",
              "  <tbody>\n",
              "    <tr>\n",
              "      <th>Decision Tree</th>\n",
              "      <td>0.641071</td>\n",
              "      <td>0.583889</td>\n",
              "      <td>0.611111</td>\n",
              "      <td>0.578968</td>\n",
              "    </tr>\n",
              "    <tr>\n",
              "      <th>Logistic Regresssion</th>\n",
              "      <td>0.775000</td>\n",
              "      <td>0.753333</td>\n",
              "      <td>0.755556</td>\n",
              "      <td>0.732143</td>\n",
              "    </tr>\n",
              "    <tr>\n",
              "      <th>Random Forest</th>\n",
              "      <td>0.785714</td>\n",
              "      <td>0.800000</td>\n",
              "      <td>0.766667</td>\n",
              "      <td>0.754524</td>\n",
              "    </tr>\n",
              "    <tr>\n",
              "      <th>k-nearest neighbors</th>\n",
              "      <td>0.791071</td>\n",
              "      <td>0.791667</td>\n",
              "      <td>0.788889</td>\n",
              "      <td>0.768413</td>\n",
              "    </tr>\n",
              "    <tr>\n",
              "      <th>Gaussian naive Bayes</th>\n",
              "      <td>0.816071</td>\n",
              "      <td>0.841667</td>\n",
              "      <td>0.827778</td>\n",
              "      <td>0.816349</td>\n",
              "    </tr>\n",
              "    <tr>\n",
              "      <th>Support Vector Machine</th>\n",
              "      <td>0.826786</td>\n",
              "      <td>0.847778</td>\n",
              "      <td>0.811111</td>\n",
              "      <td>0.809921</td>\n",
              "    </tr>\n",
              "    <tr>\n",
              "      <th>Mutli-layer Perceptron</th>\n",
              "      <td>0.841071</td>\n",
              "      <td>0.858333</td>\n",
              "      <td>0.833333</td>\n",
              "      <td>0.831270</td>\n",
              "    </tr>\n",
              "  </tbody>\n",
              "</table>\n",
              "</div>"
            ],
            "text/plain": [
              "                        Accuracy  Precision    Recall  F1 Score\n",
              "Decision Tree           0.641071   0.583889  0.611111  0.578968\n",
              "Logistic Regresssion    0.775000   0.753333  0.755556  0.732143\n",
              "Random Forest           0.785714   0.800000  0.766667  0.754524\n",
              "k-nearest neighbors     0.791071   0.791667  0.788889  0.768413\n",
              "Gaussian naive Bayes    0.816071   0.841667  0.827778  0.816349\n",
              "Support Vector Machine  0.826786   0.847778  0.811111  0.809921\n",
              "Mutli-layer Perceptron  0.841071   0.858333  0.833333  0.831270"
            ]
          },
          "metadata": {
            "tags": []
          },
          "execution_count": 44
        }
      ]
    }
  ]
}