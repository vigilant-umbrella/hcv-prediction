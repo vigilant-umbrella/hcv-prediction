{
  "nbformat": 4,
  "nbformat_minor": 0,
  "metadata": {
    "colab": {
      "name": "hcv_model_evaluation.ipynb",
      "provenance": [],
      "collapsed_sections": [],
      "include_colab_link": true
    },
    "kernelspec": {
      "name": "python3",
      "display_name": "Python 3"
    },
    "language_info": {
      "name": "python"
    }
  },
  "cells": [
    {
      "cell_type": "markdown",
      "metadata": {
        "id": "view-in-github",
        "colab_type": "text"
      },
      "source": [
        "<a href=\"https://colab.research.google.com/github/vigilant-umbrella/hcv-prediction/blob/main/hcv_model_evaluation.ipynb\" target=\"_parent\"><img src=\"https://colab.research.google.com/assets/colab-badge.svg\" alt=\"Open In Colab\"/></a>"
      ]
    },
    {
      "cell_type": "markdown",
      "metadata": {
        "id": "w8Iv3Z7fD36F"
      },
      "source": [
        "# Initialization"
      ]
    },
    {
      "cell_type": "code",
      "metadata": {
        "id": "QatIN-hXPkPZ"
      },
      "source": [
        "import pandas as pd\n",
        "\n",
        "from sklearn.preprocessing import OrdinalEncoder\n",
        "from sklearn.preprocessing import MinMaxScaler\n",
        "from sklearn.model_selection import StratifiedKFold\n",
        "from sklearn.model_selection import cross_validate\n",
        "\n",
        "from sklearn.linear_model import LogisticRegression\n",
        "from sklearn.neighbors import KNeighborsClassifier\n",
        "from sklearn.naive_bayes import GaussianNB\n",
        "from sklearn.tree import DecisionTreeClassifier\n",
        "from sklearn.ensemble import RandomForestClassifier\n",
        "from sklearn.svm import SVC\n",
        "from sklearn.neural_network import MLPClassifier"
      ],
      "execution_count": null,
      "outputs": []
    },
    {
      "cell_type": "markdown",
      "metadata": {
        "id": "5GuK5AOmQBD1"
      },
      "source": [
        "# Data Preprocessing"
      ]
    },
    {
      "cell_type": "code",
      "metadata": {
        "colab": {
          "base_uri": "https://localhost:8080/"
        },
        "id": "-5ujA_ACP0If",
        "outputId": "ae1602e1-f91a-48c3-ce53-d141445c0b58"
      },
      "source": [
        "%%shell\n",
        "if ! [ -f \"hcvdat0.csv\" ]; then\n",
        "    wget https://archive.ics.uci.edu/ml/machine-learning-databases/00571/hcvdat0.csv \n",
        "fi"
      ],
      "execution_count": null,
      "outputs": [
        {
          "output_type": "stream",
          "name": "stdout",
          "text": [
            "--2021-09-26 12:50:42--  https://archive.ics.uci.edu/ml/machine-learning-databases/00571/hcvdat0.csv\n",
            "Resolving archive.ics.uci.edu (archive.ics.uci.edu)... 128.195.10.252\n",
            "Connecting to archive.ics.uci.edu (archive.ics.uci.edu)|128.195.10.252|:443... connected.\n",
            "HTTP request sent, awaiting response... 200 OK\n",
            "Length: 46183 (45K) [application/x-httpd-php]\n",
            "Saving to: ‘hcvdat0.csv’\n",
            "\n",
            "hcvdat0.csv         100%[===================>]  45.10K   174KB/s    in 0.3s    \n",
            "\n",
            "2021-09-26 12:50:44 (174 KB/s) - ‘hcvdat0.csv’ saved [46183/46183]\n",
            "\n"
          ]
        },
        {
          "output_type": "execute_result",
          "data": {
            "text/plain": [
              ""
            ]
          },
          "metadata": {},
          "execution_count": 2
        }
      ]
    },
    {
      "cell_type": "code",
      "metadata": {
        "id": "pakcz0nYP1a7"
      },
      "source": [
        "data = pd.read_csv('hcvdat0.csv')\n",
        "\n",
        "data = data[(data['Category']!='0=Blood Donor') & (data['Category']!='0s=suspect Blood Donor')].reset_index(drop=True)\n",
        "\n",
        "X = data.drop(['Unnamed: 0', 'Category'], axis=1)\n",
        "category = pd.DataFrame(data['Category'])\n",
        "\n",
        "X = pd.concat([X, pd.get_dummies(X.Sex, drop_first=True)], axis=1)\n",
        "X = X.drop(['Sex'], axis=1)\n",
        "\n",
        "X['ALB'] = X['ALB'].fillna(X['ALB'].median())\n",
        "X['ALP'] = X['ALP'].fillna(X['ALP'].median())\n",
        "X['ALT'] = X['ALT'].fillna(X['ALT'].median())\n",
        "X['CHOL'] = X['CHOL'].fillna(X['CHOL'].mean())\n",
        "X['PROT'] = X['PROT'].fillna(X['PROT'].mean())\n",
        "\n",
        "enc = OrdinalEncoder()\n",
        "y = pd.DataFrame(enc.fit_transform(pd.DataFrame(category)), columns=['category'])"
      ],
      "execution_count": null,
      "outputs": []
    },
    {
      "cell_type": "code",
      "metadata": {
        "id": "apxWv4VNnIyw"
      },
      "source": [
        "cols_to_drop = ['m', 'GGT', 'AST', 'CREA', 'PROT']"
      ],
      "execution_count": null,
      "outputs": []
    },
    {
      "cell_type": "code",
      "metadata": {
        "id": "IALh2JqMaTM0"
      },
      "source": [
        "orig_scaler = MinMaxScaler()\n",
        "scaled_orig_X = orig_scaler.fit_transform(X)\n",
        "\n",
        "X_dropped = X.drop(cols_to_drop, axis=1)\n",
        "scaler = MinMaxScaler()\n",
        "scaled_X = scaler.fit_transform(X_dropped)"
      ],
      "execution_count": null,
      "outputs": []
    },
    {
      "cell_type": "code",
      "metadata": {
        "id": "guCOD5WBasgj"
      },
      "source": [
        "result = []"
      ],
      "execution_count": null,
      "outputs": []
    },
    {
      "cell_type": "markdown",
      "metadata": {
        "id": "p1ackp_xDy3y"
      },
      "source": [
        "# Utils"
      ]
    },
    {
      "cell_type": "code",
      "metadata": {
        "id": "Po_v2FlwQhsd"
      },
      "source": [
        "def generate_kfold_report(results):\n",
        "    report = {}\n",
        "    report['Accuracy'] = sum(results['test_accuracy'])/len(results['test_accuracy'])\n",
        "    report['Precision'] = sum(results['test_precision_macro'])/len(results['test_precision_macro'])\n",
        "    report['Recall'] = sum(results['test_recall_macro'])/len(results['test_recall_macro'])\n",
        "    report['F1 Score'] = sum(results['test_f1_macro'])/len(results['test_f1_macro'])\n",
        "\n",
        "    return report"
      ],
      "execution_count": null,
      "outputs": []
    },
    {
      "cell_type": "markdown",
      "metadata": {
        "id": "fXH7UFAL-KyU"
      },
      "source": [
        "# LogisticRegresssion"
      ]
    },
    {
      "cell_type": "markdown",
      "metadata": {
        "id": "xPJurFDQcNqy"
      },
      "source": [
        "## Without Removing Features"
      ]
    },
    {
      "cell_type": "code",
      "metadata": {
        "id": "MmDDVzaDcXVC"
      },
      "source": [
        "lr = LogisticRegression(\n",
        "    C=1.25,\n",
        "    fit_intercept=True,\n",
        "    l1_ratio=0.5,\n",
        "    max_iter=50,\n",
        "    penalty='elasticnet',\n",
        "    random_state=221,\n",
        "    solver='saga'\n",
        "    )\n",
        "\n",
        "lrcv = StratifiedKFold(n_splits=10, shuffle=True, random_state=0)\n",
        "\n",
        "lrcv_results = cross_validate(\n",
        "    lr,\n",
        "    scaled_orig_X,\n",
        "    y['category'],\n",
        "    cv=lrcv,\n",
        "    scoring=['accuracy', 'f1_macro', 'precision_macro', 'recall_macro'],\n",
        "    n_jobs=-1\n",
        "    )"
      ],
      "execution_count": null,
      "outputs": []
    },
    {
      "cell_type": "code",
      "metadata": {
        "id": "DEH9nAnOccBU"
      },
      "source": [
        "report_without = generate_kfold_report(lrcv_results)"
      ],
      "execution_count": null,
      "outputs": []
    },
    {
      "cell_type": "markdown",
      "metadata": {
        "id": "L0lG-HXTcRMa"
      },
      "source": [
        "## Removing Features"
      ]
    },
    {
      "cell_type": "code",
      "metadata": {
        "id": "Y_DixH8e-KyX"
      },
      "source": [
        "lr = LogisticRegression(\n",
        "    C=1.25,\n",
        "    fit_intercept=True,\n",
        "    l1_ratio=0.5,\n",
        "    max_iter=50,\n",
        "    penalty='elasticnet',\n",
        "    random_state=221,\n",
        "    solver='saga'\n",
        "    )\n",
        "\n",
        "lrcv = StratifiedKFold(n_splits=10, shuffle=True, random_state=0)\n",
        "\n",
        "lrcv_results = cross_validate(\n",
        "    lr,\n",
        "    scaled_X,\n",
        "    y['category'],\n",
        "    cv=lrcv,\n",
        "    scoring=['accuracy', 'f1_macro', 'precision_macro', 'recall_macro'],\n",
        "    n_jobs=-1\n",
        "    )"
      ],
      "execution_count": null,
      "outputs": []
    },
    {
      "cell_type": "code",
      "metadata": {
        "id": "9IsLuH75cndl"
      },
      "source": [
        "report_with = generate_kfold_report(lrcv_results)"
      ],
      "execution_count": null,
      "outputs": []
    },
    {
      "cell_type": "code",
      "metadata": {
        "id": "tWUJ_nc-azYY"
      },
      "source": [
        "result.append(\n",
        "    {\n",
        "        'model': 'Logistic Regression',\n",
        "        'Without using described approach': report_without,\n",
        "        'Using described approach': report_with\n",
        "    }\n",
        ")"
      ],
      "execution_count": null,
      "outputs": []
    },
    {
      "cell_type": "markdown",
      "metadata": {
        "id": "Hmolru1_9l62"
      },
      "source": [
        "# KNeighborsClassifier"
      ]
    },
    {
      "cell_type": "markdown",
      "metadata": {
        "id": "yOiWtE94c2S4"
      },
      "source": [
        "## Without Removing Features"
      ]
    },
    {
      "cell_type": "code",
      "metadata": {
        "id": "7Pn6zlR9c2S5"
      },
      "source": [
        "knclf = KNeighborsClassifier(\n",
        "    n_neighbors=10,\n",
        "    algorithm='ball_tree',\n",
        "    p=4\n",
        "    )\n",
        "\n",
        "kncv = StratifiedKFold(n_splits=10, shuffle=True, random_state=182)\n",
        "\n",
        "kncv_results = cross_validate(\n",
        "    knclf,\n",
        "    scaled_orig_X,\n",
        "    y['category'],\n",
        "    cv=kncv,\n",
        "    scoring=['accuracy', 'f1_macro', 'precision_macro', 'recall_macro'],\n",
        "    n_jobs=-1\n",
        "    )"
      ],
      "execution_count": null,
      "outputs": []
    },
    {
      "cell_type": "code",
      "metadata": {
        "id": "xuK6OHC6c2S5"
      },
      "source": [
        "report_without = generate_kfold_report(kncv_results)"
      ],
      "execution_count": null,
      "outputs": []
    },
    {
      "cell_type": "markdown",
      "metadata": {
        "id": "D5Tzp52Xc2S6"
      },
      "source": [
        "## Removing Features"
      ]
    },
    {
      "cell_type": "code",
      "metadata": {
        "id": "x8Y5Nubh9s2U"
      },
      "source": [
        "knclf = KNeighborsClassifier(\n",
        "    n_neighbors=10,\n",
        "    algorithm='ball_tree',\n",
        "    p=4\n",
        "    )\n",
        "\n",
        "kncv = StratifiedKFold(n_splits=10, shuffle=True, random_state=182)\n",
        "\n",
        "kncv_results = cross_validate(\n",
        "    knclf,\n",
        "    scaled_X,\n",
        "    y['category'],\n",
        "    cv=kncv,\n",
        "    scoring=['accuracy', 'f1_macro', 'precision_macro', 'recall_macro'],\n",
        "    n_jobs=-1\n",
        "    )"
      ],
      "execution_count": null,
      "outputs": []
    },
    {
      "cell_type": "code",
      "metadata": {
        "id": "SaYx2WVCdzQA"
      },
      "source": [
        "report_with = generate_kfold_report(kncv_results)"
      ],
      "execution_count": null,
      "outputs": []
    },
    {
      "cell_type": "code",
      "metadata": {
        "id": "tkpbdx4qnixx"
      },
      "source": [
        "result.append(\n",
        "    {\n",
        "        'model': 'k-nearest neighbors',\n",
        "        'Without using described approach': report_without,\n",
        "        'Using described approach': report_with\n",
        "    }\n",
        ")"
      ],
      "execution_count": null,
      "outputs": []
    },
    {
      "cell_type": "markdown",
      "metadata": {
        "id": "2xIVcJd8-KOy"
      },
      "source": [
        "# GaussianNB"
      ]
    },
    {
      "cell_type": "markdown",
      "metadata": {
        "id": "xz13-UZcc4FL"
      },
      "source": [
        "## Without Removing Features"
      ]
    },
    {
      "cell_type": "code",
      "metadata": {
        "id": "7ARZgF4Tc4FL"
      },
      "source": [
        "gnb = GaussianNB(var_smoothing=1e-10)\n",
        "\n",
        "gnbcv = StratifiedKFold(n_splits=10, shuffle=True, random_state=302)\n",
        "\n",
        "gnbcv_results = cross_validate(\n",
        "    gnb,\n",
        "    scaled_orig_X,\n",
        "    y['category'],\n",
        "    cv=gnbcv,\n",
        "    scoring=['accuracy', 'f1_macro', 'precision_macro', 'recall_macro'],\n",
        "    n_jobs=-1\n",
        "    )"
      ],
      "execution_count": null,
      "outputs": []
    },
    {
      "cell_type": "code",
      "metadata": {
        "id": "a40cxQYRc4FM"
      },
      "source": [
        "report_without = generate_kfold_report(gnbcv_results)"
      ],
      "execution_count": null,
      "outputs": []
    },
    {
      "cell_type": "markdown",
      "metadata": {
        "id": "QBHZIgHAc4FN"
      },
      "source": [
        "## Removing Features"
      ]
    },
    {
      "cell_type": "code",
      "metadata": {
        "id": "IeVKZ0eL-KO1"
      },
      "source": [
        "gnb = GaussianNB(var_smoothing=1e-10)\n",
        "\n",
        "gnbcv = StratifiedKFold(n_splits=10, shuffle=True, random_state=302)\n",
        "\n",
        "gnbcv_results = cross_validate(\n",
        "    gnb,\n",
        "    scaled_X,\n",
        "    y['category'],\n",
        "    cv=gnbcv,\n",
        "    scoring=['accuracy', 'f1_macro', 'precision_macro', 'recall_macro'],\n",
        "    n_jobs=-1\n",
        "    )"
      ],
      "execution_count": null,
      "outputs": []
    },
    {
      "cell_type": "code",
      "metadata": {
        "id": "nxjFOhMtd1AW"
      },
      "source": [
        "report_with = generate_kfold_report(gnbcv_results)"
      ],
      "execution_count": null,
      "outputs": []
    },
    {
      "cell_type": "code",
      "metadata": {
        "id": "Dv6RjpsUoTPS"
      },
      "source": [
        "result.append(\n",
        "    {\n",
        "        'model': 'Gaussian naive Bayes',\n",
        "        'Without using described approach': report_without,\n",
        "        'Using described approach': report_with\n",
        "    }\n",
        ")"
      ],
      "execution_count": null,
      "outputs": []
    },
    {
      "cell_type": "markdown",
      "metadata": {
        "id": "k5UsHMvX-KgC"
      },
      "source": [
        "# DecisionTreeClassifier"
      ]
    },
    {
      "cell_type": "markdown",
      "metadata": {
        "id": "dJ2317Wwc4y1"
      },
      "source": [
        "## Without Removing Features"
      ]
    },
    {
      "cell_type": "code",
      "metadata": {
        "id": "o_vstOsWc4y1"
      },
      "source": [
        "dtclf = DecisionTreeClassifier(\n",
        "    criterion='entropy',\n",
        "    max_depth=7,\n",
        "    max_features=None,\n",
        "    min_samples_leaf=3,\n",
        "    min_samples_split=0.4,\n",
        "    random_state=559,\n",
        "    splitter='random'\n",
        "    )\n",
        "\n",
        "dtcv = StratifiedKFold(n_splits=10, shuffle=True, random_state=985)\n",
        "\n",
        "dtcv_results = cross_validate(\n",
        "    dtclf,\n",
        "    scaled_orig_X,\n",
        "    y['category'],\n",
        "    cv=dtcv,\n",
        "    scoring=['accuracy', 'f1_macro', 'precision_macro', 'recall_macro'],\n",
        "    n_jobs=-1\n",
        "    )"
      ],
      "execution_count": null,
      "outputs": []
    },
    {
      "cell_type": "code",
      "metadata": {
        "id": "2FS1EwYvc4y3"
      },
      "source": [
        "report_without = generate_kfold_report(dtcv_results)"
      ],
      "execution_count": null,
      "outputs": []
    },
    {
      "cell_type": "markdown",
      "metadata": {
        "id": "_02QGLjjc4y4"
      },
      "source": [
        "## Removing Features"
      ]
    },
    {
      "cell_type": "code",
      "metadata": {
        "id": "9act84OL-KgD"
      },
      "source": [
        "dtclf = DecisionTreeClassifier(\n",
        "    criterion='entropy',\n",
        "    max_depth=7,\n",
        "    max_features=None,\n",
        "    min_samples_leaf=3,\n",
        "    min_samples_split=0.4,\n",
        "    random_state=559,\n",
        "    splitter='random'\n",
        "    )\n",
        "\n",
        "dtcv = StratifiedKFold(n_splits=10, shuffle=True, random_state=985)\n",
        "\n",
        "dtcv_results = cross_validate(\n",
        "    dtclf,\n",
        "    scaled_X,\n",
        "    y['category'],\n",
        "    cv=dtcv,\n",
        "    scoring=['accuracy', 'f1_macro', 'precision_macro', 'recall_macro'],\n",
        "    n_jobs=-1\n",
        "    )"
      ],
      "execution_count": null,
      "outputs": []
    },
    {
      "cell_type": "code",
      "metadata": {
        "id": "1Y3ZuFuNd21V"
      },
      "source": [
        "report_with = generate_kfold_report(dtcv_results)"
      ],
      "execution_count": null,
      "outputs": []
    },
    {
      "cell_type": "code",
      "metadata": {
        "id": "BHC44YYZoXPw"
      },
      "source": [
        "result.append(\n",
        "    {\n",
        "        'model': 'Decision Tree',\n",
        "        'Without using described approach': report_without,\n",
        "        'Using described approach': report_with\n",
        "    }\n",
        ")"
      ],
      "execution_count": null,
      "outputs": []
    },
    {
      "cell_type": "markdown",
      "metadata": {
        "id": "0qCmPMBc-KpA"
      },
      "source": [
        "# RandomForestClassifier"
      ]
    },
    {
      "cell_type": "markdown",
      "metadata": {
        "id": "oGW5aa0ic5my"
      },
      "source": [
        "## Without Removing Features"
      ]
    },
    {
      "cell_type": "code",
      "metadata": {
        "id": "oYbYWUhic5mz"
      },
      "source": [
        "rfclf = RandomForestClassifier(\n",
        "    criterion='gini',\n",
        "    max_features='sqrt',\n",
        "    min_samples_leaf=2,\n",
        "    min_samples_split=5,\n",
        "    n_estimators=50,\n",
        "    random_state=67\n",
        "    )\n",
        "\n",
        "rfcv = StratifiedKFold(n_splits=10, shuffle=True, random_state=309)\n",
        "\n",
        "rfcv_results = cross_validate(\n",
        "    rfclf,\n",
        "    scaled_orig_X,\n",
        "    y['category'],\n",
        "    cv=rfcv,\n",
        "    scoring=['accuracy', 'f1_macro', 'precision_macro', 'recall_macro'],\n",
        "    n_jobs=-1\n",
        "    )"
      ],
      "execution_count": null,
      "outputs": []
    },
    {
      "cell_type": "code",
      "metadata": {
        "id": "7zRKmzqMc5mz"
      },
      "source": [
        "report_without = generate_kfold_report(rfcv_results)"
      ],
      "execution_count": null,
      "outputs": []
    },
    {
      "cell_type": "markdown",
      "metadata": {
        "id": "wWHGR8Mxc5m0"
      },
      "source": [
        "## Removing Features"
      ]
    },
    {
      "cell_type": "code",
      "metadata": {
        "id": "Cj6YzJWq-KpD"
      },
      "source": [
        "rfclf = RandomForestClassifier(\n",
        "    criterion='gini',\n",
        "    max_features='sqrt',\n",
        "    min_samples_leaf=2,\n",
        "    min_samples_split=5,\n",
        "    n_estimators=50,\n",
        "    random_state=67\n",
        "    )\n",
        "\n",
        "rfcv = StratifiedKFold(n_splits=10, shuffle=True, random_state=309)\n",
        "\n",
        "rfcv_results = cross_validate(\n",
        "    rfclf,\n",
        "    scaled_X,\n",
        "    y['category'],\n",
        "    cv=rfcv,\n",
        "    scoring=['accuracy', 'f1_macro', 'precision_macro', 'recall_macro'],\n",
        "    n_jobs=-1\n",
        "    )"
      ],
      "execution_count": null,
      "outputs": []
    },
    {
      "cell_type": "code",
      "metadata": {
        "id": "L9SwbX7qd4z1"
      },
      "source": [
        "report_with = generate_kfold_report(rfcv_results)"
      ],
      "execution_count": null,
      "outputs": []
    },
    {
      "cell_type": "code",
      "metadata": {
        "id": "aQDKp9-EoaZI"
      },
      "source": [
        "result.append(\n",
        "    {\n",
        "        'model': 'Random Forest',\n",
        "        'Without using described approach': report_without,\n",
        "        'Using described approach': report_with\n",
        "    }\n",
        ")"
      ],
      "execution_count": null,
      "outputs": []
    },
    {
      "cell_type": "markdown",
      "metadata": {
        "id": "liArSRGZ-K6S"
      },
      "source": [
        "# SVC"
      ]
    },
    {
      "cell_type": "markdown",
      "metadata": {
        "id": "BTIuMfpmc6oM"
      },
      "source": [
        "## Without Removing Features"
      ]
    },
    {
      "cell_type": "code",
      "metadata": {
        "id": "41zpMa69c6oM"
      },
      "source": [
        "svc = SVC(\n",
        "    C=0.1,\n",
        "    coef0=0.3,\n",
        "    degree=2,\n",
        "    gamma='scale',\n",
        "    kernel='poly',\n",
        "    random_state=98,\n",
        "    shrinking=True\n",
        "    )\n",
        "\n",
        "svccv = StratifiedKFold(n_splits=10, shuffle=True, random_state=911)\n",
        "\n",
        "svccv_results = cross_validate(\n",
        "    svc,\n",
        "    scaled_orig_X,\n",
        "    y['category'],\n",
        "    cv=svccv,\n",
        "    scoring=['accuracy', 'f1_macro', 'precision_macro', 'recall_macro'],\n",
        "    n_jobs=-1\n",
        "    )"
      ],
      "execution_count": null,
      "outputs": []
    },
    {
      "cell_type": "code",
      "metadata": {
        "id": "WlFpOnhbc6oM"
      },
      "source": [
        "report_without = generate_kfold_report(svccv_results)"
      ],
      "execution_count": null,
      "outputs": []
    },
    {
      "cell_type": "markdown",
      "metadata": {
        "id": "zwykWyEPc6oM"
      },
      "source": [
        "## Removing Features"
      ]
    },
    {
      "cell_type": "code",
      "metadata": {
        "id": "Ki3exXuM-K6U"
      },
      "source": [
        "svc = SVC(\n",
        "    C=0.1,\n",
        "    coef0=0.3,\n",
        "    degree=2,\n",
        "    gamma='scale',\n",
        "    kernel='poly',\n",
        "    random_state=98,\n",
        "    shrinking=True\n",
        "    )\n",
        "\n",
        "svccv = StratifiedKFold(n_splits=10, shuffle=True, random_state=911)\n",
        "\n",
        "svccv_results = cross_validate(\n",
        "    svc,\n",
        "    scaled_X,\n",
        "    y['category'],\n",
        "    cv=svccv,\n",
        "    scoring=['accuracy', 'f1_macro', 'precision_macro', 'recall_macro'],\n",
        "    n_jobs=-1\n",
        "    )"
      ],
      "execution_count": null,
      "outputs": []
    },
    {
      "cell_type": "code",
      "metadata": {
        "id": "TP_rlWLEd7Ib"
      },
      "source": [
        "report_with = generate_kfold_report(svccv_results)"
      ],
      "execution_count": null,
      "outputs": []
    },
    {
      "cell_type": "code",
      "metadata": {
        "id": "PqPoCn2yodbU"
      },
      "source": [
        "result.append(\n",
        "    {\n",
        "        'model': 'Support Vector Machine',\n",
        "        'Without using described approach': report_without,\n",
        "        'Using described approach': report_with\n",
        "    }\n",
        ")"
      ],
      "execution_count": null,
      "outputs": []
    },
    {
      "cell_type": "markdown",
      "metadata": {
        "id": "9512pyIm-KYP"
      },
      "source": [
        "# MLPClassifier"
      ]
    },
    {
      "cell_type": "markdown",
      "metadata": {
        "id": "s5XbpqbMc7nb"
      },
      "source": [
        "## Without Removing Features"
      ]
    },
    {
      "cell_type": "code",
      "metadata": {
        "id": "k5edi2tKc7nd"
      },
      "source": [
        "mlpclf = MLPClassifier(\n",
        "    batch_size=8,\n",
        "    activation='relu',\n",
        "    early_stopping=False,\n",
        "    hidden_layer_sizes=(32, 32, 32),\n",
        "    max_iter=500,\n",
        "    random_state=377,\n",
        "    solver='lbfgs'\n",
        "    )\n",
        "\n",
        "mlpclfcv = StratifiedKFold(n_splits=10, shuffle=True, random_state=496)\n",
        "\n",
        "mlpclfcv_results = cross_validate(\n",
        "    mlpclf,\n",
        "    scaled_orig_X,\n",
        "    y['category'],\n",
        "    cv=mlpclfcv,\n",
        "    scoring=['accuracy', 'f1_macro', 'precision_macro', 'recall_macro'],\n",
        "    n_jobs=-1\n",
        "    )"
      ],
      "execution_count": null,
      "outputs": []
    },
    {
      "cell_type": "code",
      "metadata": {
        "id": "xyAtCT6mc7ne"
      },
      "source": [
        "report_without = generate_kfold_report(mlpclfcv_results)"
      ],
      "execution_count": null,
      "outputs": []
    },
    {
      "cell_type": "markdown",
      "metadata": {
        "id": "BKJM536Dc7nf"
      },
      "source": [
        "## Removing Features"
      ]
    },
    {
      "cell_type": "code",
      "metadata": {
        "id": "ob66HbLBmzRS"
      },
      "source": [
        "mlpclf = MLPClassifier(\n",
        "    batch_size=8,\n",
        "    activation='relu',\n",
        "    early_stopping=False,\n",
        "    hidden_layer_sizes=(32, 32, 32),\n",
        "    max_iter=500,\n",
        "    random_state=377,\n",
        "    solver='lbfgs'\n",
        "    )\n",
        "\n",
        "mlpclfcv = StratifiedKFold(n_splits=10, shuffle=True, random_state=496)\n",
        "\n",
        "mlpclfcv_results = cross_validate(\n",
        "    mlpclf,\n",
        "    scaled_X,\n",
        "    y['category'],\n",
        "    cv=mlpclfcv,\n",
        "    scoring=['accuracy', 'f1_macro', 'precision_macro', 'recall_macro'],\n",
        "    n_jobs=-1\n",
        "    )"
      ],
      "execution_count": null,
      "outputs": []
    },
    {
      "cell_type": "code",
      "metadata": {
        "id": "Ex61I7Bnd9Fe"
      },
      "source": [
        "report_with = generate_kfold_report(mlpclfcv_results)"
      ],
      "execution_count": null,
      "outputs": []
    },
    {
      "cell_type": "code",
      "metadata": {
        "id": "oertQ3vzogyt"
      },
      "source": [
        "result.append(\n",
        "    {\n",
        "        'model': 'Mutli-layer Perceptron',\n",
        "        'Without using described approach': report_without,\n",
        "        'Using described approach': report_with\n",
        "    }\n",
        ")"
      ],
      "execution_count": null,
      "outputs": []
    },
    {
      "cell_type": "markdown",
      "metadata": {
        "id": "WUHJQqEtC9zI"
      },
      "source": [
        "# Evaluating Results"
      ]
    },
    {
      "cell_type": "code",
      "metadata": {
        "colab": {
          "base_uri": "https://localhost:8080/"
        },
        "id": "nnBJWzIhZ5ch",
        "outputId": "3f115185-0c1b-40f4-a4de-cf33ccce93ac"
      },
      "source": [
        "res = pd.json_normalize(result)\n",
        "res = res.set_index('model')\n",
        "res.index.name = None\n",
        "res.columns = res.columns.str.split('.', expand=True)\n",
        "res = res.sort_values(by=('Using described approach', 'Accuracy'))\n",
        "res"
      ],
      "execution_count": null,
      "outputs": [
        {
          "output_type": "execute_result",
          "data": {
            "text/html": [
              "<div>\n",
              "<style scoped>\n",
              "    .dataframe tbody tr th:only-of-type {\n",
              "        vertical-align: middle;\n",
              "    }\n",
              "\n",
              "    .dataframe tbody tr th {\n",
              "        vertical-align: top;\n",
              "    }\n",
              "\n",
              "    .dataframe thead tr th {\n",
              "        text-align: left;\n",
              "    }\n",
              "</style>\n",
              "<table border=\"1\" class=\"dataframe\">\n",
              "  <thead>\n",
              "    <tr>\n",
              "      <th></th>\n",
              "      <th colspan=\"4\" halign=\"left\">Without using described approach</th>\n",
              "      <th colspan=\"4\" halign=\"left\">Using described approach</th>\n",
              "    </tr>\n",
              "    <tr>\n",
              "      <th></th>\n",
              "      <th>Accuracy</th>\n",
              "      <th>Precision</th>\n",
              "      <th>Recall</th>\n",
              "      <th>F1 Score</th>\n",
              "      <th>Accuracy</th>\n",
              "      <th>Precision</th>\n",
              "      <th>Recall</th>\n",
              "      <th>F1 Score</th>\n",
              "    </tr>\n",
              "  </thead>\n",
              "  <tbody>\n",
              "    <tr>\n",
              "      <th>Decision Tree</th>\n",
              "      <td>0.571429</td>\n",
              "      <td>0.392222</td>\n",
              "      <td>0.511111</td>\n",
              "      <td>0.427302</td>\n",
              "      <td>0.748214</td>\n",
              "      <td>0.783333</td>\n",
              "      <td>0.750000</td>\n",
              "      <td>0.737143</td>\n",
              "    </tr>\n",
              "    <tr>\n",
              "      <th>Gaussian naive Bayes</th>\n",
              "      <td>0.708929</td>\n",
              "      <td>0.728333</td>\n",
              "      <td>0.700000</td>\n",
              "      <td>0.686905</td>\n",
              "      <td>0.787500</td>\n",
              "      <td>0.836111</td>\n",
              "      <td>0.783333</td>\n",
              "      <td>0.772540</td>\n",
              "    </tr>\n",
              "    <tr>\n",
              "      <th>Random Forest</th>\n",
              "      <td>0.678571</td>\n",
              "      <td>0.683333</td>\n",
              "      <td>0.666667</td>\n",
              "      <td>0.638730</td>\n",
              "      <td>0.800000</td>\n",
              "      <td>0.825000</td>\n",
              "      <td>0.788889</td>\n",
              "      <td>0.777302</td>\n",
              "    </tr>\n",
              "    <tr>\n",
              "      <th>Logistic Regression</th>\n",
              "      <td>0.692857</td>\n",
              "      <td>0.675556</td>\n",
              "      <td>0.655556</td>\n",
              "      <td>0.638016</td>\n",
              "      <td>0.803571</td>\n",
              "      <td>0.808333</td>\n",
              "      <td>0.783333</td>\n",
              "      <td>0.775238</td>\n",
              "    </tr>\n",
              "    <tr>\n",
              "      <th>k-nearest neighbors</th>\n",
              "      <td>0.669643</td>\n",
              "      <td>0.735556</td>\n",
              "      <td>0.683333</td>\n",
              "      <td>0.647540</td>\n",
              "      <td>0.816071</td>\n",
              "      <td>0.858333</td>\n",
              "      <td>0.822222</td>\n",
              "      <td>0.807778</td>\n",
              "    </tr>\n",
              "    <tr>\n",
              "      <th>Support Vector Machine</th>\n",
              "      <td>0.641071</td>\n",
              "      <td>0.545000</td>\n",
              "      <td>0.611111</td>\n",
              "      <td>0.553810</td>\n",
              "      <td>0.817857</td>\n",
              "      <td>0.850556</td>\n",
              "      <td>0.805556</td>\n",
              "      <td>0.788492</td>\n",
              "    </tr>\n",
              "    <tr>\n",
              "      <th>Mutli-layer Perceptron</th>\n",
              "      <td>0.612500</td>\n",
              "      <td>0.580556</td>\n",
              "      <td>0.594444</td>\n",
              "      <td>0.555476</td>\n",
              "      <td>0.867857</td>\n",
              "      <td>0.855556</td>\n",
              "      <td>0.855556</td>\n",
              "      <td>0.840476</td>\n",
              "    </tr>\n",
              "  </tbody>\n",
              "</table>\n",
              "</div>"
            ],
            "text/plain": [
              "                       Without using described approach  ... Using described approach\n",
              "                                               Accuracy  ...                 F1 Score\n",
              "Decision Tree                                  0.571429  ...                 0.737143\n",
              "Gaussian naive Bayes                           0.708929  ...                 0.772540\n",
              "Random Forest                                  0.678571  ...                 0.777302\n",
              "Logistic Regression                            0.692857  ...                 0.775238\n",
              "k-nearest neighbors                            0.669643  ...                 0.807778\n",
              "Support Vector Machine                         0.641071  ...                 0.788492\n",
              "Mutli-layer Perceptron                         0.612500  ...                 0.840476\n",
              "\n",
              "[7 rows x 8 columns]"
            ]
          },
          "metadata": {},
          "execution_count": 43
        }
      ]
    }
  ]
}