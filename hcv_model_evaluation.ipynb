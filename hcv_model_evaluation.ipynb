{
  "nbformat": 4,
  "nbformat_minor": 0,
  "metadata": {
    "colab": {
      "name": "hcv_model_evaluation.ipynb",
      "provenance": [],
      "collapsed_sections": [],
      "authorship_tag": "ABX9TyNtl5k0KABltXQVQP/+nQnp",
      "include_colab_link": true
    },
    "kernelspec": {
      "name": "python3",
      "display_name": "Python 3"
    },
    "language_info": {
      "name": "python"
    }
  },
  "cells": [
    {
      "cell_type": "markdown",
      "metadata": {
        "id": "view-in-github",
        "colab_type": "text"
      },
      "source": [
        "<a href=\"https://colab.research.google.com/github/vigilant-umbrella/hcv-prediction/blob/main/hcv_model_evaluation.ipynb\" target=\"_parent\"><img src=\"https://colab.research.google.com/assets/colab-badge.svg\" alt=\"Open In Colab\"/></a>"
      ]
    },
    {
      "cell_type": "markdown",
      "metadata": {
        "id": "w8Iv3Z7fD36F"
      },
      "source": [
        "# Initialization"
      ]
    },
    {
      "cell_type": "code",
      "metadata": {
        "id": "QatIN-hXPkPZ"
      },
      "source": [
        "import pandas as pd\n",
        "\n",
        "from sklearn.preprocessing import OrdinalEncoder\n",
        "from sklearn.preprocessing import MinMaxScaler\n",
        "from sklearn.model_selection import StratifiedKFold\n",
        "from sklearn.model_selection import cross_validate\n",
        "\n",
        "from sklearn.linear_model import LogisticRegression\n",
        "from sklearn.neighbors import KNeighborsClassifier\n",
        "from sklearn.naive_bayes import GaussianNB\n",
        "from sklearn.tree import DecisionTreeClassifier\n",
        "from sklearn.ensemble import RandomForestClassifier\n",
        "from sklearn.svm import SVC\n",
        "from sklearn.neural_network import MLPClassifier"
      ],
      "execution_count": null,
      "outputs": []
    },
    {
      "cell_type": "markdown",
      "metadata": {
        "id": "5GuK5AOmQBD1"
      },
      "source": [
        "# Data Preprocessing"
      ]
    },
    {
      "cell_type": "code",
      "metadata": {
        "colab": {
          "base_uri": "https://localhost:8080/"
        },
        "id": "-5ujA_ACP0If",
        "outputId": "19f1446c-bef3-43c1-b00f-c89e693827ac"
      },
      "source": [
        "%%shell\n",
        "if ! [ -f \"hcvdat0.csv\" ]; then\n",
        "    wget https://archive.ics.uci.edu/ml/machine-learning-databases/00571/hcvdat0.csv \n",
        "fi"
      ],
      "execution_count": null,
      "outputs": [
        {
          "output_type": "stream",
          "text": [
            "--2021-08-12 14:55:35--  https://archive.ics.uci.edu/ml/machine-learning-databases/00571/hcvdat0.csv\n",
            "Resolving archive.ics.uci.edu (archive.ics.uci.edu)... 128.195.10.252\n",
            "Connecting to archive.ics.uci.edu (archive.ics.uci.edu)|128.195.10.252|:443... connected.\n",
            "HTTP request sent, awaiting response... 200 OK\n",
            "Length: 46183 (45K) [application/x-httpd-php]\n",
            "Saving to: ‘hcvdat0.csv’\n",
            "\n",
            "hcvdat0.csv         100%[===================>]  45.10K  --.-KB/s    in 0.1s    \n",
            "\n",
            "2021-08-12 14:55:36 (348 KB/s) - ‘hcvdat0.csv’ saved [46183/46183]\n",
            "\n"
          ],
          "name": "stdout"
        },
        {
          "output_type": "execute_result",
          "data": {
            "text/plain": [
              ""
            ]
          },
          "metadata": {
            "tags": []
          },
          "execution_count": 2
        }
      ]
    },
    {
      "cell_type": "code",
      "metadata": {
        "id": "pakcz0nYP1a7"
      },
      "source": [
        "data = pd.read_csv('hcvdat0.csv')\n",
        "\n",
        "data = data[(data['Category']!='0=Blood Donor') & (data['Category']!='0s=suspect Blood Donor')].reset_index(drop=True)\n",
        "\n",
        "X = data.drop(['Unnamed: 0', 'Category'], axis=1)\n",
        "category = pd.DataFrame(data['Category'])\n",
        "\n",
        "X = pd.concat([X, pd.get_dummies(X.Sex, drop_first=True)], axis=1)\n",
        "X = X.drop(['Sex'], axis=1)\n",
        "\n",
        "X['ALB'] = X['ALB'].fillna(X['ALB'].median())\n",
        "X['ALP'] = X['ALP'].fillna(X['ALP'].median())\n",
        "X['ALT'] = X['ALT'].fillna(X['ALT'].median())\n",
        "X['CHOL'] = X['CHOL'].fillna(X['CHOL'].mean())\n",
        "X['PROT'] = X['PROT'].fillna(X['PROT'].mean())\n",
        "\n",
        "enc = OrdinalEncoder()\n",
        "y = pd.DataFrame(enc.fit_transform(pd.DataFrame(category)), columns=['category'])"
      ],
      "execution_count": null,
      "outputs": []
    },
    {
      "cell_type": "code",
      "metadata": {
        "id": "apxWv4VNnIyw"
      },
      "source": [
        "# For alpha=1.84 and beta=0.2\n",
        "cols_to_drop = ['GGT', 'AST', 'CREA', 'PROT', 'm']"
      ],
      "execution_count": null,
      "outputs": []
    },
    {
      "cell_type": "code",
      "metadata": {
        "id": "IALh2JqMaTM0"
      },
      "source": [
        "X_dropped = X.drop(cols_to_drop, axis=1)\n",
        "scaler = MinMaxScaler()\n",
        "scaled_X = scaler.fit_transform(X_dropped)"
      ],
      "execution_count": null,
      "outputs": []
    },
    {
      "cell_type": "markdown",
      "metadata": {
        "id": "p1ackp_xDy3y"
      },
      "source": [
        "# Utils"
      ]
    },
    {
      "cell_type": "code",
      "metadata": {
        "id": "Po_v2FlwQhsd"
      },
      "source": [
        "def generate_kfold_report(results):\n",
        "    report = {}\n",
        "    report['Accuracy'] = sum(results['test_accuracy'])/len(results['test_accuracy'])\n",
        "    report['Precision'] = sum(results['test_precision_macro'])/len(results['test_precision_macro'])\n",
        "    report['Recall'] = sum(results['test_recall_macro'])/len(results['test_recall_macro'])\n",
        "    report['F1 Score'] = sum(results['test_f1_macro'])/len(results['test_f1_macro'])\n",
        "\n",
        "    return report"
      ],
      "execution_count": null,
      "outputs": []
    },
    {
      "cell_type": "markdown",
      "metadata": {
        "id": "fXH7UFAL-KyU"
      },
      "source": [
        "# LogisticRegresssion"
      ]
    },
    {
      "cell_type": "code",
      "metadata": {
        "id": "Y_DixH8e-KyX"
      },
      "source": [
        "lr = LogisticRegression(\n",
        "    C=1.25,\n",
        "    fit_intercept=True,\n",
        "    l1_ratio=0.5,\n",
        "    max_iter=50,\n",
        "    penalty='elasticnet',\n",
        "    random_state=221,\n",
        "    solver='saga'\n",
        "    )\n",
        "\n",
        "lrcv = StratifiedKFold(n_splits=10, shuffle=True, random_state=0)\n",
        "\n",
        "lrcv_results = cross_validate(\n",
        "    lr,\n",
        "    scaled_X,\n",
        "    y['category'],\n",
        "    cv=lrcv,\n",
        "    scoring=['accuracy', 'f1_macro', 'precision_macro', 'recall_macro'],\n",
        "    n_jobs=-1\n",
        "    )"
      ],
      "execution_count": null,
      "outputs": []
    },
    {
      "cell_type": "code",
      "metadata": {
        "colab": {
          "base_uri": "https://localhost:8080/"
        },
        "id": "fR6g3fmenvyc",
        "outputId": "660d6552-1488-4989-869a-a7a22255a58a"
      },
      "source": [
        "lr_kfold_report = generate_kfold_report(lrcv_results)\n",
        "lr_kfold_report"
      ],
      "execution_count": null,
      "outputs": [
        {
          "output_type": "execute_result",
          "data": {
            "text/plain": [
              "{'Accuracy': 0.8035714285714285,\n",
              " 'F1 Score': 0.7752380952380953,\n",
              " 'Precision': 0.8083333333333332,\n",
              " 'Recall': 0.7833333333333333}"
            ]
          },
          "metadata": {
            "tags": []
          },
          "execution_count": 8
        }
      ]
    },
    {
      "cell_type": "markdown",
      "metadata": {
        "id": "Hmolru1_9l62"
      },
      "source": [
        "# KNeighborsClassifier"
      ]
    },
    {
      "cell_type": "code",
      "metadata": {
        "id": "x8Y5Nubh9s2U"
      },
      "source": [
        "knclf = KNeighborsClassifier(\n",
        "    n_neighbors=10,\n",
        "    algorithm='ball_tree',\n",
        "    p=4\n",
        "    )\n",
        "\n",
        "kncv = StratifiedKFold(n_splits=10, shuffle=True, random_state=182)\n",
        "\n",
        "kncv_results = cross_validate(\n",
        "    knclf,\n",
        "    scaled_X,\n",
        "    y['category'],\n",
        "    cv=kncv,\n",
        "    scoring=['accuracy', 'f1_macro', 'precision_macro', 'recall_macro'],\n",
        "    n_jobs=-1\n",
        "    )"
      ],
      "execution_count": null,
      "outputs": []
    },
    {
      "cell_type": "code",
      "metadata": {
        "colab": {
          "base_uri": "https://localhost:8080/"
        },
        "id": "tkpbdx4qnixx",
        "outputId": "46f6472c-3067-4fd8-c2ca-2c6f2c2efaed"
      },
      "source": [
        "kn_kfold_report = generate_kfold_report(kncv_results)\n",
        "kn_kfold_report"
      ],
      "execution_count": null,
      "outputs": [
        {
          "output_type": "execute_result",
          "data": {
            "text/plain": [
              "{'Accuracy': 0.8160714285714284,\n",
              " 'F1 Score': 0.8077777777777777,\n",
              " 'Precision': 0.8583333333333336,\n",
              " 'Recall': 0.8222222222222222}"
            ]
          },
          "metadata": {
            "tags": []
          },
          "execution_count": 10
        }
      ]
    },
    {
      "cell_type": "markdown",
      "metadata": {
        "id": "2xIVcJd8-KOy"
      },
      "source": [
        "# GaussianNB"
      ]
    },
    {
      "cell_type": "code",
      "metadata": {
        "id": "IeVKZ0eL-KO1"
      },
      "source": [
        "gnb = GaussianNB(var_smoothing=1e-10)\n",
        "\n",
        "gnbcv = StratifiedKFold(n_splits=10, shuffle=True, random_state=302)\n",
        "\n",
        "gnbcv_results = cross_validate(\n",
        "    gnb,\n",
        "    scaled_X,\n",
        "    y['category'],\n",
        "    cv=gnbcv,\n",
        "    scoring=['accuracy', 'f1_macro', 'precision_macro', 'recall_macro'],\n",
        "    n_jobs=-1\n",
        "    )"
      ],
      "execution_count": null,
      "outputs": []
    },
    {
      "cell_type": "code",
      "metadata": {
        "colab": {
          "base_uri": "https://localhost:8080/"
        },
        "id": "Dv6RjpsUoTPS",
        "outputId": "0432795b-7137-48ed-ceca-b683bf677523"
      },
      "source": [
        "gnb_kfold_report = generate_kfold_report(gnbcv_results)\n",
        "gnb_kfold_report"
      ],
      "execution_count": null,
      "outputs": [
        {
          "output_type": "execute_result",
          "data": {
            "text/plain": [
              "{'Accuracy': 0.7874999999999999,\n",
              " 'F1 Score': 0.7725396825396825,\n",
              " 'Precision': 0.836111111111111,\n",
              " 'Recall': 0.7833333333333333}"
            ]
          },
          "metadata": {
            "tags": []
          },
          "execution_count": 12
        }
      ]
    },
    {
      "cell_type": "markdown",
      "metadata": {
        "id": "k5UsHMvX-KgC"
      },
      "source": [
        "# DecisionTreeClassifier"
      ]
    },
    {
      "cell_type": "code",
      "metadata": {
        "id": "9act84OL-KgD"
      },
      "source": [
        "dtclf = DecisionTreeClassifier(\n",
        "    criterion='entropy',\n",
        "    max_depth=7,\n",
        "    max_features=None,\n",
        "    min_samples_leaf=3,\n",
        "    min_samples_split=0.4,\n",
        "    random_state=559,\n",
        "    splitter='random'\n",
        "    )\n",
        "\n",
        "dtcv = StratifiedKFold(n_splits=10, shuffle=True, random_state=985)\n",
        "\n",
        "dtcv_results = cross_validate(\n",
        "    dtclf,\n",
        "    scaled_X,\n",
        "    y['category'],\n",
        "    cv=dtcv,\n",
        "    scoring=['accuracy', 'f1_macro', 'precision_macro', 'recall_macro'],\n",
        "    n_jobs=-1\n",
        "    )"
      ],
      "execution_count": null,
      "outputs": []
    },
    {
      "cell_type": "code",
      "metadata": {
        "colab": {
          "base_uri": "https://localhost:8080/"
        },
        "id": "BHC44YYZoXPw",
        "outputId": "2577a838-b320-4f91-d85e-109aff20e60c"
      },
      "source": [
        "dt_kfold_report = generate_kfold_report(dtcv_results)\n",
        "dt_kfold_report"
      ],
      "execution_count": null,
      "outputs": [
        {
          "output_type": "execute_result",
          "data": {
            "text/plain": [
              "{'Accuracy': 0.7482142857142857,\n",
              " 'F1 Score': 0.7371428571428573,\n",
              " 'Precision': 0.7833333333333332,\n",
              " 'Recall': 0.7500000000000001}"
            ]
          },
          "metadata": {
            "tags": []
          },
          "execution_count": 14
        }
      ]
    },
    {
      "cell_type": "markdown",
      "metadata": {
        "id": "0qCmPMBc-KpA"
      },
      "source": [
        "# RandomForestClassifier"
      ]
    },
    {
      "cell_type": "code",
      "metadata": {
        "id": "Cj6YzJWq-KpD"
      },
      "source": [
        "rfclf = RandomForestClassifier(\n",
        "    criterion='gini',\n",
        "    max_features='sqrt',\n",
        "    min_samples_leaf=2,\n",
        "    min_samples_split=5,\n",
        "    n_estimators=50,\n",
        "    random_state=67\n",
        "    )\n",
        "\n",
        "rfcv = StratifiedKFold(n_splits=10, shuffle=True, random_state=309)\n",
        "\n",
        "rfcv_results = cross_validate(\n",
        "    rfclf,\n",
        "    scaled_X,\n",
        "    y['category'],\n",
        "    cv=rfcv,\n",
        "    scoring=['accuracy', 'f1_macro', 'precision_macro', 'recall_macro'],\n",
        "    n_jobs=-1\n",
        "    )"
      ],
      "execution_count": null,
      "outputs": []
    },
    {
      "cell_type": "code",
      "metadata": {
        "colab": {
          "base_uri": "https://localhost:8080/"
        },
        "id": "aQDKp9-EoaZI",
        "outputId": "ff68cb7f-5dd3-4651-9920-2937d3613982"
      },
      "source": [
        "rf_kfold_report = generate_kfold_report(rfcv_results)\n",
        "rf_kfold_report"
      ],
      "execution_count": null,
      "outputs": [
        {
          "output_type": "execute_result",
          "data": {
            "text/plain": [
              "{'Accuracy': 0.8,\n",
              " 'F1 Score': 0.7773015873015873,\n",
              " 'Precision': 0.825,\n",
              " 'Recall': 0.788888888888889}"
            ]
          },
          "metadata": {
            "tags": []
          },
          "execution_count": 16
        }
      ]
    },
    {
      "cell_type": "markdown",
      "metadata": {
        "id": "liArSRGZ-K6S"
      },
      "source": [
        "# SVC"
      ]
    },
    {
      "cell_type": "code",
      "metadata": {
        "id": "Ki3exXuM-K6U"
      },
      "source": [
        "svc = SVC(\n",
        "    C=0.1,\n",
        "    coef0=0.3,\n",
        "    degree=2,\n",
        "    gamma='scale',\n",
        "    kernel='poly',\n",
        "    random_state=98,\n",
        "    shrinking=True\n",
        "    )\n",
        "\n",
        "svccv = StratifiedKFold(n_splits=10, shuffle=True, random_state=911)\n",
        "\n",
        "svccv_results = cross_validate(\n",
        "    svc,\n",
        "    scaled_X,\n",
        "    y['category'],\n",
        "    cv=svccv,\n",
        "    scoring=['accuracy', 'f1_macro', 'precision_macro', 'recall_macro'],\n",
        "    n_jobs=-1\n",
        "    )"
      ],
      "execution_count": null,
      "outputs": []
    },
    {
      "cell_type": "code",
      "metadata": {
        "colab": {
          "base_uri": "https://localhost:8080/"
        },
        "id": "PqPoCn2yodbU",
        "outputId": "07d37ab8-55b9-4af3-9d8c-7f655f069075"
      },
      "source": [
        "svc_kfold_report = generate_kfold_report(svccv_results)\n",
        "svc_kfold_report"
      ],
      "execution_count": null,
      "outputs": [
        {
          "output_type": "execute_result",
          "data": {
            "text/plain": [
              "{'Accuracy': 0.8178571428571427,\n",
              " 'F1 Score': 0.7884920634920635,\n",
              " 'Precision': 0.8505555555555556,\n",
              " 'Recall': 0.8055555555555556}"
            ]
          },
          "metadata": {
            "tags": []
          },
          "execution_count": 18
        }
      ]
    },
    {
      "cell_type": "markdown",
      "metadata": {
        "id": "9512pyIm-KYP"
      },
      "source": [
        "# MLPClassifier"
      ]
    },
    {
      "cell_type": "code",
      "metadata": {
        "id": "ob66HbLBmzRS"
      },
      "source": [
        "mlpclf = MLPClassifier(\n",
        "    batch_size=8,\n",
        "    activation='relu',\n",
        "    early_stopping=False,\n",
        "    hidden_layer_sizes=(32, 32, 32),\n",
        "    max_iter=500,\n",
        "    random_state=377,\n",
        "    solver='lbfgs'\n",
        "    )\n",
        "\n",
        "mlpclfcv = StratifiedKFold(n_splits=10, shuffle=True, random_state=496)\n",
        "\n",
        "mlpclfcv_results = cross_validate(\n",
        "    mlpclf,\n",
        "    scaled_X,\n",
        "    y['category'],\n",
        "    cv=mlpclfcv,\n",
        "    scoring=['accuracy', 'f1_macro', 'precision_macro', 'recall_macro'],\n",
        "    n_jobs=-1\n",
        "    )"
      ],
      "execution_count": null,
      "outputs": []
    },
    {
      "cell_type": "code",
      "metadata": {
        "colab": {
          "base_uri": "https://localhost:8080/"
        },
        "id": "oertQ3vzogyt",
        "outputId": "dbff9ea2-77dd-42e1-eaed-277933a72daf"
      },
      "source": [
        "mlpclf_kfold_report = generate_kfold_report(mlpclfcv_results)\n",
        "mlpclf_kfold_report"
      ],
      "execution_count": null,
      "outputs": [
        {
          "output_type": "execute_result",
          "data": {
            "text/plain": [
              "{'Accuracy': 0.8678571428571429,\n",
              " 'F1 Score': 0.8404761904761905,\n",
              " 'Precision': 0.8555555555555555,\n",
              " 'Recall': 0.8555555555555557}"
            ]
          },
          "metadata": {
            "tags": []
          },
          "execution_count": 41
        }
      ]
    },
    {
      "cell_type": "markdown",
      "metadata": {
        "id": "WUHJQqEtC9zI"
      },
      "source": [
        "# Evaluating Results"
      ]
    },
    {
      "cell_type": "code",
      "metadata": {
        "id": "yLZkFgLODBmX",
        "colab": {
          "base_uri": "https://localhost:8080/",
          "height": 269
        },
        "outputId": "7dbc28b3-5f4f-4e79-fb1b-72a507679376"
      },
      "source": [
        "pd.DataFrame(\n",
        "    [\n",
        "        dt_kfold_report,\n",
        "        gnb_kfold_report,\n",
        "        rf_kfold_report,\n",
        "        lr_kfold_report,\n",
        "        kn_kfold_report,\n",
        "        svc_kfold_report,\n",
        "        mlpclf_kfold_report\n",
        "    ],\n",
        "    index=[\n",
        "        'Decision Tree',\n",
        "        'Gaussian naive Bayes',\n",
        "        'Random Forest',\n",
        "        'Logistic Regression',\n",
        "        'k-nearest neighbors',\n",
        "        'Support Vector Machine',\n",
        "        'Mutli-layer Perceptron'\n",
        "    ]\n",
        ")"
      ],
      "execution_count": null,
      "outputs": [
        {
          "output_type": "execute_result",
          "data": {
            "text/html": [
              "<div>\n",
              "<style scoped>\n",
              "    .dataframe tbody tr th:only-of-type {\n",
              "        vertical-align: middle;\n",
              "    }\n",
              "\n",
              "    .dataframe tbody tr th {\n",
              "        vertical-align: top;\n",
              "    }\n",
              "\n",
              "    .dataframe thead th {\n",
              "        text-align: right;\n",
              "    }\n",
              "</style>\n",
              "<table border=\"1\" class=\"dataframe\">\n",
              "  <thead>\n",
              "    <tr style=\"text-align: right;\">\n",
              "      <th></th>\n",
              "      <th>Accuracy</th>\n",
              "      <th>Precision</th>\n",
              "      <th>Recall</th>\n",
              "      <th>F1 Score</th>\n",
              "    </tr>\n",
              "  </thead>\n",
              "  <tbody>\n",
              "    <tr>\n",
              "      <th>Decision Tree</th>\n",
              "      <td>0.748214</td>\n",
              "      <td>0.783333</td>\n",
              "      <td>0.750000</td>\n",
              "      <td>0.737143</td>\n",
              "    </tr>\n",
              "    <tr>\n",
              "      <th>Gaussian naive Bayes</th>\n",
              "      <td>0.787500</td>\n",
              "      <td>0.836111</td>\n",
              "      <td>0.783333</td>\n",
              "      <td>0.772540</td>\n",
              "    </tr>\n",
              "    <tr>\n",
              "      <th>Random Forest</th>\n",
              "      <td>0.800000</td>\n",
              "      <td>0.825000</td>\n",
              "      <td>0.788889</td>\n",
              "      <td>0.777302</td>\n",
              "    </tr>\n",
              "    <tr>\n",
              "      <th>Logistic Regression</th>\n",
              "      <td>0.803571</td>\n",
              "      <td>0.808333</td>\n",
              "      <td>0.783333</td>\n",
              "      <td>0.775238</td>\n",
              "    </tr>\n",
              "    <tr>\n",
              "      <th>k-nearest neighbors</th>\n",
              "      <td>0.816071</td>\n",
              "      <td>0.858333</td>\n",
              "      <td>0.822222</td>\n",
              "      <td>0.807778</td>\n",
              "    </tr>\n",
              "    <tr>\n",
              "      <th>Support Vector Machine</th>\n",
              "      <td>0.817857</td>\n",
              "      <td>0.850556</td>\n",
              "      <td>0.805556</td>\n",
              "      <td>0.788492</td>\n",
              "    </tr>\n",
              "    <tr>\n",
              "      <th>Mutli-layer Perceptron</th>\n",
              "      <td>0.867857</td>\n",
              "      <td>0.855556</td>\n",
              "      <td>0.855556</td>\n",
              "      <td>0.840476</td>\n",
              "    </tr>\n",
              "  </tbody>\n",
              "</table>\n",
              "</div>"
            ],
            "text/plain": [
              "                        Accuracy  Precision    Recall  F1 Score\n",
              "Decision Tree           0.748214   0.783333  0.750000  0.737143\n",
              "Gaussian naive Bayes    0.787500   0.836111  0.783333  0.772540\n",
              "Random Forest           0.800000   0.825000  0.788889  0.777302\n",
              "Logistic Regression     0.803571   0.808333  0.783333  0.775238\n",
              "k-nearest neighbors     0.816071   0.858333  0.822222  0.807778\n",
              "Support Vector Machine  0.817857   0.850556  0.805556  0.788492\n",
              "Mutli-layer Perceptron  0.867857   0.855556  0.855556  0.840476"
            ]
          },
          "metadata": {
            "tags": []
          },
          "execution_count": 42
        }
      ]
    }
  ]
}