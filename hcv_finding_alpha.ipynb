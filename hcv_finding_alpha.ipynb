{
  "nbformat": 4,
  "nbformat_minor": 0,
  "metadata": {
    "colab": {
      "name": "hcv_finding_alpha.ipynb",
      "provenance": [],
      "authorship_tag": "ABX9TyNpXGlNh/VKEIBr3F1GnPaR",
      "include_colab_link": true
    },
    "kernelspec": {
      "name": "python3",
      "display_name": "Python 3"
    },
    "language_info": {
      "name": "python"
    }
  },
  "cells": [
    {
      "cell_type": "markdown",
      "metadata": {
        "id": "view-in-github",
        "colab_type": "text"
      },
      "source": [
        "<a href=\"https://colab.research.google.com/github/vigilant-umbrella/hcv-prediction/blob/main/hcv_finding_alpha.ipynb\" target=\"_parent\"><img src=\"https://colab.research.google.com/assets/colab-badge.svg\" alt=\"Open In Colab\"/></a>"
      ]
    },
    {
      "cell_type": "markdown",
      "metadata": {
        "id": "w8Iv3Z7fD36F"
      },
      "source": [
        "# Initialization"
      ]
    },
    {
      "cell_type": "code",
      "metadata": {
        "id": "QatIN-hXPkPZ"
      },
      "source": [
        "import pandas as pd\n",
        "\n",
        "from sklearn.preprocessing import OrdinalEncoder\n",
        "from sklearn.preprocessing import MinMaxScaler\n",
        "from sklearn.model_selection import StratifiedKFold\n",
        "from sklearn.model_selection import cross_validate\n",
        "\n",
        "from sklearn.linear_model import LogisticRegression\n",
        "from sklearn.neighbors import KNeighborsClassifier\n",
        "from sklearn.naive_bayes import GaussianNB\n",
        "from sklearn.tree import DecisionTreeClassifier\n",
        "from sklearn.ensemble import RandomForestClassifier\n",
        "from sklearn.svm import SVC\n",
        "from sklearn.neural_network import MLPClassifier"
      ],
      "execution_count": null,
      "outputs": []
    },
    {
      "cell_type": "markdown",
      "metadata": {
        "id": "5GuK5AOmQBD1"
      },
      "source": [
        "# Data Preprocessing"
      ]
    },
    {
      "cell_type": "code",
      "metadata": {
        "colab": {
          "base_uri": "https://localhost:8080/"
        },
        "id": "-5ujA_ACP0If",
        "outputId": "5e995978-4649-4466-911b-6fd08db63332"
      },
      "source": [
        "%%shell\n",
        "if ! [ -f \"hcvdat0.csv\" ]; then\n",
        "    wget https://archive.ics.uci.edu/ml/machine-learning-databases/00571/hcvdat0.csv \n",
        "fi"
      ],
      "execution_count": null,
      "outputs": [
        {
          "output_type": "execute_result",
          "data": {
            "text/plain": [
              ""
            ]
          },
          "metadata": {
            "tags": []
          },
          "execution_count": 2
        }
      ]
    },
    {
      "cell_type": "code",
      "metadata": {
        "id": "pakcz0nYP1a7"
      },
      "source": [
        "data = pd.read_csv('hcvdat0.csv')\n",
        "\n",
        "data = data[(data['Category']!='0=Blood Donor') & (data['Category']!='0s=suspect Blood Donor')].reset_index(drop=True)\n",
        "\n",
        "X = data.drop(['Unnamed: 0', 'Category'], axis=1)\n",
        "category = pd.DataFrame(data['Category'])\n",
        "\n",
        "X = pd.concat([X, pd.get_dummies(X.Sex, drop_first=True)], axis=1)\n",
        "X = X.drop(['Sex'], axis=1)\n",
        "\n",
        "for col in X.columns:\n",
        "    X[col] = X[col].fillna(sum(X[col].dropna())/len(X[col].dropna()))\n",
        "\n",
        "enc = OrdinalEncoder()\n",
        "y = pd.DataFrame(enc.fit_transform(pd.DataFrame(category)), columns=['category'])"
      ],
      "execution_count": null,
      "outputs": []
    },
    {
      "cell_type": "markdown",
      "metadata": {
        "id": "p1ackp_xDy3y"
      },
      "source": [
        "# alpha"
      ]
    },
    {
      "cell_type": "code",
      "metadata": {
        "id": "gglpdyMBuVzm",
        "colab": {
          "base_uri": "https://localhost:8080/"
        },
        "outputId": "8c0741a7-ee23-4c66-c88a-2aec742b663f"
      },
      "source": [
        "target_corr = pd.concat([X, y], axis=1).corr()['category']\n",
        "target_corr"
      ],
      "execution_count": null,
      "outputs": [
        {
          "output_type": "execute_result",
          "data": {
            "text/plain": [
              "Age         0.495877\n",
              "ALB        -0.706416\n",
              "ALP         0.357904\n",
              "ALT        -0.059218\n",
              "AST         0.208790\n",
              "BIL         0.388040\n",
              "CHE        -0.716708\n",
              "CHOL       -0.385596\n",
              "CREA        0.207934\n",
              "GGT         0.146027\n",
              "PROT       -0.289355\n",
              "m          -0.146990\n",
              "category    1.000000\n",
              "Name: category, dtype: float64"
            ]
          },
          "metadata": {
            "tags": []
          },
          "execution_count": 4
        }
      ]
    },
    {
      "cell_type": "code",
      "metadata": {
        "colab": {
          "base_uri": "https://localhost:8080/"
        },
        "id": "Po_v2FlwQhsd",
        "outputId": "ca70528f-4193-4aa4-d28e-65addbe8e1bf"
      },
      "source": [
        "alphas_vs_cols = []\n",
        "# Checking for alpha = 0, 0.1, 0.2, 0.3, 0.4 and 0.5\n",
        "for alpha in [x*0.1 for x in range(6)]:\n",
        "    cols_to_remove = []\n",
        "    for col, value in target_corr.iteritems():\n",
        "        if abs(value) < alpha:\n",
        "            cols_to_remove.append(col)\n",
        "\n",
        "    alphas_vs_cols.append(cols_to_remove)\n",
        "\n",
        "alphas_vs_cols"
      ],
      "execution_count": null,
      "outputs": [
        {
          "output_type": "execute_result",
          "data": {
            "text/plain": [
              "[[],\n",
              " ['ALT'],\n",
              " ['ALT', 'GGT', 'm'],\n",
              " ['ALT', 'AST', 'CREA', 'GGT', 'PROT', 'm'],\n",
              " ['ALP', 'ALT', 'AST', 'BIL', 'CHOL', 'CREA', 'GGT', 'PROT', 'm'],\n",
              " ['Age', 'ALP', 'ALT', 'AST', 'BIL', 'CHOL', 'CREA', 'GGT', 'PROT', 'm']]"
            ]
          },
          "metadata": {
            "tags": []
          },
          "execution_count": 5
        }
      ]
    },
    {
      "cell_type": "markdown",
      "metadata": {
        "id": "fXH7UFAL-KyU"
      },
      "source": [
        "# LogisticRegresssion"
      ]
    },
    {
      "cell_type": "code",
      "metadata": {
        "id": "Y_DixH8e-KyX"
      },
      "source": [
        "lr_scores = []\n",
        "for cols in alphas_vs_cols:\n",
        "    X_dropped = X.drop(cols, axis=1)\n",
        "    scaler = MinMaxScaler()\n",
        "    scaled_X = scaler.fit_transform(X_dropped)\n",
        "\n",
        "    lr = LogisticRegression(\n",
        "        C=0.75,\n",
        "        fit_intercept=True,\n",
        "        l1_ratio=0,\n",
        "        max_iter=50,\n",
        "        penalty='l1',\n",
        "        random_state=66,\n",
        "        solver='saga'\n",
        "        )\n",
        "\n",
        "    lrcv = StratifiedKFold(n_splits=10, shuffle=True, random_state=2)\n",
        "\n",
        "    lrcv_results = cross_validate(\n",
        "        lr,\n",
        "        scaled_X,\n",
        "        y['category'],\n",
        "        cv=lrcv,\n",
        "        scoring='accuracy',\n",
        "        n_jobs=-1\n",
        "        )\n",
        "\n",
        "    lr_scores.append(sum(lrcv_results['test_score'])/len(lrcv_results['test_score']))"
      ],
      "execution_count": null,
      "outputs": []
    },
    {
      "cell_type": "markdown",
      "metadata": {
        "id": "Hmolru1_9l62"
      },
      "source": [
        "# KNeighborsClassifier"
      ]
    },
    {
      "cell_type": "code",
      "metadata": {
        "id": "x8Y5Nubh9s2U"
      },
      "source": [
        "knclf_scores = []\n",
        "for cols in alphas_vs_cols:\n",
        "    X_dropped = X.drop(cols, axis=1)\n",
        "    scaler = MinMaxScaler()\n",
        "    scaled_X = scaler.fit_transform(X_dropped)\n",
        "\n",
        "    knclf = KNeighborsClassifier(\n",
        "        n_neighbors=9,\n",
        "        algorithm='ball_tree',\n",
        "        p=1\n",
        "        )\n",
        "\n",
        "    kncv = StratifiedKFold(n_splits=10, shuffle=True, random_state=92)\n",
        "\n",
        "    kncv_results = cross_validate(\n",
        "        knclf,\n",
        "        scaled_X,\n",
        "        y['category'],\n",
        "        cv=kncv,\n",
        "        scoring='accuracy',\n",
        "        n_jobs=-1\n",
        "        )\n",
        "\n",
        "    knclf_scores.append(sum(kncv_results['test_score'])/len(kncv_results['test_score']))"
      ],
      "execution_count": null,
      "outputs": []
    },
    {
      "cell_type": "markdown",
      "metadata": {
        "id": "2xIVcJd8-KOy"
      },
      "source": [
        "# GaussianNB"
      ]
    },
    {
      "cell_type": "code",
      "metadata": {
        "id": "IeVKZ0eL-KO1"
      },
      "source": [
        "gnb_scores = []\n",
        "for cols in alphas_vs_cols:\n",
        "    X_dropped = X.drop(cols, axis=1)\n",
        "    scaler = MinMaxScaler()\n",
        "    scaled_X = scaler.fit_transform(X_dropped)\n",
        "\n",
        "    gnb = GaussianNB(var_smoothing=1e-10)\n",
        "\n",
        "    gnbcv = StratifiedKFold(n_splits=10, shuffle=True, random_state=446)\n",
        "\n",
        "    gnbcv_results = cross_validate(\n",
        "        gnb,\n",
        "        scaled_X,\n",
        "        y['category'],\n",
        "        cv=gnbcv,\n",
        "        scoring='accuracy',\n",
        "        n_jobs=-1\n",
        "        )\n",
        "\n",
        "    gnb_scores.append(sum(gnbcv_results['test_score'])/len(gnbcv_results['test_score']))"
      ],
      "execution_count": null,
      "outputs": []
    },
    {
      "cell_type": "markdown",
      "metadata": {
        "id": "k5UsHMvX-KgC"
      },
      "source": [
        "# DecisionTreeClassifier"
      ]
    },
    {
      "cell_type": "code",
      "metadata": {
        "id": "9act84OL-KgD"
      },
      "source": [
        "dtclf_scores = []\n",
        "for cols in alphas_vs_cols:\n",
        "    X_dropped = X.drop(cols, axis=1)\n",
        "    scaler = MinMaxScaler()\n",
        "    scaled_X = scaler.fit_transform(X_dropped)\n",
        "\n",
        "    dtclf = DecisionTreeClassifier(\n",
        "        criterion='entropy',\n",
        "        max_depth=12,\n",
        "        max_features='sqrt',\n",
        "        min_samples_leaf=1,\n",
        "        min_samples_split=0.2,\n",
        "        random_state=652,\n",
        "        splitter='random'\n",
        "        )\n",
        "\n",
        "    dtcv = StratifiedKFold(n_splits=10, shuffle=True, random_state=60)\n",
        "\n",
        "    dtcv_results = cross_validate(\n",
        "        dtclf,\n",
        "        scaled_X,\n",
        "        y['category'],\n",
        "        cv=dtcv,\n",
        "        scoring='accuracy',\n",
        "        n_jobs=-1\n",
        "        )\n",
        "\n",
        "    dtclf_scores.append(sum(dtcv_results['test_score'])/len(dtcv_results['test_score']))"
      ],
      "execution_count": null,
      "outputs": []
    },
    {
      "cell_type": "markdown",
      "metadata": {
        "id": "0qCmPMBc-KpA"
      },
      "source": [
        "# RandomForestClassifier"
      ]
    },
    {
      "cell_type": "code",
      "metadata": {
        "id": "Cj6YzJWq-KpD"
      },
      "source": [
        "rfclf_scores = []\n",
        "for cols in alphas_vs_cols:\n",
        "    X_dropped = X.drop(cols, axis=1)\n",
        "    scaler = MinMaxScaler()\n",
        "    scaled_X = scaler.fit_transform(X_dropped)\n",
        "\n",
        "    rfclf = RandomForestClassifier(\n",
        "        criterion='gini',\n",
        "        max_features='sqrt',\n",
        "        min_samples_leaf=0.1,\n",
        "        min_samples_split=0.4,\n",
        "        n_estimators=50,\n",
        "        random_state=68\n",
        "        )\n",
        "\n",
        "    rfcv = StratifiedKFold(n_splits=10, shuffle=True, random_state=480)\n",
        "\n",
        "    rfcv_results = cross_validate(\n",
        "        rfclf,\n",
        "        scaled_X,\n",
        "        y['category'],\n",
        "        cv=rfcv,\n",
        "        scoring='accuracy',\n",
        "        n_jobs=-1\n",
        "        )\n",
        "\n",
        "    rfclf_scores.append(sum(rfcv_results['test_score'])/len(rfcv_results['test_score']))"
      ],
      "execution_count": null,
      "outputs": []
    },
    {
      "cell_type": "markdown",
      "metadata": {
        "id": "liArSRGZ-K6S"
      },
      "source": [
        "# SVC"
      ]
    },
    {
      "cell_type": "code",
      "metadata": {
        "id": "Ki3exXuM-K6U"
      },
      "source": [
        "svc_scores = []\n",
        "for cols in alphas_vs_cols:\n",
        "    X_dropped = X.drop(cols, axis=1)\n",
        "    scaler = MinMaxScaler()\n",
        "    scaled_X = scaler.fit_transform(X_dropped)\n",
        "\n",
        "    svc = SVC(\n",
        "        C=1.25,\n",
        "        coef0=0.9,\n",
        "        degree=6,\n",
        "        gamma='auto',\n",
        "        kernel='poly',\n",
        "        random_state=0,\n",
        "        shrinking=True\n",
        "        )\n",
        "\n",
        "    svccv = StratifiedKFold(n_splits=10, shuffle=True, random_state=947)\n",
        "\n",
        "    svccv_results = cross_validate(\n",
        "        svc,\n",
        "        scaled_X,\n",
        "        y['category'],\n",
        "        cv=svccv,\n",
        "        scoring='accuracy',\n",
        "        n_jobs=-1\n",
        "        )\n",
        "\n",
        "    svc_scores.append(sum(svccv_results['test_score'])/len(svccv_results['test_score']))"
      ],
      "execution_count": null,
      "outputs": []
    },
    {
      "cell_type": "markdown",
      "metadata": {
        "id": "9512pyIm-KYP"
      },
      "source": [
        "# MLPClassifier"
      ]
    },
    {
      "cell_type": "code",
      "metadata": {
        "id": "ob66HbLBmzRS"
      },
      "source": [
        "mlpclf_scores = []\n",
        "for cols in alphas_vs_cols:\n",
        "    X_dropped = X.drop(cols, axis=1)\n",
        "    scaler = MinMaxScaler()\n",
        "    scaled_X = scaler.fit_transform(X_dropped)\n",
        "\n",
        "    mlpclf = MLPClassifier(\n",
        "        batch_size=32,\n",
        "        activation='relu',\n",
        "        early_stopping=False,\n",
        "        hidden_layer_sizes=(64, 64),\n",
        "        max_iter=300,\n",
        "        random_state=285,\n",
        "        solver='adam'\n",
        "        )\n",
        "\n",
        "    mlpclfcv = StratifiedKFold(n_splits=10, shuffle=True, random_state=289)\n",
        "\n",
        "    mlpclfcv_results = cross_validate(\n",
        "        mlpclf,\n",
        "        scaled_X,\n",
        "        y['category'],\n",
        "        cv=mlpclfcv,\n",
        "        scoring='accuracy',\n",
        "        n_jobs=-1\n",
        "        )\n",
        "\n",
        "    mlpclf_scores.append(sum(mlpclfcv_results['test_score'])/len(mlpclfcv_results['test_score']))"
      ],
      "execution_count": null,
      "outputs": []
    },
    {
      "cell_type": "markdown",
      "metadata": {
        "id": "WUHJQqEtC9zI"
      },
      "source": [
        "# Evaluating Results"
      ]
    },
    {
      "cell_type": "code",
      "metadata": {
        "id": "yLZkFgLODBmX",
        "colab": {
          "base_uri": "https://localhost:8080/",
          "height": 269
        },
        "outputId": "8a22c640-8e6b-4e57-ab44-897cd623e410"
      },
      "source": [
        "pd.DataFrame(\n",
        "    [\n",
        "        lr_scores,\n",
        "        knclf_scores,\n",
        "        gnb_scores,\n",
        "        dtclf_scores,\n",
        "        rfclf_scores,\n",
        "        svc_scores,\n",
        "        mlpclf_scores\n",
        "    ],\n",
        "    columns=[x*0.1 for x in range(6)],\n",
        "    index=[\n",
        "        'Logistic Regresssion',\n",
        "        'k-nearest neighbors',\n",
        "        'Gaussian naive Bayes',\n",
        "        'Decision Tree',\n",
        "        'Random Forest',\n",
        "        'Support Vector Machine',\n",
        "        'Mutli-layer Perceptron'\n",
        "    ]\n",
        ")"
      ],
      "execution_count": null,
      "outputs": [
        {
          "output_type": "execute_result",
          "data": {
            "text/html": [
              "<div>\n",
              "<style scoped>\n",
              "    .dataframe tbody tr th:only-of-type {\n",
              "        vertical-align: middle;\n",
              "    }\n",
              "\n",
              "    .dataframe tbody tr th {\n",
              "        vertical-align: top;\n",
              "    }\n",
              "\n",
              "    .dataframe thead th {\n",
              "        text-align: right;\n",
              "    }\n",
              "</style>\n",
              "<table border=\"1\" class=\"dataframe\">\n",
              "  <thead>\n",
              "    <tr style=\"text-align: right;\">\n",
              "      <th></th>\n",
              "      <th>0.0</th>\n",
              "      <th>0.1</th>\n",
              "      <th>0.2</th>\n",
              "      <th>0.3</th>\n",
              "      <th>0.4</th>\n",
              "      <th>0.5</th>\n",
              "    </tr>\n",
              "  </thead>\n",
              "  <tbody>\n",
              "    <tr>\n",
              "      <th>Logistic Regresssion</th>\n",
              "      <td>0.746429</td>\n",
              "      <td>0.732143</td>\n",
              "      <td>0.775000</td>\n",
              "      <td>0.775000</td>\n",
              "      <td>0.775000</td>\n",
              "      <td>0.642857</td>\n",
              "    </tr>\n",
              "    <tr>\n",
              "      <th>k-nearest neighbors</th>\n",
              "      <td>0.669643</td>\n",
              "      <td>0.696429</td>\n",
              "      <td>0.787500</td>\n",
              "      <td>0.791071</td>\n",
              "      <td>0.760714</td>\n",
              "      <td>0.596429</td>\n",
              "    </tr>\n",
              "    <tr>\n",
              "      <th>Gaussian naive Bayes</th>\n",
              "      <td>0.762500</td>\n",
              "      <td>0.721429</td>\n",
              "      <td>0.723214</td>\n",
              "      <td>0.816071</td>\n",
              "      <td>0.735714</td>\n",
              "      <td>0.669643</td>\n",
              "    </tr>\n",
              "    <tr>\n",
              "      <th>Decision Tree</th>\n",
              "      <td>0.576786</td>\n",
              "      <td>0.610714</td>\n",
              "      <td>0.587500</td>\n",
              "      <td>0.641071</td>\n",
              "      <td>0.680357</td>\n",
              "      <td>0.658929</td>\n",
              "    </tr>\n",
              "    <tr>\n",
              "      <th>Random Forest</th>\n",
              "      <td>0.762500</td>\n",
              "      <td>0.705357</td>\n",
              "      <td>0.721429</td>\n",
              "      <td>0.785714</td>\n",
              "      <td>0.744643</td>\n",
              "      <td>0.705357</td>\n",
              "    </tr>\n",
              "    <tr>\n",
              "      <th>Support Vector Machine</th>\n",
              "      <td>0.717857</td>\n",
              "      <td>0.707143</td>\n",
              "      <td>0.730357</td>\n",
              "      <td>0.826786</td>\n",
              "      <td>0.733929</td>\n",
              "      <td>0.667857</td>\n",
              "    </tr>\n",
              "    <tr>\n",
              "      <th>Mutli-layer Perceptron</th>\n",
              "      <td>0.732143</td>\n",
              "      <td>0.735714</td>\n",
              "      <td>0.760714</td>\n",
              "      <td>0.841071</td>\n",
              "      <td>0.748214</td>\n",
              "      <td>0.694643</td>\n",
              "    </tr>\n",
              "  </tbody>\n",
              "</table>\n",
              "</div>"
            ],
            "text/plain": [
              "                             0.0       0.1  ...       0.4       0.5\n",
              "Logistic Regresssion    0.746429  0.732143  ...  0.775000  0.642857\n",
              "k-nearest neighbors     0.669643  0.696429  ...  0.760714  0.596429\n",
              "Gaussian naive Bayes    0.762500  0.721429  ...  0.735714  0.669643\n",
              "Decision Tree           0.576786  0.610714  ...  0.680357  0.658929\n",
              "Random Forest           0.762500  0.705357  ...  0.744643  0.705357\n",
              "Support Vector Machine  0.717857  0.707143  ...  0.733929  0.667857\n",
              "Mutli-layer Perceptron  0.732143  0.735714  ...  0.748214  0.694643\n",
              "\n",
              "[7 rows x 6 columns]"
            ]
          },
          "metadata": {
            "tags": []
          },
          "execution_count": 13
        }
      ]
    }
  ]
}