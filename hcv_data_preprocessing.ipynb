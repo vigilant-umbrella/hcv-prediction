{
  "nbformat": 4,
  "nbformat_minor": 0,
  "metadata": {
    "colab": {
      "name": "hcv_data_preprocessing.ipynb",
      "provenance": [],
      "collapsed_sections": [],
      "include_colab_link": true
    },
    "kernelspec": {
      "name": "python3",
      "display_name": "Python 3"
    },
    "language_info": {
      "name": "python"
    }
  },
  "cells": [
    {
      "cell_type": "markdown",
      "metadata": {
        "id": "view-in-github",
        "colab_type": "text"
      },
      "source": [
        "<a href=\"https://colab.research.google.com/github/vigilant-umbrella/hcv-prediction/blob/main/hcv_data_preprocessing.ipynb\" target=\"_parent\"><img src=\"https://colab.research.google.com/assets/colab-badge.svg\" alt=\"Open In Colab\"/></a>"
      ]
    },
    {
      "cell_type": "markdown",
      "metadata": {
        "id": "rR8aZinRqmR2"
      },
      "source": [
        "# Initialization"
      ]
    },
    {
      "cell_type": "code",
      "metadata": {
        "id": "QatIN-hXPkPZ"
      },
      "source": [
        "import pandas as pd\n",
        "\n",
        "import matplotlib.pyplot as plt\n",
        "import seaborn as sns\n",
        "\n",
        "from sklearn.preprocessing import OrdinalEncoder\n",
        "from sklearn.feature_selection import f_classif\n",
        "\n",
        "from scipy.stats import kendalltau"
      ],
      "execution_count": null,
      "outputs": []
    },
    {
      "cell_type": "code",
      "metadata": {
        "colab": {
          "base_uri": "https://localhost:8080/"
        },
        "id": "-5ujA_ACP0If",
        "outputId": "421e5192-2b83-4a44-8cd0-1fda93e5ffca"
      },
      "source": [
        "%%shell\n",
        "if ! [ -f \"hcvdat0.csv\" ]; then\n",
        "    wget https://archive.ics.uci.edu/ml/machine-learning-databases/00571/hcvdat0.csv \n",
        "fi"
      ],
      "execution_count": null,
      "outputs": [
        {
          "output_type": "stream",
          "name": "stdout",
          "text": [
            "--2021-09-25 15:14:23--  https://archive.ics.uci.edu/ml/machine-learning-databases/00571/hcvdat0.csv\n",
            "Resolving archive.ics.uci.edu (archive.ics.uci.edu)... 128.195.10.252\n",
            "Connecting to archive.ics.uci.edu (archive.ics.uci.edu)|128.195.10.252|:443... connected.\n",
            "HTTP request sent, awaiting response... 200 OK\n",
            "Length: 46183 (45K) [application/x-httpd-php]\n",
            "Saving to: ‘hcvdat0.csv’\n",
            "\n",
            "hcvdat0.csv         100%[===================>]  45.10K   152KB/s    in 0.3s    \n",
            "\n",
            "2021-09-25 15:14:24 (152 KB/s) - ‘hcvdat0.csv’ saved [46183/46183]\n",
            "\n"
          ]
        },
        {
          "output_type": "execute_result",
          "data": {
            "text/plain": [
              ""
            ]
          },
          "metadata": {},
          "execution_count": 2
        }
      ]
    },
    {
      "cell_type": "markdown",
      "metadata": {
        "id": "biXKJeLnq9vG"
      },
      "source": [
        "# Data Cleaning"
      ]
    },
    {
      "cell_type": "code",
      "metadata": {
        "id": "pakcz0nYP1a7"
      },
      "source": [
        "data = pd.read_csv('hcvdat0.csv')\n",
        "\n",
        "data = data[(data['Category']!='0=Blood Donor') & (data['Category']!='0s=suspect Blood Donor')].reset_index(drop=True)\n",
        "\n",
        "X = data.drop(['Unnamed: 0', 'Category'], axis=1)\n",
        "category = pd.DataFrame(data['Category'])\n",
        "\n",
        "enc = OrdinalEncoder()\n",
        "y = pd.DataFrame(enc.fit_transform(pd.DataFrame(category)), columns=['category'])"
      ],
      "execution_count": null,
      "outputs": []
    },
    {
      "cell_type": "code",
      "metadata": {
        "colab": {
          "base_uri": "https://localhost:8080/",
          "height": 536
        },
        "id": "NoNsOxGYtZDf",
        "outputId": "140e51dc-e9ee-4ff1-c263-18cc4cde6e1e"
      },
      "source": [
        "X.info()\n",
        "X.head()"
      ],
      "execution_count": null,
      "outputs": [
        {
          "output_type": "stream",
          "name": "stdout",
          "text": [
            "<class 'pandas.core.frame.DataFrame'>\n",
            "RangeIndex: 75 entries, 0 to 74\n",
            "Data columns (total 12 columns):\n",
            " #   Column  Non-Null Count  Dtype  \n",
            "---  ------  --------------  -----  \n",
            " 0   Age     75 non-null     int64  \n",
            " 1   Sex     75 non-null     object \n",
            " 2   ALB     74 non-null     float64\n",
            " 3   ALP     57 non-null     float64\n",
            " 4   ALT     74 non-null     float64\n",
            " 5   AST     75 non-null     float64\n",
            " 6   BIL     75 non-null     float64\n",
            " 7   CHE     75 non-null     float64\n",
            " 8   CHOL    72 non-null     float64\n",
            " 9   CREA    75 non-null     float64\n",
            " 10  GGT     75 non-null     float64\n",
            " 11  PROT    74 non-null     float64\n",
            "dtypes: float64(10), int64(1), object(1)\n",
            "memory usage: 7.2+ KB\n"
          ]
        },
        {
          "output_type": "execute_result",
          "data": {
            "text/html": [
              "<div>\n",
              "<style scoped>\n",
              "    .dataframe tbody tr th:only-of-type {\n",
              "        vertical-align: middle;\n",
              "    }\n",
              "\n",
              "    .dataframe tbody tr th {\n",
              "        vertical-align: top;\n",
              "    }\n",
              "\n",
              "    .dataframe thead th {\n",
              "        text-align: right;\n",
              "    }\n",
              "</style>\n",
              "<table border=\"1\" class=\"dataframe\">\n",
              "  <thead>\n",
              "    <tr style=\"text-align: right;\">\n",
              "      <th></th>\n",
              "      <th>Age</th>\n",
              "      <th>Sex</th>\n",
              "      <th>ALB</th>\n",
              "      <th>ALP</th>\n",
              "      <th>ALT</th>\n",
              "      <th>AST</th>\n",
              "      <th>BIL</th>\n",
              "      <th>CHE</th>\n",
              "      <th>CHOL</th>\n",
              "      <th>CREA</th>\n",
              "      <th>GGT</th>\n",
              "      <th>PROT</th>\n",
              "    </tr>\n",
              "  </thead>\n",
              "  <tbody>\n",
              "    <tr>\n",
              "      <th>0</th>\n",
              "      <td>38</td>\n",
              "      <td>m</td>\n",
              "      <td>45.0</td>\n",
              "      <td>56.3</td>\n",
              "      <td>NaN</td>\n",
              "      <td>33.1</td>\n",
              "      <td>7.0</td>\n",
              "      <td>9.58</td>\n",
              "      <td>6.00</td>\n",
              "      <td>77.9</td>\n",
              "      <td>18.9</td>\n",
              "      <td>63.0</td>\n",
              "    </tr>\n",
              "    <tr>\n",
              "      <th>1</th>\n",
              "      <td>19</td>\n",
              "      <td>m</td>\n",
              "      <td>41.0</td>\n",
              "      <td>NaN</td>\n",
              "      <td>87.0</td>\n",
              "      <td>67.0</td>\n",
              "      <td>12.0</td>\n",
              "      <td>7.55</td>\n",
              "      <td>3.90</td>\n",
              "      <td>62.0</td>\n",
              "      <td>65.0</td>\n",
              "      <td>75.0</td>\n",
              "    </tr>\n",
              "    <tr>\n",
              "      <th>2</th>\n",
              "      <td>23</td>\n",
              "      <td>m</td>\n",
              "      <td>47.0</td>\n",
              "      <td>19.1</td>\n",
              "      <td>38.9</td>\n",
              "      <td>164.2</td>\n",
              "      <td>17.0</td>\n",
              "      <td>7.09</td>\n",
              "      <td>3.20</td>\n",
              "      <td>79.3</td>\n",
              "      <td>90.4</td>\n",
              "      <td>70.1</td>\n",
              "    </tr>\n",
              "    <tr>\n",
              "      <th>3</th>\n",
              "      <td>25</td>\n",
              "      <td>m</td>\n",
              "      <td>42.0</td>\n",
              "      <td>38.2</td>\n",
              "      <td>63.3</td>\n",
              "      <td>187.7</td>\n",
              "      <td>14.0</td>\n",
              "      <td>6.00</td>\n",
              "      <td>4.28</td>\n",
              "      <td>66.9</td>\n",
              "      <td>40.2</td>\n",
              "      <td>70.5</td>\n",
              "    </tr>\n",
              "    <tr>\n",
              "      <th>4</th>\n",
              "      <td>27</td>\n",
              "      <td>m</td>\n",
              "      <td>45.0</td>\n",
              "      <td>27.5</td>\n",
              "      <td>10.5</td>\n",
              "      <td>37.8</td>\n",
              "      <td>10.0</td>\n",
              "      <td>8.77</td>\n",
              "      <td>3.20</td>\n",
              "      <td>55.2</td>\n",
              "      <td>35.9</td>\n",
              "      <td>74.5</td>\n",
              "    </tr>\n",
              "  </tbody>\n",
              "</table>\n",
              "</div>"
            ],
            "text/plain": [
              "   Age Sex   ALB   ALP   ALT    AST   BIL   CHE  CHOL  CREA   GGT  PROT\n",
              "0   38   m  45.0  56.3   NaN   33.1   7.0  9.58  6.00  77.9  18.9  63.0\n",
              "1   19   m  41.0   NaN  87.0   67.0  12.0  7.55  3.90  62.0  65.0  75.0\n",
              "2   23   m  47.0  19.1  38.9  164.2  17.0  7.09  3.20  79.3  90.4  70.1\n",
              "3   25   m  42.0  38.2  63.3  187.7  14.0  6.00  4.28  66.9  40.2  70.5\n",
              "4   27   m  45.0  27.5  10.5   37.8  10.0  8.77  3.20  55.2  35.9  74.5"
            ]
          },
          "metadata": {},
          "execution_count": 4
        }
      ]
    },
    {
      "cell_type": "code",
      "metadata": {
        "id": "1LVDYTrMT6uc",
        "colab": {
          "base_uri": "https://localhost:8080/"
        },
        "outputId": "1f9551bb-975c-49b9-85db-5baceee1def3"
      },
      "source": [
        "X['Sex'].value_counts()"
      ],
      "execution_count": null,
      "outputs": [
        {
          "output_type": "execute_result",
          "data": {
            "text/plain": [
              "m    53\n",
              "f    22\n",
              "Name: Sex, dtype: int64"
            ]
          },
          "metadata": {},
          "execution_count": 5
        }
      ]
    },
    {
      "cell_type": "code",
      "metadata": {
        "colab": {
          "base_uri": "https://localhost:8080/"
        },
        "id": "fYNk0P7JVYAW",
        "outputId": "3d2909df-674d-4e2b-b24a-362b571eb5d6"
      },
      "source": [
        "X['Age'].describe()"
      ],
      "execution_count": null,
      "outputs": [
        {
          "output_type": "execute_result",
          "data": {
            "text/plain": [
              "count    75.000000\n",
              "mean     48.426667\n",
              "std      12.319149\n",
              "min      19.000000\n",
              "25%      39.500000\n",
              "50%      49.000000\n",
              "75%      58.000000\n",
              "max      75.000000\n",
              "Name: Age, dtype: float64"
            ]
          },
          "metadata": {},
          "execution_count": 6
        }
      ]
    },
    {
      "cell_type": "code",
      "metadata": {
        "colab": {
          "base_uri": "https://localhost:8080/",
          "height": 206
        },
        "id": "vbEL6V3EtZDg",
        "outputId": "91c6b599-6183-4ae6-a71e-575dd5719bb3"
      },
      "source": [
        "y.head()"
      ],
      "execution_count": null,
      "outputs": [
        {
          "output_type": "execute_result",
          "data": {
            "text/html": [
              "<div>\n",
              "<style scoped>\n",
              "    .dataframe tbody tr th:only-of-type {\n",
              "        vertical-align: middle;\n",
              "    }\n",
              "\n",
              "    .dataframe tbody tr th {\n",
              "        vertical-align: top;\n",
              "    }\n",
              "\n",
              "    .dataframe thead th {\n",
              "        text-align: right;\n",
              "    }\n",
              "</style>\n",
              "<table border=\"1\" class=\"dataframe\">\n",
              "  <thead>\n",
              "    <tr style=\"text-align: right;\">\n",
              "      <th></th>\n",
              "      <th>category</th>\n",
              "    </tr>\n",
              "  </thead>\n",
              "  <tbody>\n",
              "    <tr>\n",
              "      <th>0</th>\n",
              "      <td>0.0</td>\n",
              "    </tr>\n",
              "    <tr>\n",
              "      <th>1</th>\n",
              "      <td>0.0</td>\n",
              "    </tr>\n",
              "    <tr>\n",
              "      <th>2</th>\n",
              "      <td>0.0</td>\n",
              "    </tr>\n",
              "    <tr>\n",
              "      <th>3</th>\n",
              "      <td>0.0</td>\n",
              "    </tr>\n",
              "    <tr>\n",
              "      <th>4</th>\n",
              "      <td>0.0</td>\n",
              "    </tr>\n",
              "  </tbody>\n",
              "</table>\n",
              "</div>"
            ],
            "text/plain": [
              "   category\n",
              "0       0.0\n",
              "1       0.0\n",
              "2       0.0\n",
              "3       0.0\n",
              "4       0.0"
            ]
          },
          "metadata": {},
          "execution_count": 7
        }
      ]
    },
    {
      "cell_type": "code",
      "metadata": {
        "colab": {
          "base_uri": "https://localhost:8080/"
        },
        "id": "kEIV7iNItZDi",
        "outputId": "d88967bc-a5e0-42fc-f7f9-fac8f2e29eb6"
      },
      "source": [
        "category.value_counts()"
      ],
      "execution_count": null,
      "outputs": [
        {
          "output_type": "execute_result",
          "data": {
            "text/plain": [
              "Category   \n",
              "3=Cirrhosis    30\n",
              "1=Hepatitis    24\n",
              "2=Fibrosis     21\n",
              "dtype: int64"
            ]
          },
          "metadata": {},
          "execution_count": 8
        }
      ]
    },
    {
      "cell_type": "code",
      "metadata": {
        "colab": {
          "base_uri": "https://localhost:8080/"
        },
        "id": "aU34EYdatZDi",
        "outputId": "1481368b-ed33-4673-8740-5fed5af05626"
      },
      "source": [
        "y.value_counts()"
      ],
      "execution_count": null,
      "outputs": [
        {
          "output_type": "execute_result",
          "data": {
            "text/plain": [
              "category\n",
              "2.0         30\n",
              "0.0         24\n",
              "1.0         21\n",
              "dtype: int64"
            ]
          },
          "metadata": {},
          "execution_count": 9
        }
      ]
    },
    {
      "cell_type": "code",
      "metadata": {
        "id": "r3KZHBobtZDk"
      },
      "source": [
        "X = pd.concat([X, pd.get_dummies(X.Sex, drop_first=True)], axis=1)\n",
        "X = X.drop(['Sex'], axis=1)"
      ],
      "execution_count": null,
      "outputs": []
    },
    {
      "cell_type": "code",
      "metadata": {
        "colab": {
          "base_uri": "https://localhost:8080/",
          "height": 206
        },
        "id": "-LFHGqhMtZDl",
        "outputId": "09f7ec59-3979-420c-a541-268069c25743"
      },
      "source": [
        "X.head()"
      ],
      "execution_count": null,
      "outputs": [
        {
          "output_type": "execute_result",
          "data": {
            "text/html": [
              "<div>\n",
              "<style scoped>\n",
              "    .dataframe tbody tr th:only-of-type {\n",
              "        vertical-align: middle;\n",
              "    }\n",
              "\n",
              "    .dataframe tbody tr th {\n",
              "        vertical-align: top;\n",
              "    }\n",
              "\n",
              "    .dataframe thead th {\n",
              "        text-align: right;\n",
              "    }\n",
              "</style>\n",
              "<table border=\"1\" class=\"dataframe\">\n",
              "  <thead>\n",
              "    <tr style=\"text-align: right;\">\n",
              "      <th></th>\n",
              "      <th>Age</th>\n",
              "      <th>ALB</th>\n",
              "      <th>ALP</th>\n",
              "      <th>ALT</th>\n",
              "      <th>AST</th>\n",
              "      <th>BIL</th>\n",
              "      <th>CHE</th>\n",
              "      <th>CHOL</th>\n",
              "      <th>CREA</th>\n",
              "      <th>GGT</th>\n",
              "      <th>PROT</th>\n",
              "      <th>m</th>\n",
              "    </tr>\n",
              "  </thead>\n",
              "  <tbody>\n",
              "    <tr>\n",
              "      <th>0</th>\n",
              "      <td>38</td>\n",
              "      <td>45.0</td>\n",
              "      <td>56.3</td>\n",
              "      <td>NaN</td>\n",
              "      <td>33.1</td>\n",
              "      <td>7.0</td>\n",
              "      <td>9.58</td>\n",
              "      <td>6.00</td>\n",
              "      <td>77.9</td>\n",
              "      <td>18.9</td>\n",
              "      <td>63.0</td>\n",
              "      <td>1</td>\n",
              "    </tr>\n",
              "    <tr>\n",
              "      <th>1</th>\n",
              "      <td>19</td>\n",
              "      <td>41.0</td>\n",
              "      <td>NaN</td>\n",
              "      <td>87.0</td>\n",
              "      <td>67.0</td>\n",
              "      <td>12.0</td>\n",
              "      <td>7.55</td>\n",
              "      <td>3.90</td>\n",
              "      <td>62.0</td>\n",
              "      <td>65.0</td>\n",
              "      <td>75.0</td>\n",
              "      <td>1</td>\n",
              "    </tr>\n",
              "    <tr>\n",
              "      <th>2</th>\n",
              "      <td>23</td>\n",
              "      <td>47.0</td>\n",
              "      <td>19.1</td>\n",
              "      <td>38.9</td>\n",
              "      <td>164.2</td>\n",
              "      <td>17.0</td>\n",
              "      <td>7.09</td>\n",
              "      <td>3.20</td>\n",
              "      <td>79.3</td>\n",
              "      <td>90.4</td>\n",
              "      <td>70.1</td>\n",
              "      <td>1</td>\n",
              "    </tr>\n",
              "    <tr>\n",
              "      <th>3</th>\n",
              "      <td>25</td>\n",
              "      <td>42.0</td>\n",
              "      <td>38.2</td>\n",
              "      <td>63.3</td>\n",
              "      <td>187.7</td>\n",
              "      <td>14.0</td>\n",
              "      <td>6.00</td>\n",
              "      <td>4.28</td>\n",
              "      <td>66.9</td>\n",
              "      <td>40.2</td>\n",
              "      <td>70.5</td>\n",
              "      <td>1</td>\n",
              "    </tr>\n",
              "    <tr>\n",
              "      <th>4</th>\n",
              "      <td>27</td>\n",
              "      <td>45.0</td>\n",
              "      <td>27.5</td>\n",
              "      <td>10.5</td>\n",
              "      <td>37.8</td>\n",
              "      <td>10.0</td>\n",
              "      <td>8.77</td>\n",
              "      <td>3.20</td>\n",
              "      <td>55.2</td>\n",
              "      <td>35.9</td>\n",
              "      <td>74.5</td>\n",
              "      <td>1</td>\n",
              "    </tr>\n",
              "  </tbody>\n",
              "</table>\n",
              "</div>"
            ],
            "text/plain": [
              "   Age   ALB   ALP   ALT    AST   BIL   CHE  CHOL  CREA   GGT  PROT  m\n",
              "0   38  45.0  56.3   NaN   33.1   7.0  9.58  6.00  77.9  18.9  63.0  1\n",
              "1   19  41.0   NaN  87.0   67.0  12.0  7.55  3.90  62.0  65.0  75.0  1\n",
              "2   23  47.0  19.1  38.9  164.2  17.0  7.09  3.20  79.3  90.4  70.1  1\n",
              "3   25  42.0  38.2  63.3  187.7  14.0  6.00  4.28  66.9  40.2  70.5  1\n",
              "4   27  45.0  27.5  10.5   37.8  10.0  8.77  3.20  55.2  35.9  74.5  1"
            ]
          },
          "metadata": {},
          "execution_count": 11
        }
      ]
    },
    {
      "cell_type": "markdown",
      "metadata": {
        "id": "Btuu6aolqtvz"
      },
      "source": [
        "# Filling missing values"
      ]
    },
    {
      "cell_type": "code",
      "metadata": {
        "colab": {
          "base_uri": "https://localhost:8080/",
          "height": 651
        },
        "id": "jpnUrhKfqFoW",
        "outputId": "52445b16-1ac7-4047-d3c9-36da10ad1b06"
      },
      "source": [
        "_, ax1 = plt.subplots(1,3, figsize=(15,5))\n",
        "for i, c in enumerate(['ALB', 'ALP', 'ALT']):\n",
        "    ax1[i].hist(X[c], bins = 20)\n",
        "    ax1[i].set_xlabel(c)\n",
        "\n",
        "_, ax2 = plt.subplots(1,2, figsize=(15,5))\n",
        "for i, c in enumerate(['CHOL', 'PROT']):\n",
        "    ax2[i].hist(X[c], bins = 20)\n",
        "    ax2[i].set_xlabel(c)\n",
        "\n",
        "plt.show()"
      ],
      "execution_count": null,
      "outputs": [
        {
          "output_type": "display_data",
          "data": {
            "image/png": "[encoded data removed]",
            "text/plain": [
              "<Figure size 1080x360 with 3 Axes>"
            ]
          },
          "metadata": {
            "needs_background": "light"
          }
        },
        {
          "output_type": "display_data",
          "data": {
            "image/png": "[encoded data removed]",
            "text/plain": [
              "<Figure size 1080x360 with 2 Axes>"
            ]
          },
          "metadata": {
            "needs_background": "light"
          }
        }
      ]
    },
    {
      "cell_type": "code",
      "metadata": {
        "id": "gglpdyMBuVzm"
      },
      "source": [
        "X['ALB'] = X['ALB'].fillna(X['ALB'].median())\n",
        "X['ALP'] = X['ALP'].fillna(X['ALP'].median())\n",
        "X['ALT'] = X['ALT'].fillna(X['ALT'].median())\n",
        "X['CHOL'] = X['CHOL'].fillna(X['CHOL'].mean())\n",
        "X['PROT'] = X['PROT'].fillna(X['PROT'].mean())"
      ],
      "execution_count": null,
      "outputs": []
    },
    {
      "cell_type": "code",
      "metadata": {
        "colab": {
          "base_uri": "https://localhost:8080/",
          "height": 536
        },
        "id": "SPH38ZsTumpW",
        "outputId": "6872efeb-577d-4abd-9c18-2f9b6a448b84"
      },
      "source": [
        "X.info()\n",
        "X.head()"
      ],
      "execution_count": null,
      "outputs": [
        {
          "output_type": "stream",
          "name": "stdout",
          "text": [
            "<class 'pandas.core.frame.DataFrame'>\n",
            "RangeIndex: 75 entries, 0 to 74\n",
            "Data columns (total 12 columns):\n",
            " #   Column  Non-Null Count  Dtype  \n",
            "---  ------  --------------  -----  \n",
            " 0   Age     75 non-null     int64  \n",
            " 1   ALB     75 non-null     float64\n",
            " 2   ALP     75 non-null     float64\n",
            " 3   ALT     75 non-null     float64\n",
            " 4   AST     75 non-null     float64\n",
            " 5   BIL     75 non-null     float64\n",
            " 6   CHE     75 non-null     float64\n",
            " 7   CHOL    75 non-null     float64\n",
            " 8   CREA    75 non-null     float64\n",
            " 9   GGT     75 non-null     float64\n",
            " 10  PROT    75 non-null     float64\n",
            " 11  m       75 non-null     uint8  \n",
            "dtypes: float64(10), int64(1), uint8(1)\n",
            "memory usage: 6.6 KB\n"
          ]
        },
        {
          "output_type": "execute_result",
          "data": {
            "text/html": [
              "<div>\n",
              "<style scoped>\n",
              "    .dataframe tbody tr th:only-of-type {\n",
              "        vertical-align: middle;\n",
              "    }\n",
              "\n",
              "    .dataframe tbody tr th {\n",
              "        vertical-align: top;\n",
              "    }\n",
              "\n",
              "    .dataframe thead th {\n",
              "        text-align: right;\n",
              "    }\n",
              "</style>\n",
              "<table border=\"1\" class=\"dataframe\">\n",
              "  <thead>\n",
              "    <tr style=\"text-align: right;\">\n",
              "      <th></th>\n",
              "      <th>Age</th>\n",
              "      <th>ALB</th>\n",
              "      <th>ALP</th>\n",
              "      <th>ALT</th>\n",
              "      <th>AST</th>\n",
              "      <th>BIL</th>\n",
              "      <th>CHE</th>\n",
              "      <th>CHOL</th>\n",
              "      <th>CREA</th>\n",
              "      <th>GGT</th>\n",
              "      <th>PROT</th>\n",
              "      <th>m</th>\n",
              "    </tr>\n",
              "  </thead>\n",
              "  <tbody>\n",
              "    <tr>\n",
              "      <th>0</th>\n",
              "      <td>38</td>\n",
              "      <td>45.0</td>\n",
              "      <td>56.3</td>\n",
              "      <td>14.95</td>\n",
              "      <td>33.1</td>\n",
              "      <td>7.0</td>\n",
              "      <td>9.58</td>\n",
              "      <td>6.00</td>\n",
              "      <td>77.9</td>\n",
              "      <td>18.9</td>\n",
              "      <td>63.0</td>\n",
              "      <td>1</td>\n",
              "    </tr>\n",
              "    <tr>\n",
              "      <th>1</th>\n",
              "      <td>19</td>\n",
              "      <td>41.0</td>\n",
              "      <td>41.6</td>\n",
              "      <td>87.00</td>\n",
              "      <td>67.0</td>\n",
              "      <td>12.0</td>\n",
              "      <td>7.55</td>\n",
              "      <td>3.90</td>\n",
              "      <td>62.0</td>\n",
              "      <td>65.0</td>\n",
              "      <td>75.0</td>\n",
              "      <td>1</td>\n",
              "    </tr>\n",
              "    <tr>\n",
              "      <th>2</th>\n",
              "      <td>23</td>\n",
              "      <td>47.0</td>\n",
              "      <td>19.1</td>\n",
              "      <td>38.90</td>\n",
              "      <td>164.2</td>\n",
              "      <td>17.0</td>\n",
              "      <td>7.09</td>\n",
              "      <td>3.20</td>\n",
              "      <td>79.3</td>\n",
              "      <td>90.4</td>\n",
              "      <td>70.1</td>\n",
              "      <td>1</td>\n",
              "    </tr>\n",
              "    <tr>\n",
              "      <th>3</th>\n",
              "      <td>25</td>\n",
              "      <td>42.0</td>\n",
              "      <td>38.2</td>\n",
              "      <td>63.30</td>\n",
              "      <td>187.7</td>\n",
              "      <td>14.0</td>\n",
              "      <td>6.00</td>\n",
              "      <td>4.28</td>\n",
              "      <td>66.9</td>\n",
              "      <td>40.2</td>\n",
              "      <td>70.5</td>\n",
              "      <td>1</td>\n",
              "    </tr>\n",
              "    <tr>\n",
              "      <th>4</th>\n",
              "      <td>27</td>\n",
              "      <td>45.0</td>\n",
              "      <td>27.5</td>\n",
              "      <td>10.50</td>\n",
              "      <td>37.8</td>\n",
              "      <td>10.0</td>\n",
              "      <td>8.77</td>\n",
              "      <td>3.20</td>\n",
              "      <td>55.2</td>\n",
              "      <td>35.9</td>\n",
              "      <td>74.5</td>\n",
              "      <td>1</td>\n",
              "    </tr>\n",
              "  </tbody>\n",
              "</table>\n",
              "</div>"
            ],
            "text/plain": [
              "   Age   ALB   ALP    ALT    AST   BIL   CHE  CHOL  CREA   GGT  PROT  m\n",
              "0   38  45.0  56.3  14.95   33.1   7.0  9.58  6.00  77.9  18.9  63.0  1\n",
              "1   19  41.0  41.6  87.00   67.0  12.0  7.55  3.90  62.0  65.0  75.0  1\n",
              "2   23  47.0  19.1  38.90  164.2  17.0  7.09  3.20  79.3  90.4  70.1  1\n",
              "3   25  42.0  38.2  63.30  187.7  14.0  6.00  4.28  66.9  40.2  70.5  1\n",
              "4   27  45.0  27.5  10.50   37.8  10.0  8.77  3.20  55.2  35.9  74.5  1"
            ]
          },
          "metadata": {},
          "execution_count": 14
        }
      ]
    },
    {
      "cell_type": "markdown",
      "metadata": {
        "id": "e9GrB0x1qxFB"
      },
      "source": [
        "# Feature-feature correlation"
      ]
    },
    {
      "cell_type": "markdown",
      "metadata": {
        "id": "4QUcCq01rHrx"
      },
      "source": [
        "## Pearson's Correlation Coefficient"
      ]
    },
    {
      "cell_type": "code",
      "metadata": {
        "colab": {
          "base_uri": "https://localhost:8080/",
          "height": 426
        },
        "id": "ar3DND4qtZDm",
        "outputId": "237a09b6-f906-4c9b-df91-9570ba8493de"
      },
      "source": [
        "pearson_corr = X.corr(method='pearson')\n",
        "pearson_corr"
      ],
      "execution_count": null,
      "outputs": [
        {
          "output_type": "execute_result",
          "data": {
            "text/html": [
              "<div>\n",
              "<style scoped>\n",
              "    .dataframe tbody tr th:only-of-type {\n",
              "        vertical-align: middle;\n",
              "    }\n",
              "\n",
              "    .dataframe tbody tr th {\n",
              "        vertical-align: top;\n",
              "    }\n",
              "\n",
              "    .dataframe thead th {\n",
              "        text-align: right;\n",
              "    }\n",
              "</style>\n",
              "<table border=\"1\" class=\"dataframe\">\n",
              "  <thead>\n",
              "    <tr style=\"text-align: right;\">\n",
              "      <th></th>\n",
              "      <th>Age</th>\n",
              "      <th>ALB</th>\n",
              "      <th>ALP</th>\n",
              "      <th>ALT</th>\n",
              "      <th>AST</th>\n",
              "      <th>BIL</th>\n",
              "      <th>CHE</th>\n",
              "      <th>CHOL</th>\n",
              "      <th>CREA</th>\n",
              "      <th>GGT</th>\n",
              "      <th>PROT</th>\n",
              "      <th>m</th>\n",
              "    </tr>\n",
              "  </thead>\n",
              "  <tbody>\n",
              "    <tr>\n",
              "      <th>Age</th>\n",
              "      <td>1.000000</td>\n",
              "      <td>-0.416159</td>\n",
              "      <td>0.225077</td>\n",
              "      <td>-0.015231</td>\n",
              "      <td>0.155447</td>\n",
              "      <td>0.094624</td>\n",
              "      <td>-0.343094</td>\n",
              "      <td>-0.150006</td>\n",
              "      <td>-0.036005</td>\n",
              "      <td>0.241202</td>\n",
              "      <td>-0.094804</td>\n",
              "      <td>-0.250364</td>\n",
              "    </tr>\n",
              "    <tr>\n",
              "      <th>ALB</th>\n",
              "      <td>-0.416159</td>\n",
              "      <td>1.000000</td>\n",
              "      <td>-0.350854</td>\n",
              "      <td>0.174105</td>\n",
              "      <td>-0.208762</td>\n",
              "      <td>-0.546733</td>\n",
              "      <td>0.755507</td>\n",
              "      <td>0.341935</td>\n",
              "      <td>-0.117845</td>\n",
              "      <td>-0.064488</td>\n",
              "      <td>0.461053</td>\n",
              "      <td>0.123938</td>\n",
              "    </tr>\n",
              "    <tr>\n",
              "      <th>ALP</th>\n",
              "      <td>0.225077</td>\n",
              "      <td>-0.350854</td>\n",
              "      <td>1.000000</td>\n",
              "      <td>-0.186896</td>\n",
              "      <td>0.135145</td>\n",
              "      <td>0.146690</td>\n",
              "      <td>-0.260426</td>\n",
              "      <td>0.042190</td>\n",
              "      <td>0.264887</td>\n",
              "      <td>0.668420</td>\n",
              "      <td>-0.253271</td>\n",
              "      <td>-0.153949</td>\n",
              "    </tr>\n",
              "    <tr>\n",
              "      <th>ALT</th>\n",
              "      <td>-0.015231</td>\n",
              "      <td>0.174105</td>\n",
              "      <td>-0.186896</td>\n",
              "      <td>1.000000</td>\n",
              "      <td>0.065972</td>\n",
              "      <td>-0.155738</td>\n",
              "      <td>0.150974</td>\n",
              "      <td>0.040327</td>\n",
              "      <td>-0.137681</td>\n",
              "      <td>-0.033451</td>\n",
              "      <td>0.337921</td>\n",
              "      <td>0.034092</td>\n",
              "    </tr>\n",
              "    <tr>\n",
              "      <th>AST</th>\n",
              "      <td>0.155447</td>\n",
              "      <td>-0.208762</td>\n",
              "      <td>0.135145</td>\n",
              "      <td>0.065972</td>\n",
              "      <td>1.000000</td>\n",
              "      <td>0.100318</td>\n",
              "      <td>-0.304497</td>\n",
              "      <td>-0.201560</td>\n",
              "      <td>-0.172339</td>\n",
              "      <td>0.302988</td>\n",
              "      <td>-0.005127</td>\n",
              "      <td>0.104087</td>\n",
              "    </tr>\n",
              "    <tr>\n",
              "      <th>BIL</th>\n",
              "      <td>0.094624</td>\n",
              "      <td>-0.546733</td>\n",
              "      <td>0.146690</td>\n",
              "      <td>-0.155738</td>\n",
              "      <td>0.100318</td>\n",
              "      <td>1.000000</td>\n",
              "      <td>-0.538962</td>\n",
              "      <td>-0.112269</td>\n",
              "      <td>-0.048020</td>\n",
              "      <td>0.074370</td>\n",
              "      <td>-0.258045</td>\n",
              "      <td>0.087324</td>\n",
              "    </tr>\n",
              "    <tr>\n",
              "      <th>CHE</th>\n",
              "      <td>-0.343094</td>\n",
              "      <td>0.755507</td>\n",
              "      <td>-0.260426</td>\n",
              "      <td>0.150974</td>\n",
              "      <td>-0.304497</td>\n",
              "      <td>-0.538962</td>\n",
              "      <td>1.000000</td>\n",
              "      <td>0.457806</td>\n",
              "      <td>-0.046845</td>\n",
              "      <td>-0.137033</td>\n",
              "      <td>0.324888</td>\n",
              "      <td>0.077168</td>\n",
              "    </tr>\n",
              "    <tr>\n",
              "      <th>CHOL</th>\n",
              "      <td>-0.150006</td>\n",
              "      <td>0.341935</td>\n",
              "      <td>0.042190</td>\n",
              "      <td>0.040327</td>\n",
              "      <td>-0.201560</td>\n",
              "      <td>-0.112269</td>\n",
              "      <td>0.457806</td>\n",
              "      <td>1.000000</td>\n",
              "      <td>-0.050703</td>\n",
              "      <td>0.158887</td>\n",
              "      <td>0.174804</td>\n",
              "      <td>-0.032181</td>\n",
              "    </tr>\n",
              "    <tr>\n",
              "      <th>CREA</th>\n",
              "      <td>-0.036005</td>\n",
              "      <td>-0.117845</td>\n",
              "      <td>0.264887</td>\n",
              "      <td>-0.137681</td>\n",
              "      <td>-0.172339</td>\n",
              "      <td>-0.048020</td>\n",
              "      <td>-0.046845</td>\n",
              "      <td>-0.050703</td>\n",
              "      <td>1.000000</td>\n",
              "      <td>0.047239</td>\n",
              "      <td>-0.235819</td>\n",
              "      <td>0.032793</td>\n",
              "    </tr>\n",
              "    <tr>\n",
              "      <th>GGT</th>\n",
              "      <td>0.241202</td>\n",
              "      <td>-0.064488</td>\n",
              "      <td>0.668420</td>\n",
              "      <td>-0.033451</td>\n",
              "      <td>0.302988</td>\n",
              "      <td>0.074370</td>\n",
              "      <td>-0.137033</td>\n",
              "      <td>0.158887</td>\n",
              "      <td>0.047239</td>\n",
              "      <td>1.000000</td>\n",
              "      <td>0.022468</td>\n",
              "      <td>0.044079</td>\n",
              "    </tr>\n",
              "    <tr>\n",
              "      <th>PROT</th>\n",
              "      <td>-0.094804</td>\n",
              "      <td>0.461053</td>\n",
              "      <td>-0.253271</td>\n",
              "      <td>0.337921</td>\n",
              "      <td>-0.005127</td>\n",
              "      <td>-0.258045</td>\n",
              "      <td>0.324888</td>\n",
              "      <td>0.174804</td>\n",
              "      <td>-0.235819</td>\n",
              "      <td>0.022468</td>\n",
              "      <td>1.000000</td>\n",
              "      <td>-0.156148</td>\n",
              "    </tr>\n",
              "    <tr>\n",
              "      <th>m</th>\n",
              "      <td>-0.250364</td>\n",
              "      <td>0.123938</td>\n",
              "      <td>-0.153949</td>\n",
              "      <td>0.034092</td>\n",
              "      <td>0.104087</td>\n",
              "      <td>0.087324</td>\n",
              "      <td>0.077168</td>\n",
              "      <td>-0.032181</td>\n",
              "      <td>0.032793</td>\n",
              "      <td>0.044079</td>\n",
              "      <td>-0.156148</td>\n",
              "      <td>1.000000</td>\n",
              "    </tr>\n",
              "  </tbody>\n",
              "</table>\n",
              "</div>"
            ],
            "text/plain": [
              "           Age       ALB       ALP  ...       GGT      PROT         m\n",
              "Age   1.000000 -0.416159  0.225077  ...  0.241202 -0.094804 -0.250364\n",
              "ALB  -0.416159  1.000000 -0.350854  ... -0.064488  0.461053  0.123938\n",
              "ALP   0.225077 -0.350854  1.000000  ...  0.668420 -0.253271 -0.153949\n",
              "ALT  -0.015231  0.174105 -0.186896  ... -0.033451  0.337921  0.034092\n",
              "AST   0.155447 -0.208762  0.135145  ...  0.302988 -0.005127  0.104087\n",
              "BIL   0.094624 -0.546733  0.146690  ...  0.074370 -0.258045  0.087324\n",
              "CHE  -0.343094  0.755507 -0.260426  ... -0.137033  0.324888  0.077168\n",
              "CHOL -0.150006  0.341935  0.042190  ...  0.158887  0.174804 -0.032181\n",
              "CREA -0.036005 -0.117845  0.264887  ...  0.047239 -0.235819  0.032793\n",
              "GGT   0.241202 -0.064488  0.668420  ...  1.000000  0.022468  0.044079\n",
              "PROT -0.094804  0.461053 -0.253271  ...  0.022468  1.000000 -0.156148\n",
              "m    -0.250364  0.123938 -0.153949  ...  0.044079 -0.156148  1.000000\n",
              "\n",
              "[12 rows x 12 columns]"
            ]
          },
          "metadata": {},
          "execution_count": 15
        }
      ]
    },
    {
      "cell_type": "code",
      "metadata": {
        "colab": {
          "base_uri": "https://localhost:8080/",
          "height": 395
        },
        "id": "cRJ3H71ctZDm",
        "outputId": "7f234d98-3d42-49d7-90a3-482aafa56d91"
      },
      "source": [
        "fig, ax = plt.subplots(figsize=(6, 6))\n",
        "\n",
        "plt.title(\"Correlation Plot\\nAbsolute value of Pearson's Correlation Coefficient\\n\\n\")\n",
        "sns.heatmap(pearson_corr.abs(),\n",
        "            cmap=sns.diverging_palette(230, 10, as_cmap=True),\n",
        "            square=True,\n",
        "            vmin=0,\n",
        "            vmax=1,\n",
        "            ax=ax)\n",
        "plt.show()"
      ],
      "execution_count": null,
      "outputs": [
        {
          "output_type": "display_data",
          "data": {
            "image/png": "[encoded data removed]",
            "text/plain": [
              "<Figure size 432x432 with 2 Axes>"
            ]
          },
          "metadata": {
            "needs_background": "light"
          }
        }
      ]
    },
    {
      "cell_type": "markdown",
      "metadata": {
        "id": "1nDPGB8WrLVQ"
      },
      "source": [
        "## Spearman's Correlation Coefficient"
      ]
    },
    {
      "cell_type": "code",
      "metadata": {
        "colab": {
          "base_uri": "https://localhost:8080/",
          "height": 426
        },
        "id": "7P77a7szrOLv",
        "outputId": "6057184e-1c4b-4a27-a647-102dc546b73e"
      },
      "source": [
        "spearman_corr = X.corr(method='spearman')\n",
        "spearman_corr"
      ],
      "execution_count": null,
      "outputs": [
        {
          "output_type": "execute_result",
          "data": {
            "text/html": [
              "<div>\n",
              "<style scoped>\n",
              "    .dataframe tbody tr th:only-of-type {\n",
              "        vertical-align: middle;\n",
              "    }\n",
              "\n",
              "    .dataframe tbody tr th {\n",
              "        vertical-align: top;\n",
              "    }\n",
              "\n",
              "    .dataframe thead th {\n",
              "        text-align: right;\n",
              "    }\n",
              "</style>\n",
              "<table border=\"1\" class=\"dataframe\">\n",
              "  <thead>\n",
              "    <tr style=\"text-align: right;\">\n",
              "      <th></th>\n",
              "      <th>Age</th>\n",
              "      <th>ALB</th>\n",
              "      <th>ALP</th>\n",
              "      <th>ALT</th>\n",
              "      <th>AST</th>\n",
              "      <th>BIL</th>\n",
              "      <th>CHE</th>\n",
              "      <th>CHOL</th>\n",
              "      <th>CREA</th>\n",
              "      <th>GGT</th>\n",
              "      <th>PROT</th>\n",
              "      <th>m</th>\n",
              "    </tr>\n",
              "  </thead>\n",
              "  <tbody>\n",
              "    <tr>\n",
              "      <th>Age</th>\n",
              "      <td>1.000000</td>\n",
              "      <td>-0.424149</td>\n",
              "      <td>0.290240</td>\n",
              "      <td>-0.156634</td>\n",
              "      <td>0.240149</td>\n",
              "      <td>0.306496</td>\n",
              "      <td>-0.374714</td>\n",
              "      <td>-0.153243</td>\n",
              "      <td>0.006828</td>\n",
              "      <td>0.183162</td>\n",
              "      <td>-0.048073</td>\n",
              "      <td>-0.251840</td>\n",
              "    </tr>\n",
              "    <tr>\n",
              "      <th>ALB</th>\n",
              "      <td>-0.424149</td>\n",
              "      <td>1.000000</td>\n",
              "      <td>-0.455724</td>\n",
              "      <td>0.385311</td>\n",
              "      <td>-0.248681</td>\n",
              "      <td>-0.439815</td>\n",
              "      <td>0.727340</td>\n",
              "      <td>0.336338</td>\n",
              "      <td>0.042277</td>\n",
              "      <td>-0.087185</td>\n",
              "      <td>0.394668</td>\n",
              "      <td>0.184270</td>\n",
              "    </tr>\n",
              "    <tr>\n",
              "      <th>ALP</th>\n",
              "      <td>0.290240</td>\n",
              "      <td>-0.455724</td>\n",
              "      <td>1.000000</td>\n",
              "      <td>-0.139192</td>\n",
              "      <td>0.199216</td>\n",
              "      <td>0.253967</td>\n",
              "      <td>-0.387496</td>\n",
              "      <td>-0.101365</td>\n",
              "      <td>0.149528</td>\n",
              "      <td>0.420860</td>\n",
              "      <td>-0.156469</td>\n",
              "      <td>-0.025914</td>\n",
              "    </tr>\n",
              "    <tr>\n",
              "      <th>ALT</th>\n",
              "      <td>-0.156634</td>\n",
              "      <td>0.385311</td>\n",
              "      <td>-0.139192</td>\n",
              "      <td>1.000000</td>\n",
              "      <td>0.293885</td>\n",
              "      <td>-0.152147</td>\n",
              "      <td>0.331199</td>\n",
              "      <td>0.109846</td>\n",
              "      <td>-0.030132</td>\n",
              "      <td>0.142622</td>\n",
              "      <td>0.438282</td>\n",
              "      <td>0.096049</td>\n",
              "    </tr>\n",
              "    <tr>\n",
              "      <th>AST</th>\n",
              "      <td>0.240149</td>\n",
              "      <td>-0.248681</td>\n",
              "      <td>0.199216</td>\n",
              "      <td>0.293885</td>\n",
              "      <td>1.000000</td>\n",
              "      <td>0.420356</td>\n",
              "      <td>-0.323250</td>\n",
              "      <td>-0.201241</td>\n",
              "      <td>-0.238860</td>\n",
              "      <td>0.341625</td>\n",
              "      <td>0.008017</td>\n",
              "      <td>0.132576</td>\n",
              "    </tr>\n",
              "    <tr>\n",
              "      <th>BIL</th>\n",
              "      <td>0.306496</td>\n",
              "      <td>-0.439815</td>\n",
              "      <td>0.253967</td>\n",
              "      <td>-0.152147</td>\n",
              "      <td>0.420356</td>\n",
              "      <td>1.000000</td>\n",
              "      <td>-0.562112</td>\n",
              "      <td>-0.238971</td>\n",
              "      <td>0.138280</td>\n",
              "      <td>0.160771</td>\n",
              "      <td>-0.137559</td>\n",
              "      <td>0.113061</td>\n",
              "    </tr>\n",
              "    <tr>\n",
              "      <th>CHE</th>\n",
              "      <td>-0.374714</td>\n",
              "      <td>0.727340</td>\n",
              "      <td>-0.387496</td>\n",
              "      <td>0.331199</td>\n",
              "      <td>-0.323250</td>\n",
              "      <td>-0.562112</td>\n",
              "      <td>1.000000</td>\n",
              "      <td>0.482455</td>\n",
              "      <td>0.027358</td>\n",
              "      <td>-0.128921</td>\n",
              "      <td>0.293033</td>\n",
              "      <td>0.114987</td>\n",
              "    </tr>\n",
              "    <tr>\n",
              "      <th>CHOL</th>\n",
              "      <td>-0.153243</td>\n",
              "      <td>0.336338</td>\n",
              "      <td>-0.101365</td>\n",
              "      <td>0.109846</td>\n",
              "      <td>-0.201241</td>\n",
              "      <td>-0.238971</td>\n",
              "      <td>0.482455</td>\n",
              "      <td>1.000000</td>\n",
              "      <td>0.050743</td>\n",
              "      <td>0.061660</td>\n",
              "      <td>0.092420</td>\n",
              "      <td>-0.075086</td>\n",
              "    </tr>\n",
              "    <tr>\n",
              "      <th>CREA</th>\n",
              "      <td>0.006828</td>\n",
              "      <td>0.042277</td>\n",
              "      <td>0.149528</td>\n",
              "      <td>-0.030132</td>\n",
              "      <td>-0.238860</td>\n",
              "      <td>0.138280</td>\n",
              "      <td>0.027358</td>\n",
              "      <td>0.050743</td>\n",
              "      <td>1.000000</td>\n",
              "      <td>0.148898</td>\n",
              "      <td>0.013118</td>\n",
              "      <td>0.136642</td>\n",
              "    </tr>\n",
              "    <tr>\n",
              "      <th>GGT</th>\n",
              "      <td>0.183162</td>\n",
              "      <td>-0.087185</td>\n",
              "      <td>0.420860</td>\n",
              "      <td>0.142622</td>\n",
              "      <td>0.341625</td>\n",
              "      <td>0.160771</td>\n",
              "      <td>-0.128921</td>\n",
              "      <td>0.061660</td>\n",
              "      <td>0.148898</td>\n",
              "      <td>1.000000</td>\n",
              "      <td>0.115427</td>\n",
              "      <td>0.143399</td>\n",
              "    </tr>\n",
              "    <tr>\n",
              "      <th>PROT</th>\n",
              "      <td>-0.048073</td>\n",
              "      <td>0.394668</td>\n",
              "      <td>-0.156469</td>\n",
              "      <td>0.438282</td>\n",
              "      <td>0.008017</td>\n",
              "      <td>-0.137559</td>\n",
              "      <td>0.293033</td>\n",
              "      <td>0.092420</td>\n",
              "      <td>0.013118</td>\n",
              "      <td>0.115427</td>\n",
              "      <td>1.000000</td>\n",
              "      <td>-0.144088</td>\n",
              "    </tr>\n",
              "    <tr>\n",
              "      <th>m</th>\n",
              "      <td>-0.251840</td>\n",
              "      <td>0.184270</td>\n",
              "      <td>-0.025914</td>\n",
              "      <td>0.096049</td>\n",
              "      <td>0.132576</td>\n",
              "      <td>0.113061</td>\n",
              "      <td>0.114987</td>\n",
              "      <td>-0.075086</td>\n",
              "      <td>0.136642</td>\n",
              "      <td>0.143399</td>\n",
              "      <td>-0.144088</td>\n",
              "      <td>1.000000</td>\n",
              "    </tr>\n",
              "  </tbody>\n",
              "</table>\n",
              "</div>"
            ],
            "text/plain": [
              "           Age       ALB       ALP  ...       GGT      PROT         m\n",
              "Age   1.000000 -0.424149  0.290240  ...  0.183162 -0.048073 -0.251840\n",
              "ALB  -0.424149  1.000000 -0.455724  ... -0.087185  0.394668  0.184270\n",
              "ALP   0.290240 -0.455724  1.000000  ...  0.420860 -0.156469 -0.025914\n",
              "ALT  -0.156634  0.385311 -0.139192  ...  0.142622  0.438282  0.096049\n",
              "AST   0.240149 -0.248681  0.199216  ...  0.341625  0.008017  0.132576\n",
              "BIL   0.306496 -0.439815  0.253967  ...  0.160771 -0.137559  0.113061\n",
              "CHE  -0.374714  0.727340 -0.387496  ... -0.128921  0.293033  0.114987\n",
              "CHOL -0.153243  0.336338 -0.101365  ...  0.061660  0.092420 -0.075086\n",
              "CREA  0.006828  0.042277  0.149528  ...  0.148898  0.013118  0.136642\n",
              "GGT   0.183162 -0.087185  0.420860  ...  1.000000  0.115427  0.143399\n",
              "PROT -0.048073  0.394668 -0.156469  ...  0.115427  1.000000 -0.144088\n",
              "m    -0.251840  0.184270 -0.025914  ...  0.143399 -0.144088  1.000000\n",
              "\n",
              "[12 rows x 12 columns]"
            ]
          },
          "metadata": {},
          "execution_count": 17
        }
      ]
    },
    {
      "cell_type": "code",
      "metadata": {
        "colab": {
          "base_uri": "https://localhost:8080/",
          "height": 395
        },
        "id": "S9rBeb-ir1Ml",
        "outputId": "adc3f211-e201-49c1-d026-e2cd8dd7dde7"
      },
      "source": [
        "fig, ax = plt.subplots(figsize=(6, 6))\n",
        "\n",
        "plt.title(\"Correlation Plot\\nAbsolute value of Spearman's Correlation Coefficient\\n\\n\")\n",
        "sns.heatmap(spearman_corr.abs(),\n",
        "            cmap=sns.diverging_palette(230, 10, as_cmap=True),\n",
        "            square=True,\n",
        "            vmin=0,\n",
        "            vmax=1,\n",
        "            ax=ax)\n",
        "plt.show()"
      ],
      "execution_count": null,
      "outputs": [
        {
          "output_type": "display_data",
          "data": {
            "image/png": "[encoded data removed]",
            "text/plain": [
              "<Figure size 432x432 with 2 Axes>"
            ]
          },
          "metadata": {
            "needs_background": "light"
          }
        }
      ]
    },
    {
      "cell_type": "markdown",
      "metadata": {
        "id": "X0Qu-u1Dg5_M"
      },
      "source": [
        "# Feature-target correlation"
      ]
    },
    {
      "cell_type": "markdown",
      "metadata": {
        "id": "sul7ycwKhMsH"
      },
      "source": [
        "## ANOVA F-value"
      ]
    },
    {
      "cell_type": "code",
      "metadata": {
        "id": "WF55IRCDg8jO",
        "colab": {
          "base_uri": "https://localhost:8080/"
        },
        "outputId": "85d79211-06e6-4295-cc45-331939a5225c"
      },
      "source": [
        "anova_f_values = f_classif(X.drop(['m'], axis=1), y['category'])[0]\n",
        "\n",
        "linear_corr = pd.Series(anova_f_values, index=X.drop(['m'], axis=1).columns)\n",
        "linear_corr"
      ],
      "execution_count": null,
      "outputs": [
        {
          "output_type": "execute_result",
          "data": {
            "text/plain": [
              "Age     15.299046\n",
              "ALB     43.959767\n",
              "ALP      6.677791\n",
              "ALT      4.877729\n",
              "AST      1.842203\n",
              "BIL      8.920381\n",
              "CHE     48.276278\n",
              "CHOL     6.290820\n",
              "CREA     2.095414\n",
              "GGT      1.386249\n",
              "PROT     5.837231\n",
              "dtype: float64"
            ]
          },
          "metadata": {},
          "execution_count": 19
        }
      ]
    },
    {
      "cell_type": "markdown",
      "metadata": {
        "id": "gW8M0eJWhOlb"
      },
      "source": [
        "## Kendall's τ coefficient"
      ]
    },
    {
      "cell_type": "code",
      "metadata": {
        "colab": {
          "base_uri": "https://localhost:8080/"
        },
        "id": "zH2GlOedhPXZ",
        "outputId": "c5e7f80a-d99a-472a-f909-6a1c2c97a4e3"
      },
      "source": [
        "kendall_corr = [kendalltau(X[col], y).correlation for col in X.drop(['m'], axis=1).columns]\n",
        "\n",
        "non_linear_corr = pd.Series(kendall_corr, index=X.drop(['m'], axis=1).columns)\n",
        "non_linear_corr"
      ],
      "execution_count": null,
      "outputs": [
        {
          "output_type": "execute_result",
          "data": {
            "text/plain": [
              "Age     0.377397\n",
              "ALB    -0.597778\n",
              "ALP     0.410298\n",
              "ALT    -0.217547\n",
              "AST     0.217547\n",
              "BIL     0.350095\n",
              "CHE    -0.580503\n",
              "CHOL   -0.300940\n",
              "CREA    0.003535\n",
              "GGT     0.185809\n",
              "PROT   -0.191451\n",
              "dtype: float64"
            ]
          },
          "metadata": {},
          "execution_count": 22
        }
      ]
    }
  ]
}