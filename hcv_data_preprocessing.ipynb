{
  "nbformat": 4,
  "nbformat_minor": 0,
  "metadata": {
    "colab": {
      "name": "hcv_data_preprocessing.ipynb",
      "provenance": [],
      "authorship_tag": "ABX9TyOM3p18f+UlZicxC7DJB2P0",
      "include_colab_link": true
    },
    "kernelspec": {
      "name": "python3",
      "display_name": "Python 3"
    },
    "language_info": {
      "name": "python"
    }
  },
  "cells": [
    {
      "cell_type": "markdown",
      "metadata": {
        "id": "view-in-github",
        "colab_type": "text"
      },
      "source": [
        "<a href=\"https://colab.research.google.com/github/vigilant-umbrella/hcv-prediction/blob/main/hcv_data_preprocessing.ipynb\" target=\"_parent\"><img src=\"https://colab.research.google.com/assets/colab-badge.svg\" alt=\"Open In Colab\"/></a>"
      ]
    },
    {
      "cell_type": "code",
      "metadata": {
        "id": "QatIN-hXPkPZ"
      },
      "source": [
        "import pandas as pd\n",
        "\n",
        "import matplotlib.pyplot as plt\n",
        "import seaborn as sns\n",
        "\n",
        "from sklearn.preprocessing import OrdinalEncoder"
      ],
      "execution_count": null,
      "outputs": []
    },
    {
      "cell_type": "code",
      "metadata": {
        "colab": {
          "base_uri": "https://localhost:8080/"
        },
        "id": "-5ujA_ACP0If",
        "outputId": "d88630d9-e4a7-4ec8-a993-15da08233ee5"
      },
      "source": [
        "%%shell\n",
        "if ! [ -f \"hcvdat0.csv\" ]; then\n",
        "    wget https://archive.ics.uci.edu/ml/machine-learning-databases/00571/hcvdat0.csv \n",
        "fi"
      ],
      "execution_count": null,
      "outputs": [
        {
          "output_type": "execute_result",
          "data": {
            "text/plain": [
              ""
            ]
          },
          "metadata": {
            "tags": []
          },
          "execution_count": 2
        }
      ]
    },
    {
      "cell_type": "code",
      "metadata": {
        "id": "pakcz0nYP1a7"
      },
      "source": [
        "data = pd.read_csv('hcvdat0.csv')\n",
        "\n",
        "data = data[(data['Category']!='0=Blood Donor') & (data['Category']!='0s=suspect Blood Donor')].reset_index(drop=True)\n",
        "\n",
        "X = data.drop(['Unnamed: 0', 'Category'], axis=1)\n",
        "category = pd.DataFrame(data['Category'])\n",
        "\n",
        "enc = OrdinalEncoder()\n",
        "y = pd.DataFrame(enc.fit_transform(pd.DataFrame(category)), columns=['category'])"
      ],
      "execution_count": null,
      "outputs": []
    },
    {
      "cell_type": "code",
      "metadata": {
        "colab": {
          "base_uri": "https://localhost:8080/",
          "height": 536
        },
        "id": "NoNsOxGYtZDf",
        "outputId": "7e8e5b68-8de3-4459-8a38-296d6f480a1b"
      },
      "source": [
        "X.info()\n",
        "X.head()"
      ],
      "execution_count": null,
      "outputs": [
        {
          "output_type": "stream",
          "text": [
            "<class 'pandas.core.frame.DataFrame'>\n",
            "RangeIndex: 75 entries, 0 to 74\n",
            "Data columns (total 12 columns):\n",
            " #   Column  Non-Null Count  Dtype  \n",
            "---  ------  --------------  -----  \n",
            " 0   Age     75 non-null     int64  \n",
            " 1   Sex     75 non-null     object \n",
            " 2   ALB     74 non-null     float64\n",
            " 3   ALP     57 non-null     float64\n",
            " 4   ALT     74 non-null     float64\n",
            " 5   AST     75 non-null     float64\n",
            " 6   BIL     75 non-null     float64\n",
            " 7   CHE     75 non-null     float64\n",
            " 8   CHOL    72 non-null     float64\n",
            " 9   CREA    75 non-null     float64\n",
            " 10  GGT     75 non-null     float64\n",
            " 11  PROT    74 non-null     float64\n",
            "dtypes: float64(10), int64(1), object(1)\n",
            "memory usage: 7.2+ KB\n"
          ],
          "name": "stdout"
        },
        {
          "output_type": "execute_result",
          "data": {
            "text/html": [
              "<div>\n",
              "<style scoped>\n",
              "    .dataframe tbody tr th:only-of-type {\n",
              "        vertical-align: middle;\n",
              "    }\n",
              "\n",
              "    .dataframe tbody tr th {\n",
              "        vertical-align: top;\n",
              "    }\n",
              "\n",
              "    .dataframe thead th {\n",
              "        text-align: right;\n",
              "    }\n",
              "</style>\n",
              "<table border=\"1\" class=\"dataframe\">\n",
              "  <thead>\n",
              "    <tr style=\"text-align: right;\">\n",
              "      <th></th>\n",
              "      <th>Age</th>\n",
              "      <th>Sex</th>\n",
              "      <th>ALB</th>\n",
              "      <th>ALP</th>\n",
              "      <th>ALT</th>\n",
              "      <th>AST</th>\n",
              "      <th>BIL</th>\n",
              "      <th>CHE</th>\n",
              "      <th>CHOL</th>\n",
              "      <th>CREA</th>\n",
              "      <th>GGT</th>\n",
              "      <th>PROT</th>\n",
              "    </tr>\n",
              "  </thead>\n",
              "  <tbody>\n",
              "    <tr>\n",
              "      <th>0</th>\n",
              "      <td>38</td>\n",
              "      <td>m</td>\n",
              "      <td>45.0</td>\n",
              "      <td>56.3</td>\n",
              "      <td>NaN</td>\n",
              "      <td>33.1</td>\n",
              "      <td>7.0</td>\n",
              "      <td>9.58</td>\n",
              "      <td>6.00</td>\n",
              "      <td>77.9</td>\n",
              "      <td>18.9</td>\n",
              "      <td>63.0</td>\n",
              "    </tr>\n",
              "    <tr>\n",
              "      <th>1</th>\n",
              "      <td>19</td>\n",
              "      <td>m</td>\n",
              "      <td>41.0</td>\n",
              "      <td>NaN</td>\n",
              "      <td>87.0</td>\n",
              "      <td>67.0</td>\n",
              "      <td>12.0</td>\n",
              "      <td>7.55</td>\n",
              "      <td>3.90</td>\n",
              "      <td>62.0</td>\n",
              "      <td>65.0</td>\n",
              "      <td>75.0</td>\n",
              "    </tr>\n",
              "    <tr>\n",
              "      <th>2</th>\n",
              "      <td>23</td>\n",
              "      <td>m</td>\n",
              "      <td>47.0</td>\n",
              "      <td>19.1</td>\n",
              "      <td>38.9</td>\n",
              "      <td>164.2</td>\n",
              "      <td>17.0</td>\n",
              "      <td>7.09</td>\n",
              "      <td>3.20</td>\n",
              "      <td>79.3</td>\n",
              "      <td>90.4</td>\n",
              "      <td>70.1</td>\n",
              "    </tr>\n",
              "    <tr>\n",
              "      <th>3</th>\n",
              "      <td>25</td>\n",
              "      <td>m</td>\n",
              "      <td>42.0</td>\n",
              "      <td>38.2</td>\n",
              "      <td>63.3</td>\n",
              "      <td>187.7</td>\n",
              "      <td>14.0</td>\n",
              "      <td>6.00</td>\n",
              "      <td>4.28</td>\n",
              "      <td>66.9</td>\n",
              "      <td>40.2</td>\n",
              "      <td>70.5</td>\n",
              "    </tr>\n",
              "    <tr>\n",
              "      <th>4</th>\n",
              "      <td>27</td>\n",
              "      <td>m</td>\n",
              "      <td>45.0</td>\n",
              "      <td>27.5</td>\n",
              "      <td>10.5</td>\n",
              "      <td>37.8</td>\n",
              "      <td>10.0</td>\n",
              "      <td>8.77</td>\n",
              "      <td>3.20</td>\n",
              "      <td>55.2</td>\n",
              "      <td>35.9</td>\n",
              "      <td>74.5</td>\n",
              "    </tr>\n",
              "  </tbody>\n",
              "</table>\n",
              "</div>"
            ],
            "text/plain": [
              "   Age Sex   ALB   ALP   ALT    AST   BIL   CHE  CHOL  CREA   GGT  PROT\n",
              "0   38   m  45.0  56.3   NaN   33.1   7.0  9.58  6.00  77.9  18.9  63.0\n",
              "1   19   m  41.0   NaN  87.0   67.0  12.0  7.55  3.90  62.0  65.0  75.0\n",
              "2   23   m  47.0  19.1  38.9  164.2  17.0  7.09  3.20  79.3  90.4  70.1\n",
              "3   25   m  42.0  38.2  63.3  187.7  14.0  6.00  4.28  66.9  40.2  70.5\n",
              "4   27   m  45.0  27.5  10.5   37.8  10.0  8.77  3.20  55.2  35.9  74.5"
            ]
          },
          "metadata": {
            "tags": []
          },
          "execution_count": 4
        }
      ]
    },
    {
      "cell_type": "code",
      "metadata": {
        "colab": {
          "base_uri": "https://localhost:8080/",
          "height": 206
        },
        "id": "vbEL6V3EtZDg",
        "outputId": "d8eed21a-4e6d-45d8-a7f7-776c65ca1d52"
      },
      "source": [
        "y.head()"
      ],
      "execution_count": null,
      "outputs": [
        {
          "output_type": "execute_result",
          "data": {
            "text/html": [
              "<div>\n",
              "<style scoped>\n",
              "    .dataframe tbody tr th:only-of-type {\n",
              "        vertical-align: middle;\n",
              "    }\n",
              "\n",
              "    .dataframe tbody tr th {\n",
              "        vertical-align: top;\n",
              "    }\n",
              "\n",
              "    .dataframe thead th {\n",
              "        text-align: right;\n",
              "    }\n",
              "</style>\n",
              "<table border=\"1\" class=\"dataframe\">\n",
              "  <thead>\n",
              "    <tr style=\"text-align: right;\">\n",
              "      <th></th>\n",
              "      <th>category</th>\n",
              "    </tr>\n",
              "  </thead>\n",
              "  <tbody>\n",
              "    <tr>\n",
              "      <th>0</th>\n",
              "      <td>0.0</td>\n",
              "    </tr>\n",
              "    <tr>\n",
              "      <th>1</th>\n",
              "      <td>0.0</td>\n",
              "    </tr>\n",
              "    <tr>\n",
              "      <th>2</th>\n",
              "      <td>0.0</td>\n",
              "    </tr>\n",
              "    <tr>\n",
              "      <th>3</th>\n",
              "      <td>0.0</td>\n",
              "    </tr>\n",
              "    <tr>\n",
              "      <th>4</th>\n",
              "      <td>0.0</td>\n",
              "    </tr>\n",
              "  </tbody>\n",
              "</table>\n",
              "</div>"
            ],
            "text/plain": [
              "   category\n",
              "0       0.0\n",
              "1       0.0\n",
              "2       0.0\n",
              "3       0.0\n",
              "4       0.0"
            ]
          },
          "metadata": {
            "tags": []
          },
          "execution_count": 5
        }
      ]
    },
    {
      "cell_type": "code",
      "metadata": {
        "colab": {
          "base_uri": "https://localhost:8080/"
        },
        "id": "kEIV7iNItZDi",
        "outputId": "532c38e2-d09d-48bc-d637-d4596f5755cd"
      },
      "source": [
        "category.value_counts()"
      ],
      "execution_count": null,
      "outputs": [
        {
          "output_type": "execute_result",
          "data": {
            "text/plain": [
              "Category   \n",
              "3=Cirrhosis    30\n",
              "1=Hepatitis    24\n",
              "2=Fibrosis     21\n",
              "dtype: int64"
            ]
          },
          "metadata": {
            "tags": []
          },
          "execution_count": 6
        }
      ]
    },
    {
      "cell_type": "code",
      "metadata": {
        "colab": {
          "base_uri": "https://localhost:8080/"
        },
        "id": "aU34EYdatZDi",
        "outputId": "cab87718-d471-460c-8e26-96b68532a8b2"
      },
      "source": [
        "y.value_counts()"
      ],
      "execution_count": null,
      "outputs": [
        {
          "output_type": "execute_result",
          "data": {
            "text/plain": [
              "category\n",
              "2.0         30\n",
              "0.0         24\n",
              "1.0         21\n",
              "dtype: int64"
            ]
          },
          "metadata": {
            "tags": []
          },
          "execution_count": 7
        }
      ]
    },
    {
      "cell_type": "code",
      "metadata": {
        "id": "r3KZHBobtZDk"
      },
      "source": [
        "X = pd.concat([X, pd.get_dummies(X.Sex, drop_first=True)], axis=1)\n",
        "X = X.drop(['Sex'], axis=1)"
      ],
      "execution_count": null,
      "outputs": []
    },
    {
      "cell_type": "code",
      "metadata": {
        "colab": {
          "base_uri": "https://localhost:8080/",
          "height": 206
        },
        "id": "-LFHGqhMtZDl",
        "outputId": "b603a101-a528-4b1c-89d2-c6006057350c"
      },
      "source": [
        "X.head()"
      ],
      "execution_count": null,
      "outputs": [
        {
          "output_type": "execute_result",
          "data": {
            "text/html": [
              "<div>\n",
              "<style scoped>\n",
              "    .dataframe tbody tr th:only-of-type {\n",
              "        vertical-align: middle;\n",
              "    }\n",
              "\n",
              "    .dataframe tbody tr th {\n",
              "        vertical-align: top;\n",
              "    }\n",
              "\n",
              "    .dataframe thead th {\n",
              "        text-align: right;\n",
              "    }\n",
              "</style>\n",
              "<table border=\"1\" class=\"dataframe\">\n",
              "  <thead>\n",
              "    <tr style=\"text-align: right;\">\n",
              "      <th></th>\n",
              "      <th>Age</th>\n",
              "      <th>ALB</th>\n",
              "      <th>ALP</th>\n",
              "      <th>ALT</th>\n",
              "      <th>AST</th>\n",
              "      <th>BIL</th>\n",
              "      <th>CHE</th>\n",
              "      <th>CHOL</th>\n",
              "      <th>CREA</th>\n",
              "      <th>GGT</th>\n",
              "      <th>PROT</th>\n",
              "      <th>m</th>\n",
              "    </tr>\n",
              "  </thead>\n",
              "  <tbody>\n",
              "    <tr>\n",
              "      <th>0</th>\n",
              "      <td>38</td>\n",
              "      <td>45.0</td>\n",
              "      <td>56.3</td>\n",
              "      <td>NaN</td>\n",
              "      <td>33.1</td>\n",
              "      <td>7.0</td>\n",
              "      <td>9.58</td>\n",
              "      <td>6.00</td>\n",
              "      <td>77.9</td>\n",
              "      <td>18.9</td>\n",
              "      <td>63.0</td>\n",
              "      <td>1</td>\n",
              "    </tr>\n",
              "    <tr>\n",
              "      <th>1</th>\n",
              "      <td>19</td>\n",
              "      <td>41.0</td>\n",
              "      <td>NaN</td>\n",
              "      <td>87.0</td>\n",
              "      <td>67.0</td>\n",
              "      <td>12.0</td>\n",
              "      <td>7.55</td>\n",
              "      <td>3.90</td>\n",
              "      <td>62.0</td>\n",
              "      <td>65.0</td>\n",
              "      <td>75.0</td>\n",
              "      <td>1</td>\n",
              "    </tr>\n",
              "    <tr>\n",
              "      <th>2</th>\n",
              "      <td>23</td>\n",
              "      <td>47.0</td>\n",
              "      <td>19.1</td>\n",
              "      <td>38.9</td>\n",
              "      <td>164.2</td>\n",
              "      <td>17.0</td>\n",
              "      <td>7.09</td>\n",
              "      <td>3.20</td>\n",
              "      <td>79.3</td>\n",
              "      <td>90.4</td>\n",
              "      <td>70.1</td>\n",
              "      <td>1</td>\n",
              "    </tr>\n",
              "    <tr>\n",
              "      <th>3</th>\n",
              "      <td>25</td>\n",
              "      <td>42.0</td>\n",
              "      <td>38.2</td>\n",
              "      <td>63.3</td>\n",
              "      <td>187.7</td>\n",
              "      <td>14.0</td>\n",
              "      <td>6.00</td>\n",
              "      <td>4.28</td>\n",
              "      <td>66.9</td>\n",
              "      <td>40.2</td>\n",
              "      <td>70.5</td>\n",
              "      <td>1</td>\n",
              "    </tr>\n",
              "    <tr>\n",
              "      <th>4</th>\n",
              "      <td>27</td>\n",
              "      <td>45.0</td>\n",
              "      <td>27.5</td>\n",
              "      <td>10.5</td>\n",
              "      <td>37.8</td>\n",
              "      <td>10.0</td>\n",
              "      <td>8.77</td>\n",
              "      <td>3.20</td>\n",
              "      <td>55.2</td>\n",
              "      <td>35.9</td>\n",
              "      <td>74.5</td>\n",
              "      <td>1</td>\n",
              "    </tr>\n",
              "  </tbody>\n",
              "</table>\n",
              "</div>"
            ],
            "text/plain": [
              "   Age   ALB   ALP   ALT    AST   BIL   CHE  CHOL  CREA   GGT  PROT  m\n",
              "0   38  45.0  56.3   NaN   33.1   7.0  9.58  6.00  77.9  18.9  63.0  1\n",
              "1   19  41.0   NaN  87.0   67.0  12.0  7.55  3.90  62.0  65.0  75.0  1\n",
              "2   23  47.0  19.1  38.9  164.2  17.0  7.09  3.20  79.3  90.4  70.1  1\n",
              "3   25  42.0  38.2  63.3  187.7  14.0  6.00  4.28  66.9  40.2  70.5  1\n",
              "4   27  45.0  27.5  10.5   37.8  10.0  8.77  3.20  55.2  35.9  74.5  1"
            ]
          },
          "metadata": {
            "tags": []
          },
          "execution_count": 9
        }
      ]
    },
    {
      "cell_type": "code",
      "metadata": {
        "id": "gglpdyMBuVzm"
      },
      "source": [
        "for col in X.columns:\n",
        "    X[col] = X[col].fillna(sum(X[col].dropna())/len(X[col].dropna()))"
      ],
      "execution_count": null,
      "outputs": []
    },
    {
      "cell_type": "code",
      "metadata": {
        "colab": {
          "base_uri": "https://localhost:8080/",
          "height": 536
        },
        "id": "SPH38ZsTumpW",
        "outputId": "36d527e8-7dc5-49c8-9438-618e5a569ebc"
      },
      "source": [
        "X.info()\n",
        "X.head()"
      ],
      "execution_count": null,
      "outputs": [
        {
          "output_type": "stream",
          "text": [
            "<class 'pandas.core.frame.DataFrame'>\n",
            "RangeIndex: 75 entries, 0 to 74\n",
            "Data columns (total 12 columns):\n",
            " #   Column  Non-Null Count  Dtype  \n",
            "---  ------  --------------  -----  \n",
            " 0   Age     75 non-null     int64  \n",
            " 1   ALB     75 non-null     float64\n",
            " 2   ALP     75 non-null     float64\n",
            " 3   ALT     75 non-null     float64\n",
            " 4   AST     75 non-null     float64\n",
            " 5   BIL     75 non-null     float64\n",
            " 6   CHE     75 non-null     float64\n",
            " 7   CHOL    75 non-null     float64\n",
            " 8   CREA    75 non-null     float64\n",
            " 9   GGT     75 non-null     float64\n",
            " 10  PROT    75 non-null     float64\n",
            " 11  m       75 non-null     uint8  \n",
            "dtypes: float64(10), int64(1), uint8(1)\n",
            "memory usage: 6.6 KB\n"
          ],
          "name": "stdout"
        },
        {
          "output_type": "execute_result",
          "data": {
            "text/html": [
              "<div>\n",
              "<style scoped>\n",
              "    .dataframe tbody tr th:only-of-type {\n",
              "        vertical-align: middle;\n",
              "    }\n",
              "\n",
              "    .dataframe tbody tr th {\n",
              "        vertical-align: top;\n",
              "    }\n",
              "\n",
              "    .dataframe thead th {\n",
              "        text-align: right;\n",
              "    }\n",
              "</style>\n",
              "<table border=\"1\" class=\"dataframe\">\n",
              "  <thead>\n",
              "    <tr style=\"text-align: right;\">\n",
              "      <th></th>\n",
              "      <th>Age</th>\n",
              "      <th>ALB</th>\n",
              "      <th>ALP</th>\n",
              "      <th>ALT</th>\n",
              "      <th>AST</th>\n",
              "      <th>BIL</th>\n",
              "      <th>CHE</th>\n",
              "      <th>CHOL</th>\n",
              "      <th>CREA</th>\n",
              "      <th>GGT</th>\n",
              "      <th>PROT</th>\n",
              "      <th>m</th>\n",
              "    </tr>\n",
              "  </thead>\n",
              "  <tbody>\n",
              "    <tr>\n",
              "      <th>0</th>\n",
              "      <td>38</td>\n",
              "      <td>45.0</td>\n",
              "      <td>56.300000</td>\n",
              "      <td>34.586486</td>\n",
              "      <td>33.1</td>\n",
              "      <td>7.0</td>\n",
              "      <td>9.58</td>\n",
              "      <td>6.00</td>\n",
              "      <td>77.9</td>\n",
              "      <td>18.9</td>\n",
              "      <td>63.0</td>\n",
              "      <td>1</td>\n",
              "    </tr>\n",
              "    <tr>\n",
              "      <th>1</th>\n",
              "      <td>19</td>\n",
              "      <td>41.0</td>\n",
              "      <td>62.733333</td>\n",
              "      <td>87.000000</td>\n",
              "      <td>67.0</td>\n",
              "      <td>12.0</td>\n",
              "      <td>7.55</td>\n",
              "      <td>3.90</td>\n",
              "      <td>62.0</td>\n",
              "      <td>65.0</td>\n",
              "      <td>75.0</td>\n",
              "      <td>1</td>\n",
              "    </tr>\n",
              "    <tr>\n",
              "      <th>2</th>\n",
              "      <td>23</td>\n",
              "      <td>47.0</td>\n",
              "      <td>19.100000</td>\n",
              "      <td>38.900000</td>\n",
              "      <td>164.2</td>\n",
              "      <td>17.0</td>\n",
              "      <td>7.09</td>\n",
              "      <td>3.20</td>\n",
              "      <td>79.3</td>\n",
              "      <td>90.4</td>\n",
              "      <td>70.1</td>\n",
              "      <td>1</td>\n",
              "    </tr>\n",
              "    <tr>\n",
              "      <th>3</th>\n",
              "      <td>25</td>\n",
              "      <td>42.0</td>\n",
              "      <td>38.200000</td>\n",
              "      <td>63.300000</td>\n",
              "      <td>187.7</td>\n",
              "      <td>14.0</td>\n",
              "      <td>6.00</td>\n",
              "      <td>4.28</td>\n",
              "      <td>66.9</td>\n",
              "      <td>40.2</td>\n",
              "      <td>70.5</td>\n",
              "      <td>1</td>\n",
              "    </tr>\n",
              "    <tr>\n",
              "      <th>4</th>\n",
              "      <td>27</td>\n",
              "      <td>45.0</td>\n",
              "      <td>27.500000</td>\n",
              "      <td>10.500000</td>\n",
              "      <td>37.8</td>\n",
              "      <td>10.0</td>\n",
              "      <td>8.77</td>\n",
              "      <td>3.20</td>\n",
              "      <td>55.2</td>\n",
              "      <td>35.9</td>\n",
              "      <td>74.5</td>\n",
              "      <td>1</td>\n",
              "    </tr>\n",
              "  </tbody>\n",
              "</table>\n",
              "</div>"
            ],
            "text/plain": [
              "   Age   ALB        ALP        ALT    AST  ...  CHOL  CREA   GGT  PROT  m\n",
              "0   38  45.0  56.300000  34.586486   33.1  ...  6.00  77.9  18.9  63.0  1\n",
              "1   19  41.0  62.733333  87.000000   67.0  ...  3.90  62.0  65.0  75.0  1\n",
              "2   23  47.0  19.100000  38.900000  164.2  ...  3.20  79.3  90.4  70.1  1\n",
              "3   25  42.0  38.200000  63.300000  187.7  ...  4.28  66.9  40.2  70.5  1\n",
              "4   27  45.0  27.500000  10.500000   37.8  ...  3.20  55.2  35.9  74.5  1\n",
              "\n",
              "[5 rows x 12 columns]"
            ]
          },
          "metadata": {
            "tags": []
          },
          "execution_count": 11
        }
      ]
    },
    {
      "cell_type": "code",
      "metadata": {
        "colab": {
          "base_uri": "https://localhost:8080/",
          "height": 426
        },
        "id": "ar3DND4qtZDm",
        "outputId": "0d2aa1e7-44fa-4251-a834-1ca230012c40"
      },
      "source": [
        "corr = X.corr()\n",
        "corr"
      ],
      "execution_count": null,
      "outputs": [
        {
          "output_type": "execute_result",
          "data": {
            "text/html": [
              "<div>\n",
              "<style scoped>\n",
              "    .dataframe tbody tr th:only-of-type {\n",
              "        vertical-align: middle;\n",
              "    }\n",
              "\n",
              "    .dataframe tbody tr th {\n",
              "        vertical-align: top;\n",
              "    }\n",
              "\n",
              "    .dataframe thead th {\n",
              "        text-align: right;\n",
              "    }\n",
              "</style>\n",
              "<table border=\"1\" class=\"dataframe\">\n",
              "  <thead>\n",
              "    <tr style=\"text-align: right;\">\n",
              "      <th></th>\n",
              "      <th>Age</th>\n",
              "      <th>ALB</th>\n",
              "      <th>ALP</th>\n",
              "      <th>ALT</th>\n",
              "      <th>AST</th>\n",
              "      <th>BIL</th>\n",
              "      <th>CHE</th>\n",
              "      <th>CHOL</th>\n",
              "      <th>CREA</th>\n",
              "      <th>GGT</th>\n",
              "      <th>PROT</th>\n",
              "      <th>m</th>\n",
              "    </tr>\n",
              "  </thead>\n",
              "  <tbody>\n",
              "    <tr>\n",
              "      <th>Age</th>\n",
              "      <td>1.000000</td>\n",
              "      <td>-0.418057</td>\n",
              "      <td>0.233153</td>\n",
              "      <td>-0.020124</td>\n",
              "      <td>0.155447</td>\n",
              "      <td>0.094624</td>\n",
              "      <td>-0.343094</td>\n",
              "      <td>-0.150006</td>\n",
              "      <td>-0.036005</td>\n",
              "      <td>0.241202</td>\n",
              "      <td>-0.094804</td>\n",
              "      <td>-0.250364</td>\n",
              "    </tr>\n",
              "    <tr>\n",
              "      <th>ALB</th>\n",
              "      <td>-0.418057</td>\n",
              "      <td>1.000000</td>\n",
              "      <td>-0.346579</td>\n",
              "      <td>0.179382</td>\n",
              "      <td>-0.208020</td>\n",
              "      <td>-0.546225</td>\n",
              "      <td>0.755280</td>\n",
              "      <td>0.341959</td>\n",
              "      <td>-0.117551</td>\n",
              "      <td>-0.064534</td>\n",
              "      <td>0.459952</td>\n",
              "      <td>0.123057</td>\n",
              "    </tr>\n",
              "    <tr>\n",
              "      <th>ALP</th>\n",
              "      <td>0.233153</td>\n",
              "      <td>-0.346579</td>\n",
              "      <td>1.000000</td>\n",
              "      <td>-0.058592</td>\n",
              "      <td>0.107649</td>\n",
              "      <td>0.136796</td>\n",
              "      <td>-0.245162</td>\n",
              "      <td>0.034178</td>\n",
              "      <td>0.251123</td>\n",
              "      <td>0.666835</td>\n",
              "      <td>-0.201767</td>\n",
              "      <td>-0.164983</td>\n",
              "    </tr>\n",
              "    <tr>\n",
              "      <th>ALT</th>\n",
              "      <td>-0.020124</td>\n",
              "      <td>0.179382</td>\n",
              "      <td>-0.058592</td>\n",
              "      <td>1.000000</td>\n",
              "      <td>0.061087</td>\n",
              "      <td>-0.158894</td>\n",
              "      <td>0.155939</td>\n",
              "      <td>0.047615</td>\n",
              "      <td>-0.138767</td>\n",
              "      <td>-0.037809</td>\n",
              "      <td>0.329889</td>\n",
              "      <td>0.037820</td>\n",
              "    </tr>\n",
              "    <tr>\n",
              "      <th>AST</th>\n",
              "      <td>0.155447</td>\n",
              "      <td>-0.208020</td>\n",
              "      <td>0.107649</td>\n",
              "      <td>0.061087</td>\n",
              "      <td>1.000000</td>\n",
              "      <td>0.100318</td>\n",
              "      <td>-0.304497</td>\n",
              "      <td>-0.201560</td>\n",
              "      <td>-0.172339</td>\n",
              "      <td>0.302988</td>\n",
              "      <td>-0.005127</td>\n",
              "      <td>0.104087</td>\n",
              "    </tr>\n",
              "    <tr>\n",
              "      <th>BIL</th>\n",
              "      <td>0.094624</td>\n",
              "      <td>-0.546225</td>\n",
              "      <td>0.136796</td>\n",
              "      <td>-0.158894</td>\n",
              "      <td>0.100318</td>\n",
              "      <td>1.000000</td>\n",
              "      <td>-0.538962</td>\n",
              "      <td>-0.112269</td>\n",
              "      <td>-0.048020</td>\n",
              "      <td>0.074370</td>\n",
              "      <td>-0.258045</td>\n",
              "      <td>0.087324</td>\n",
              "    </tr>\n",
              "    <tr>\n",
              "      <th>CHE</th>\n",
              "      <td>-0.343094</td>\n",
              "      <td>0.755280</td>\n",
              "      <td>-0.245162</td>\n",
              "      <td>0.155939</td>\n",
              "      <td>-0.304497</td>\n",
              "      <td>-0.538962</td>\n",
              "      <td>1.000000</td>\n",
              "      <td>0.457806</td>\n",
              "      <td>-0.046845</td>\n",
              "      <td>-0.137033</td>\n",
              "      <td>0.324888</td>\n",
              "      <td>0.077168</td>\n",
              "    </tr>\n",
              "    <tr>\n",
              "      <th>CHOL</th>\n",
              "      <td>-0.150006</td>\n",
              "      <td>0.341959</td>\n",
              "      <td>0.034178</td>\n",
              "      <td>0.047615</td>\n",
              "      <td>-0.201560</td>\n",
              "      <td>-0.112269</td>\n",
              "      <td>0.457806</td>\n",
              "      <td>1.000000</td>\n",
              "      <td>-0.050703</td>\n",
              "      <td>0.158887</td>\n",
              "      <td>0.174804</td>\n",
              "      <td>-0.032181</td>\n",
              "    </tr>\n",
              "    <tr>\n",
              "      <th>CREA</th>\n",
              "      <td>-0.036005</td>\n",
              "      <td>-0.117551</td>\n",
              "      <td>0.251123</td>\n",
              "      <td>-0.138767</td>\n",
              "      <td>-0.172339</td>\n",
              "      <td>-0.048020</td>\n",
              "      <td>-0.046845</td>\n",
              "      <td>-0.050703</td>\n",
              "      <td>1.000000</td>\n",
              "      <td>0.047239</td>\n",
              "      <td>-0.235819</td>\n",
              "      <td>0.032793</td>\n",
              "    </tr>\n",
              "    <tr>\n",
              "      <th>GGT</th>\n",
              "      <td>0.241202</td>\n",
              "      <td>-0.064534</td>\n",
              "      <td>0.666835</td>\n",
              "      <td>-0.037809</td>\n",
              "      <td>0.302988</td>\n",
              "      <td>0.074370</td>\n",
              "      <td>-0.137033</td>\n",
              "      <td>0.158887</td>\n",
              "      <td>0.047239</td>\n",
              "      <td>1.000000</td>\n",
              "      <td>0.022468</td>\n",
              "      <td>0.044079</td>\n",
              "    </tr>\n",
              "    <tr>\n",
              "      <th>PROT</th>\n",
              "      <td>-0.094804</td>\n",
              "      <td>0.459952</td>\n",
              "      <td>-0.201767</td>\n",
              "      <td>0.329889</td>\n",
              "      <td>-0.005127</td>\n",
              "      <td>-0.258045</td>\n",
              "      <td>0.324888</td>\n",
              "      <td>0.174804</td>\n",
              "      <td>-0.235819</td>\n",
              "      <td>0.022468</td>\n",
              "      <td>1.000000</td>\n",
              "      <td>-0.156148</td>\n",
              "    </tr>\n",
              "    <tr>\n",
              "      <th>m</th>\n",
              "      <td>-0.250364</td>\n",
              "      <td>0.123057</td>\n",
              "      <td>-0.164983</td>\n",
              "      <td>0.037820</td>\n",
              "      <td>0.104087</td>\n",
              "      <td>0.087324</td>\n",
              "      <td>0.077168</td>\n",
              "      <td>-0.032181</td>\n",
              "      <td>0.032793</td>\n",
              "      <td>0.044079</td>\n",
              "      <td>-0.156148</td>\n",
              "      <td>1.000000</td>\n",
              "    </tr>\n",
              "  </tbody>\n",
              "</table>\n",
              "</div>"
            ],
            "text/plain": [
              "           Age       ALB       ALP  ...       GGT      PROT         m\n",
              "Age   1.000000 -0.418057  0.233153  ...  0.241202 -0.094804 -0.250364\n",
              "ALB  -0.418057  1.000000 -0.346579  ... -0.064534  0.459952  0.123057\n",
              "ALP   0.233153 -0.346579  1.000000  ...  0.666835 -0.201767 -0.164983\n",
              "ALT  -0.020124  0.179382 -0.058592  ... -0.037809  0.329889  0.037820\n",
              "AST   0.155447 -0.208020  0.107649  ...  0.302988 -0.005127  0.104087\n",
              "BIL   0.094624 -0.546225  0.136796  ...  0.074370 -0.258045  0.087324\n",
              "CHE  -0.343094  0.755280 -0.245162  ... -0.137033  0.324888  0.077168\n",
              "CHOL -0.150006  0.341959  0.034178  ...  0.158887  0.174804 -0.032181\n",
              "CREA -0.036005 -0.117551  0.251123  ...  0.047239 -0.235819  0.032793\n",
              "GGT   0.241202 -0.064534  0.666835  ...  1.000000  0.022468  0.044079\n",
              "PROT -0.094804  0.459952 -0.201767  ...  0.022468  1.000000 -0.156148\n",
              "m    -0.250364  0.123057 -0.164983  ...  0.044079 -0.156148  1.000000\n",
              "\n",
              "[12 rows x 12 columns]"
            ]
          },
          "metadata": {
            "tags": []
          },
          "execution_count": 12
        }
      ]
    },
    {
      "cell_type": "code",
      "metadata": {
        "colab": {
          "base_uri": "https://localhost:8080/",
          "height": 367
        },
        "id": "cRJ3H71ctZDm",
        "outputId": "703bd68b-76c9-4c7a-faaf-b91101a77636"
      },
      "source": [
        "fig, ax = plt.subplots(figsize=(6, 6))\n",
        "\n",
        "plt.title(\"Correlation Plot\")\n",
        "sns.heatmap(corr,\n",
        "            cmap=sns.diverging_palette(230, 10, as_cmap=True),\n",
        "            square=True,\n",
        "            ax=ax)\n",
        "plt.show()"
      ],
      "execution_count": null,
      "outputs": [
        {
          "output_type": "display_data",
          "data": {
            "image/png": "[encoded data removed]",
            "text/plain": [
              "<Figure size 432x432 with 2 Axes>"
            ]
          },
          "metadata": {
            "tags": []
          }
        }
      ]
    },
    {
      "cell_type": "code",
      "metadata": {
        "colab": {
          "base_uri": "https://localhost:8080/"
        },
        "id": "sb5z7PU0tZDn",
        "outputId": "2bafcaa5-4868-4443-966a-cc4196d2c07d"
      },
      "source": [
        "target_corr = pd.concat([X, y], axis=1).corr()['category']\n",
        "target_corr"
      ],
      "execution_count": null,
      "outputs": [
        {
          "output_type": "execute_result",
          "data": {
            "text/plain": [
              "Age         0.495877\n",
              "ALB        -0.706416\n",
              "ALP         0.357904\n",
              "ALT        -0.059218\n",
              "AST         0.208790\n",
              "BIL         0.388040\n",
              "CHE        -0.716708\n",
              "CHOL       -0.385596\n",
              "CREA        0.207934\n",
              "GGT         0.146027\n",
              "PROT       -0.289355\n",
              "m          -0.146990\n",
              "category    1.000000\n",
              "Name: category, dtype: float64"
            ]
          },
          "metadata": {
            "tags": []
          },
          "execution_count": 14
        }
      ]
    }
  ]
}