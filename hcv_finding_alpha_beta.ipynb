{
  "nbformat": 4,
  "nbformat_minor": 0,
  "metadata": {
    "colab": {
      "name": "hcv_finding_alpha_beta.ipynb",
      "provenance": [],
      "collapsed_sections": [],
      "include_colab_link": true
    },
    "kernelspec": {
      "display_name": "Python 3",
      "name": "python3"
    },
    "language_info": {
      "name": "python"
    }
  },
  "cells": [
    {
      "cell_type": "markdown",
      "metadata": {
        "id": "view-in-github",
        "colab_type": "text"
      },
      "source": [
        "<a href=\"https://colab.research.google.com/github/vigilant-umbrella/hcv-prediction/blob/main/hcv_finding_alpha_beta.ipynb\" target=\"_parent\"><img src=\"https://colab.research.google.com/assets/colab-badge.svg\" alt=\"Open In Colab\"/></a>"
      ]
    },
    {
      "cell_type": "markdown",
      "metadata": {
        "id": "w8Iv3Z7fD36F"
      },
      "source": [
        "# Initialization"
      ]
    },
    {
      "cell_type": "code",
      "metadata": {
        "id": "QatIN-hXPkPZ"
      },
      "source": [
        "import pandas as pd\n",
        "from scipy.stats import kendalltau\n",
        "\n",
        "from sklearn.preprocessing import OrdinalEncoder\n",
        "from sklearn.preprocessing import MinMaxScaler\n",
        "from sklearn.model_selection import StratifiedKFold\n",
        "from sklearn.model_selection import cross_validate\n",
        "from sklearn.feature_selection import f_classif\n",
        "\n",
        "from sklearn.linear_model import LogisticRegression\n",
        "from sklearn.neighbors import KNeighborsClassifier\n",
        "from sklearn.naive_bayes import GaussianNB\n",
        "from sklearn.tree import DecisionTreeClassifier\n",
        "from sklearn.ensemble import RandomForestClassifier\n",
        "from sklearn.svm import SVC\n",
        "from sklearn.neural_network import MLPClassifier"
      ],
      "execution_count": null,
      "outputs": []
    },
    {
      "cell_type": "markdown",
      "metadata": {
        "id": "5GuK5AOmQBD1"
      },
      "source": [
        "# Data Preprocessing"
      ]
    },
    {
      "cell_type": "code",
      "metadata": {
        "colab": {
          "base_uri": "https://localhost:8080/"
        },
        "id": "-5ujA_ACP0If",
        "outputId": "37290d00-8f99-4ab3-f5ac-89011a29ceb7"
      },
      "source": [
        "%%shell\n",
        "if ! [ -f \"hcvdat0.csv\" ]; then\n",
        "    wget https://archive.ics.uci.edu/ml/machine-learning-databases/00571/hcvdat0.csv \n",
        "fi"
      ],
      "execution_count": null,
      "outputs": [
        {
          "output_type": "stream",
          "text": [
            "--2021-08-12 17:39:10--  https://archive.ics.uci.edu/ml/machine-learning-databases/00571/hcvdat0.csv\n",
            "Resolving archive.ics.uci.edu (archive.ics.uci.edu)... 128.195.10.252\n",
            "Connecting to archive.ics.uci.edu (archive.ics.uci.edu)|128.195.10.252|:443... connected.\n",
            "HTTP request sent, awaiting response... 200 OK\n",
            "Length: 46183 (45K) [application/x-httpd-php]\n",
            "Saving to: ‘hcvdat0.csv’\n",
            "\n",
            "hcvdat0.csv         100%[===================>]  45.10K  --.-KB/s    in 0.1s    \n",
            "\n",
            "2021-08-12 17:39:10 (324 KB/s) - ‘hcvdat0.csv’ saved [46183/46183]\n",
            "\n"
          ],
          "name": "stdout"
        },
        {
          "output_type": "execute_result",
          "data": {
            "text/plain": [
              ""
            ]
          },
          "metadata": {
            "tags": []
          },
          "execution_count": 2
        }
      ]
    },
    {
      "cell_type": "code",
      "metadata": {
        "id": "pakcz0nYP1a7"
      },
      "source": [
        "data = pd.read_csv('hcvdat0.csv')\n",
        "\n",
        "data = data[(data['Category']!='0=Blood Donor') & (data['Category']!='0s=suspect Blood Donor')].reset_index(drop=True)\n",
        "\n",
        "X = data.drop(['Unnamed: 0', 'Category'], axis=1)\n",
        "category = pd.DataFrame(data['Category'])\n",
        "\n",
        "X = pd.concat([X, pd.get_dummies(X.Sex, drop_first=True)], axis=1)\n",
        "X = X.drop(['Sex'], axis=1)\n",
        "\n",
        "X['ALB'] = X['ALB'].fillna(X['ALB'].median())\n",
        "X['ALP'] = X['ALP'].fillna(X['ALP'].median())\n",
        "X['ALT'] = X['ALT'].fillna(X['ALT'].median())\n",
        "X['CHOL'] = X['CHOL'].fillna(X['CHOL'].mean())\n",
        "X['PROT'] = X['PROT'].fillna(X['PROT'].mean())\n",
        "\n",
        "enc = OrdinalEncoder()\n",
        "y = pd.DataFrame(enc.fit_transform(pd.DataFrame(category)), columns=['category'])"
      ],
      "execution_count": null,
      "outputs": []
    },
    {
      "cell_type": "markdown",
      "metadata": {
        "id": "p1ackp_xDy3y"
      },
      "source": [
        "# alpha"
      ]
    },
    {
      "cell_type": "code",
      "metadata": {
        "colab": {
          "base_uri": "https://localhost:8080/"
        },
        "id": "SBIn2PjlmvfE",
        "outputId": "353dfff1-5cff-42cb-a810-175b3888cac7"
      },
      "source": [
        "anova_f_values = f_classif(X.drop(['m'], axis=1), y['category'])[0]\n",
        "\n",
        "linear_corr = pd.Series(anova_f_values, index=X.drop(['m'], axis=1).columns)\n",
        "linear_corr"
      ],
      "execution_count": null,
      "outputs": [
        {
          "output_type": "execute_result",
          "data": {
            "text/plain": [
              "Age     15.299046\n",
              "ALB     43.959767\n",
              "ALP      6.677791\n",
              "ALT      4.877729\n",
              "AST      1.842203\n",
              "BIL      8.920381\n",
              "CHE     48.276278\n",
              "CHOL     6.290820\n",
              "CREA     2.095414\n",
              "GGT      1.386249\n",
              "PROT     5.837231\n",
              "dtype: float64"
            ]
          },
          "metadata": {
            "tags": []
          },
          "execution_count": 4
        }
      ]
    },
    {
      "cell_type": "code",
      "metadata": {
        "colab": {
          "base_uri": "https://localhost:8080/"
        },
        "id": "rmzeRseM1_fp",
        "outputId": "3402b39f-2b7c-47c4-fdc9-00e556a28171"
      },
      "source": [
        "alphas_vs_cols = {}\n",
        "alphas_vs_cols[0] = []\n",
        "temp = []\n",
        "for col, val in linear_corr.sort_values().iteritems():\n",
        "    temp.append(col)\n",
        "    alphas_vs_cols[val] = temp.copy()\n",
        "\n",
        "del alphas_vs_cols[linear_corr.sort_values().iloc[-1]]\n",
        "\n",
        "alphas_vs_cols"
      ],
      "execution_count": null,
      "outputs": [
        {
          "output_type": "execute_result",
          "data": {
            "text/plain": [
              "{0: [],\n",
              " 1.3862492060605132: ['GGT'],\n",
              " 1.8422028019458865: ['GGT', 'AST'],\n",
              " 2.0954135545152184: ['GGT', 'AST', 'CREA'],\n",
              " 4.87772939960541: ['GGT', 'AST', 'CREA', 'ALT'],\n",
              " 5.837231107909143: ['GGT', 'AST', 'CREA', 'ALT', 'PROT'],\n",
              " 6.290820252984408: ['GGT', 'AST', 'CREA', 'ALT', 'PROT', 'CHOL'],\n",
              " 6.677790788720345: ['GGT', 'AST', 'CREA', 'ALT', 'PROT', 'CHOL', 'ALP'],\n",
              " 8.920380534925785: ['GGT',\n",
              "  'AST',\n",
              "  'CREA',\n",
              "  'ALT',\n",
              "  'PROT',\n",
              "  'CHOL',\n",
              "  'ALP',\n",
              "  'BIL'],\n",
              " 15.29904550025325: ['GGT',\n",
              "  'AST',\n",
              "  'CREA',\n",
              "  'ALT',\n",
              "  'PROT',\n",
              "  'CHOL',\n",
              "  'ALP',\n",
              "  'BIL',\n",
              "  'Age'],\n",
              " 43.959767312315705: ['GGT',\n",
              "  'AST',\n",
              "  'CREA',\n",
              "  'ALT',\n",
              "  'PROT',\n",
              "  'CHOL',\n",
              "  'ALP',\n",
              "  'BIL',\n",
              "  'Age',\n",
              "  'ALB']}"
            ]
          },
          "metadata": {
            "tags": []
          },
          "execution_count": 5
        }
      ]
    },
    {
      "cell_type": "markdown",
      "metadata": {
        "id": "jD0VpAQomtPq"
      },
      "source": [
        "# beta"
      ]
    },
    {
      "cell_type": "code",
      "metadata": {
        "id": "gglpdyMBuVzm",
        "colab": {
          "base_uri": "https://localhost:8080/"
        },
        "outputId": "82d3091d-5a8f-4ca7-c372-cf9728425dd9"
      },
      "source": [
        "kendall_corr = [kendalltau(X[col], y).correlation for col in X.drop(['m'], axis=1).columns]\n",
        "\n",
        "non_linear_corr = pd.Series(kendall_corr, index=X.drop(['m'], axis=1).columns)\n",
        "non_linear_corr"
      ],
      "execution_count": null,
      "outputs": [
        {
          "output_type": "execute_result",
          "data": {
            "text/plain": [
              "Age     0.377397\n",
              "ALB    -0.597778\n",
              "ALP     0.410298\n",
              "ALT    -0.217547\n",
              "AST     0.217547\n",
              "BIL     0.350095\n",
              "CHE    -0.580503\n",
              "CHOL   -0.300940\n",
              "CREA    0.003535\n",
              "GGT     0.185809\n",
              "PROT   -0.191451\n",
              "dtype: float64"
            ]
          },
          "metadata": {
            "tags": []
          },
          "execution_count": 6
        }
      ]
    },
    {
      "cell_type": "code",
      "metadata": {
        "colab": {
          "base_uri": "https://localhost:8080/"
        },
        "id": "nQHcHMcP6cEu",
        "outputId": "1ac05c61-f5eb-4c0c-d4c2-580d4f9800f9"
      },
      "source": [
        "betas_vs_cols = {}\n",
        "# Checking for beta = 0, 0.1, 0.2, 0.3, 0.4 and 0.5\n",
        "for beta in [x*0.1 for x in range(6)]:\n",
        "    cols_to_remove = []\n",
        "    for col, value in non_linear_corr.iteritems():\n",
        "        if abs(value) < beta:\n",
        "            cols_to_remove.append(col)\n",
        "\n",
        "    betas_vs_cols[beta] = cols_to_remove\n",
        "\n",
        "betas_vs_cols"
      ],
      "execution_count": null,
      "outputs": [
        {
          "output_type": "execute_result",
          "data": {
            "text/plain": [
              "{0.0: [],\n",
              " 0.1: ['CREA'],\n",
              " 0.2: ['CREA', 'GGT', 'PROT'],\n",
              " 0.30000000000000004: ['ALT', 'AST', 'CREA', 'GGT', 'PROT'],\n",
              " 0.4: ['Age', 'ALT', 'AST', 'BIL', 'CHOL', 'CREA', 'GGT', 'PROT'],\n",
              " 0.5: ['Age', 'ALP', 'ALT', 'AST', 'BIL', 'CHOL', 'CREA', 'GGT', 'PROT']}"
            ]
          },
          "metadata": {
            "tags": []
          },
          "execution_count": 7
        }
      ]
    },
    {
      "cell_type": "markdown",
      "metadata": {
        "id": "2SF0bd_04YlJ"
      },
      "source": [
        "# Parameter class"
      ]
    },
    {
      "cell_type": "code",
      "metadata": {
        "id": "4mhORztY4XgI"
      },
      "source": [
        "class Parameters():\n",
        "    def __init__(self, alpha, beta, is_m_used):\n",
        "        self.alpha = alpha\n",
        "        self.beta = beta\n",
        "        self.is_m_used = is_m_used"
      ],
      "execution_count": null,
      "outputs": []
    },
    {
      "cell_type": "markdown",
      "metadata": {
        "id": "JQv9qgPJgrs7"
      },
      "source": [
        "# Utils"
      ]
    },
    {
      "cell_type": "code",
      "metadata": {
        "id": "2i1udebnfWH9"
      },
      "source": [
        "def get_best_values(scores, parameters):\n",
        "    alpha = parameters[scores.index(max(scores))].alpha\n",
        "    beta = parameters[scores.index(max(scores))].beta\n",
        "    is_m_used = parameters[scores.index(max(scores))].is_m_used\n",
        "\n",
        "    return alpha, beta, is_m_used"
      ],
      "execution_count": null,
      "outputs": []
    },
    {
      "cell_type": "code",
      "metadata": {
        "id": "iQF31H5Hie7o"
      },
      "source": [
        "def get_different_alpha_results(beta, scores, parameters):\n",
        "    results = []\n",
        "    for i, parameter in enumerate(parameters):\n",
        "        if parameter.beta == beta and not parameter.is_m_used:\n",
        "            results.append(scores[i])\n",
        "\n",
        "    return results"
      ],
      "execution_count": null,
      "outputs": []
    },
    {
      "cell_type": "code",
      "metadata": {
        "id": "HuI44LFqg4Gy"
      },
      "source": [
        "def get_different_beta_results(alpha, scores, parameters):\n",
        "    results = []\n",
        "    for i, parameter in enumerate(parameters):\n",
        "        if parameter.alpha == alpha and not parameter.is_m_used:\n",
        "            results.append(scores[i])\n",
        "\n",
        "    return results"
      ],
      "execution_count": null,
      "outputs": []
    },
    {
      "cell_type": "markdown",
      "metadata": {
        "id": "fXH7UFAL-KyU"
      },
      "source": [
        "# LogisticRegresssion"
      ]
    },
    {
      "cell_type": "code",
      "metadata": {
        "id": "Y_DixH8e-KyX"
      },
      "source": [
        "lr_scores = []\n",
        "lr_parameters = []\n",
        "for is_m_used, m_col in [(True, []), (False, ['m'])]:\n",
        "    for alpha, alpha_cols in alphas_vs_cols.items():\n",
        "        for beta, beta_cols in betas_vs_cols.items():\n",
        "            cols = set(m_col+alpha_cols+beta_cols)\n",
        "            X_dropped = X.drop(cols, axis=1)\n",
        "            scaler = MinMaxScaler()\n",
        "            scaled_X = scaler.fit_transform(X_dropped)\n",
        "\n",
        "            lr = LogisticRegression(\n",
        "                C=1.25,\n",
        "                fit_intercept=True,\n",
        "                l1_ratio=0.5,\n",
        "                max_iter=50,\n",
        "                penalty='elasticnet',\n",
        "                random_state=221,\n",
        "                solver='saga'\n",
        "                )\n",
        "\n",
        "            lrcv = StratifiedKFold(n_splits=10, shuffle=True, random_state=0)\n",
        "\n",
        "            lrcv_results = cross_validate(\n",
        "                lr,\n",
        "                scaled_X,\n",
        "                y['category'],\n",
        "                cv=lrcv,\n",
        "                scoring='accuracy',\n",
        "                n_jobs=-1\n",
        "                )\n",
        "\n",
        "            lr_scores.append(sum(lrcv_results['test_score'])/len(lrcv_results['test_score']))\n",
        "            lr_parameters.append(Parameters(alpha, beta, is_m_used))"
      ],
      "execution_count": null,
      "outputs": []
    },
    {
      "cell_type": "markdown",
      "metadata": {
        "id": "Hmolru1_9l62"
      },
      "source": [
        "# KNeighborsClassifier"
      ]
    },
    {
      "cell_type": "code",
      "metadata": {
        "id": "x8Y5Nubh9s2U"
      },
      "source": [
        "knclf_scores = []\n",
        "knclf_parameters = []\n",
        "for is_m_used, m_col in [(True, []), (False, ['m'])]:\n",
        "    for alpha, alpha_cols in alphas_vs_cols.items():\n",
        "        for beta, beta_cols in betas_vs_cols.items():\n",
        "            cols = set(m_col+alpha_cols+beta_cols)\n",
        "            X_dropped = X.drop(cols, axis=1)\n",
        "            scaler = MinMaxScaler()\n",
        "            scaled_X = scaler.fit_transform(X_dropped)\n",
        "\n",
        "            knclf = KNeighborsClassifier(\n",
        "                n_neighbors=10,\n",
        "                algorithm='ball_tree',\n",
        "                p=4\n",
        "                )\n",
        "\n",
        "            kncv = StratifiedKFold(n_splits=10, shuffle=True, random_state=182)\n",
        "\n",
        "            kncv_results = cross_validate(\n",
        "                knclf,\n",
        "                scaled_X,\n",
        "                y['category'],\n",
        "                cv=kncv,\n",
        "                scoring='accuracy',\n",
        "                n_jobs=-1\n",
        "                )\n",
        "\n",
        "            knclf_scores.append(sum(kncv_results['test_score'])/len(kncv_results['test_score']))\n",
        "            knclf_parameters.append(Parameters(alpha, beta, is_m_used))"
      ],
      "execution_count": null,
      "outputs": []
    },
    {
      "cell_type": "markdown",
      "metadata": {
        "id": "2xIVcJd8-KOy"
      },
      "source": [
        "# GaussianNB"
      ]
    },
    {
      "cell_type": "code",
      "metadata": {
        "id": "IeVKZ0eL-KO1"
      },
      "source": [
        "gnb_scores = []\n",
        "gnb_parameters = []\n",
        "for is_m_used, m_col in [(True, []), (False, ['m'])]:\n",
        "    for alpha, alpha_cols in alphas_vs_cols.items():\n",
        "        for beta, beta_cols in betas_vs_cols.items():\n",
        "            cols = set(m_col+alpha_cols+beta_cols)\n",
        "            X_dropped = X.drop(cols, axis=1)\n",
        "            scaler = MinMaxScaler()\n",
        "            scaled_X = scaler.fit_transform(X_dropped)\n",
        "\n",
        "            gnb = GaussianNB(var_smoothing=1e-10)\n",
        "\n",
        "            gnbcv = StratifiedKFold(n_splits=10, shuffle=True, random_state=302)\n",
        "\n",
        "            gnbcv_results = cross_validate(\n",
        "                gnb,\n",
        "                scaled_X,\n",
        "                y['category'],\n",
        "                cv=gnbcv,\n",
        "                scoring='accuracy',\n",
        "                n_jobs=-1\n",
        "                )\n",
        "\n",
        "            gnb_scores.append(sum(gnbcv_results['test_score'])/len(gnbcv_results['test_score']))\n",
        "            gnb_parameters.append(Parameters(alpha, beta, is_m_used))"
      ],
      "execution_count": null,
      "outputs": []
    },
    {
      "cell_type": "markdown",
      "metadata": {
        "id": "k5UsHMvX-KgC"
      },
      "source": [
        "# DecisionTreeClassifier"
      ]
    },
    {
      "cell_type": "code",
      "metadata": {
        "id": "9act84OL-KgD"
      },
      "source": [
        "dtclf_scores = []\n",
        "dtclf_parameters = []\n",
        "for is_m_used, m_col in [(True, []), (False, ['m'])]:\n",
        "    for alpha, alpha_cols in alphas_vs_cols.items():\n",
        "        for beta, beta_cols in betas_vs_cols.items():\n",
        "            cols = set(m_col+alpha_cols+beta_cols)\n",
        "            X_dropped = X.drop(cols, axis=1)\n",
        "            scaler = MinMaxScaler()\n",
        "            scaled_X = scaler.fit_transform(X_dropped)\n",
        "\n",
        "            dtclf = DecisionTreeClassifier(\n",
        "                criterion='entropy',\n",
        "                max_depth=7,\n",
        "                max_features=None,\n",
        "                min_samples_leaf=3,\n",
        "                min_samples_split=0.4,\n",
        "                random_state=559,\n",
        "                splitter='random'\n",
        "                )\n",
        "\n",
        "            dtcv = StratifiedKFold(n_splits=10, shuffle=True, random_state=985)\n",
        "\n",
        "            dtcv_results = cross_validate(\n",
        "                dtclf,\n",
        "                scaled_X,\n",
        "                y['category'],\n",
        "                cv=dtcv,\n",
        "                scoring='accuracy',\n",
        "                n_jobs=-1\n",
        "                )\n",
        "\n",
        "            dtclf_scores.append(sum(dtcv_results['test_score'])/len(dtcv_results['test_score']))\n",
        "            dtclf_parameters.append(Parameters(alpha, beta, is_m_used))"
      ],
      "execution_count": null,
      "outputs": []
    },
    {
      "cell_type": "markdown",
      "metadata": {
        "id": "0qCmPMBc-KpA"
      },
      "source": [
        "# RandomForestClassifier"
      ]
    },
    {
      "cell_type": "code",
      "metadata": {
        "id": "Cj6YzJWq-KpD"
      },
      "source": [
        "rfclf_scores = []\n",
        "rfclf_parameters = []\n",
        "for is_m_used, m_col in [(True, []), (False, ['m'])]:\n",
        "    for alpha, alpha_cols in alphas_vs_cols.items():\n",
        "        for beta, beta_cols in betas_vs_cols.items():\n",
        "            cols = set(m_col+alpha_cols+beta_cols)\n",
        "            X_dropped = X.drop(cols, axis=1)\n",
        "            scaler = MinMaxScaler()\n",
        "            scaled_X = scaler.fit_transform(X_dropped)\n",
        "\n",
        "            rfclf = RandomForestClassifier(\n",
        "                criterion='gini',\n",
        "                max_features='sqrt',\n",
        "                min_samples_leaf=2,\n",
        "                min_samples_split=5,\n",
        "                n_estimators=50,\n",
        "                random_state=67\n",
        "                )\n",
        "\n",
        "            rfcv = StratifiedKFold(n_splits=10, shuffle=True, random_state=309)\n",
        "\n",
        "            rfcv_results = cross_validate(\n",
        "                rfclf,\n",
        "                scaled_X,\n",
        "                y['category'],\n",
        "                cv=rfcv,\n",
        "                scoring='accuracy',\n",
        "                n_jobs=-1\n",
        "                )\n",
        "\n",
        "            rfclf_scores.append(sum(rfcv_results['test_score'])/len(rfcv_results['test_score']))\n",
        "            rfclf_parameters.append(Parameters(alpha, beta, is_m_used))"
      ],
      "execution_count": null,
      "outputs": []
    },
    {
      "cell_type": "markdown",
      "metadata": {
        "id": "liArSRGZ-K6S"
      },
      "source": [
        "# SVC"
      ]
    },
    {
      "cell_type": "code",
      "metadata": {
        "id": "Ki3exXuM-K6U"
      },
      "source": [
        "svc_scores = []\n",
        "svc_parameters = []\n",
        "for is_m_used, m_col in [(True, []), (False, ['m'])]:\n",
        "    for alpha, alpha_cols in alphas_vs_cols.items():\n",
        "        for beta, beta_cols in betas_vs_cols.items():\n",
        "            cols = set(m_col+alpha_cols+beta_cols)\n",
        "            X_dropped = X.drop(cols, axis=1)\n",
        "            scaler = MinMaxScaler()\n",
        "            scaled_X = scaler.fit_transform(X_dropped)\n",
        "\n",
        "            svc = SVC(\n",
        "                C=0.1,\n",
        "                coef0=0.3,\n",
        "                degree=2,\n",
        "                gamma='scale',\n",
        "                kernel='poly',\n",
        "                random_state=98,\n",
        "                shrinking=True\n",
        "                )\n",
        "\n",
        "            svccv = StratifiedKFold(n_splits=10, shuffle=True, random_state=911)\n",
        "\n",
        "            svccv_results = cross_validate(\n",
        "                svc,\n",
        "                scaled_X,\n",
        "                y['category'],\n",
        "                cv=svccv,\n",
        "                scoring='accuracy',\n",
        "                n_jobs=-1\n",
        "                )\n",
        "\n",
        "            svc_scores.append(sum(svccv_results['test_score'])/len(svccv_results['test_score']))\n",
        "            svc_parameters.append(Parameters(alpha, beta, is_m_used))"
      ],
      "execution_count": null,
      "outputs": []
    },
    {
      "cell_type": "markdown",
      "metadata": {
        "id": "9512pyIm-KYP"
      },
      "source": [
        "# MLPClassifier"
      ]
    },
    {
      "cell_type": "code",
      "metadata": {
        "id": "ob66HbLBmzRS"
      },
      "source": [
        "mlpclf_scores = []\n",
        "mlpclf_parameters = []\n",
        "for is_m_used, m_col in [(True, []), (False, ['m'])]:\n",
        "    for alpha, alpha_cols in alphas_vs_cols.items():\n",
        "        for beta, beta_cols in betas_vs_cols.items():\n",
        "            cols = set(m_col+alpha_cols+beta_cols)\n",
        "            X_dropped = X.drop(cols, axis=1)\n",
        "            scaler = MinMaxScaler()\n",
        "            scaled_X = scaler.fit_transform(X_dropped)\n",
        "\n",
        "            mlpclf = MLPClassifier(\n",
        "                batch_size=8,\n",
        "                activation='relu',\n",
        "                early_stopping=False,\n",
        "                hidden_layer_sizes=(32, 32, 32),\n",
        "                max_iter=500,\n",
        "                random_state=377,\n",
        "                solver='lbfgs'\n",
        "                )\n",
        "\n",
        "            mlpclfcv = StratifiedKFold(n_splits=10, shuffle=True, random_state=496)\n",
        "\n",
        "            mlpclfcv_results = cross_validate(\n",
        "                mlpclf,\n",
        "                scaled_X,\n",
        "                y['category'],\n",
        "                cv=mlpclfcv,\n",
        "                scoring='accuracy',\n",
        "                n_jobs=-1\n",
        "                )\n",
        "\n",
        "            mlpclf_scores.append(sum(mlpclfcv_results['test_score'])/len(mlpclfcv_results['test_score']))\n",
        "            mlpclf_parameters.append(Parameters(alpha, beta, is_m_used))"
      ],
      "execution_count": null,
      "outputs": []
    },
    {
      "cell_type": "markdown",
      "metadata": {
        "id": "WUHJQqEtC9zI"
      },
      "source": [
        "# Evaluating Results"
      ]
    },
    {
      "cell_type": "code",
      "metadata": {
        "colab": {
          "base_uri": "https://localhost:8080/",
          "height": 269
        },
        "id": "1URT0I7FgPHi",
        "outputId": "710acec0-0d54-4338-e5bb-192d7cda1c38"
      },
      "source": [
        "pd.DataFrame(\n",
        "    [\n",
        "        get_best_values(lr_scores, lr_parameters),\n",
        "        get_best_values(knclf_scores, knclf_parameters),\n",
        "        get_best_values(gnb_scores, gnb_parameters),\n",
        "        get_best_values(dtclf_scores, dtclf_parameters),\n",
        "        get_best_values(rfclf_scores, rfclf_parameters),\n",
        "        get_best_values(svc_scores, svc_parameters),\n",
        "        get_best_values(mlpclf_scores, mlpclf_parameters)\n",
        "    ],\n",
        "    columns=['alpha', 'beta', 'is_m_used'],\n",
        "    index=[\n",
        "        'Logistic Regresssion',\n",
        "        'k-nearest neighbors',\n",
        "        'Gaussian naive Bayes',\n",
        "        'Decision Tree',\n",
        "        'Random Forest',\n",
        "        'Support Vector Machine',\n",
        "        'Mutli-layer Perceptron'\n",
        "    ]\n",
        ")"
      ],
      "execution_count": null,
      "outputs": [
        {
          "output_type": "execute_result",
          "data": {
            "text/html": [
              "<div>\n",
              "<style scoped>\n",
              "    .dataframe tbody tr th:only-of-type {\n",
              "        vertical-align: middle;\n",
              "    }\n",
              "\n",
              "    .dataframe tbody tr th {\n",
              "        vertical-align: top;\n",
              "    }\n",
              "\n",
              "    .dataframe thead th {\n",
              "        text-align: right;\n",
              "    }\n",
              "</style>\n",
              "<table border=\"1\" class=\"dataframe\">\n",
              "  <thead>\n",
              "    <tr style=\"text-align: right;\">\n",
              "      <th></th>\n",
              "      <th>alpha</th>\n",
              "      <th>beta</th>\n",
              "      <th>is_m_used</th>\n",
              "    </tr>\n",
              "  </thead>\n",
              "  <tbody>\n",
              "    <tr>\n",
              "      <th>Logistic Regresssion</th>\n",
              "      <td>0.000000</td>\n",
              "      <td>0.2</td>\n",
              "      <td>False</td>\n",
              "    </tr>\n",
              "    <tr>\n",
              "      <th>k-nearest neighbors</th>\n",
              "      <td>0.000000</td>\n",
              "      <td>0.2</td>\n",
              "      <td>False</td>\n",
              "    </tr>\n",
              "    <tr>\n",
              "      <th>Gaussian naive Bayes</th>\n",
              "      <td>1.842203</td>\n",
              "      <td>0.2</td>\n",
              "      <td>False</td>\n",
              "    </tr>\n",
              "    <tr>\n",
              "      <th>Decision Tree</th>\n",
              "      <td>1.842203</td>\n",
              "      <td>0.2</td>\n",
              "      <td>False</td>\n",
              "    </tr>\n",
              "    <tr>\n",
              "      <th>Random Forest</th>\n",
              "      <td>1.842203</td>\n",
              "      <td>0.2</td>\n",
              "      <td>False</td>\n",
              "    </tr>\n",
              "    <tr>\n",
              "      <th>Support Vector Machine</th>\n",
              "      <td>1.842203</td>\n",
              "      <td>0.2</td>\n",
              "      <td>False</td>\n",
              "    </tr>\n",
              "    <tr>\n",
              "      <th>Mutli-layer Perceptron</th>\n",
              "      <td>1.842203</td>\n",
              "      <td>0.2</td>\n",
              "      <td>False</td>\n",
              "    </tr>\n",
              "  </tbody>\n",
              "</table>\n",
              "</div>"
            ],
            "text/plain": [
              "                           alpha  beta  is_m_used\n",
              "Logistic Regresssion    0.000000   0.2      False\n",
              "k-nearest neighbors     0.000000   0.2      False\n",
              "Gaussian naive Bayes    1.842203   0.2      False\n",
              "Decision Tree           1.842203   0.2      False\n",
              "Random Forest           1.842203   0.2      False\n",
              "Support Vector Machine  1.842203   0.2      False\n",
              "Mutli-layer Perceptron  1.842203   0.2      False"
            ]
          },
          "metadata": {
            "tags": []
          },
          "execution_count": 29
        }
      ]
    },
    {
      "cell_type": "code",
      "metadata": {
        "colab": {
          "base_uri": "https://localhost:8080/",
          "height": 269
        },
        "id": "OZCgwijYij2x",
        "outputId": "01047b5f-88f5-45e5-8a53-5187bce8bd4b"
      },
      "source": [
        "pd.DataFrame(\n",
        "    [\n",
        "        get_different_alpha_results(0.2, lr_scores, lr_parameters),\n",
        "        get_different_alpha_results(0.2, knclf_scores, knclf_parameters),\n",
        "        get_different_alpha_results(0.2, gnb_scores, gnb_parameters),\n",
        "        get_different_alpha_results(0.2, dtclf_scores, dtclf_parameters),\n",
        "        get_different_alpha_results(0.2, rfclf_scores, rfclf_parameters),\n",
        "        get_different_alpha_results(0.2, svc_scores, svc_parameters),\n",
        "        get_different_alpha_results(0.2, mlpclf_scores, mlpclf_parameters)\n",
        "    ],\n",
        "    columns=alphas_vs_cols.keys(),\n",
        "    index=[\n",
        "        'Logistic Regresssion',\n",
        "        'k-nearest neighbors',\n",
        "        'Gaussian naive Bayes',\n",
        "        'Decision Tree',\n",
        "        'Random Forest',\n",
        "        'Support Vector Machine',\n",
        "        'Mutli-layer Perceptron'\n",
        "    ]\n",
        ")"
      ],
      "execution_count": null,
      "outputs": [
        {
          "output_type": "execute_result",
          "data": {
            "text/html": [
              "<div>\n",
              "<style scoped>\n",
              "    .dataframe tbody tr th:only-of-type {\n",
              "        vertical-align: middle;\n",
              "    }\n",
              "\n",
              "    .dataframe tbody tr th {\n",
              "        vertical-align: top;\n",
              "    }\n",
              "\n",
              "    .dataframe thead th {\n",
              "        text-align: right;\n",
              "    }\n",
              "</style>\n",
              "<table border=\"1\" class=\"dataframe\">\n",
              "  <thead>\n",
              "    <tr style=\"text-align: right;\">\n",
              "      <th></th>\n",
              "      <th>0.000000</th>\n",
              "      <th>1.386249</th>\n",
              "      <th>1.842203</th>\n",
              "      <th>2.095414</th>\n",
              "      <th>4.877729</th>\n",
              "      <th>5.837231</th>\n",
              "      <th>6.290820</th>\n",
              "      <th>6.677791</th>\n",
              "      <th>8.920381</th>\n",
              "      <th>15.299046</th>\n",
              "      <th>43.959767</th>\n",
              "    </tr>\n",
              "  </thead>\n",
              "  <tbody>\n",
              "    <tr>\n",
              "      <th>Logistic Regresssion</th>\n",
              "      <td>0.803571</td>\n",
              "      <td>0.803571</td>\n",
              "      <td>0.803571</td>\n",
              "      <td>0.803571</td>\n",
              "      <td>0.735714</td>\n",
              "      <td>0.735714</td>\n",
              "      <td>0.708929</td>\n",
              "      <td>0.708929</td>\n",
              "      <td>0.708929</td>\n",
              "      <td>0.612500</td>\n",
              "      <td>0.612500</td>\n",
              "    </tr>\n",
              "    <tr>\n",
              "      <th>k-nearest neighbors</th>\n",
              "      <td>0.817857</td>\n",
              "      <td>0.817857</td>\n",
              "      <td>0.816071</td>\n",
              "      <td>0.816071</td>\n",
              "      <td>0.750000</td>\n",
              "      <td>0.750000</td>\n",
              "      <td>0.750000</td>\n",
              "      <td>0.698214</td>\n",
              "      <td>0.737500</td>\n",
              "      <td>0.687500</td>\n",
              "      <td>0.587500</td>\n",
              "    </tr>\n",
              "    <tr>\n",
              "      <th>Gaussian naive Bayes</th>\n",
              "      <td>0.758929</td>\n",
              "      <td>0.758929</td>\n",
              "      <td>0.787500</td>\n",
              "      <td>0.787500</td>\n",
              "      <td>0.746429</td>\n",
              "      <td>0.746429</td>\n",
              "      <td>0.773214</td>\n",
              "      <td>0.735714</td>\n",
              "      <td>0.723214</td>\n",
              "      <td>0.671429</td>\n",
              "      <td>0.671429</td>\n",
              "    </tr>\n",
              "    <tr>\n",
              "      <th>Decision Tree</th>\n",
              "      <td>0.732143</td>\n",
              "      <td>0.732143</td>\n",
              "      <td>0.748214</td>\n",
              "      <td>0.748214</td>\n",
              "      <td>0.650000</td>\n",
              "      <td>0.650000</td>\n",
              "      <td>0.642857</td>\n",
              "      <td>0.625000</td>\n",
              "      <td>0.641071</td>\n",
              "      <td>0.625000</td>\n",
              "      <td>0.555357</td>\n",
              "    </tr>\n",
              "    <tr>\n",
              "      <th>Random Forest</th>\n",
              "      <td>0.694643</td>\n",
              "      <td>0.694643</td>\n",
              "      <td>0.800000</td>\n",
              "      <td>0.800000</td>\n",
              "      <td>0.746429</td>\n",
              "      <td>0.746429</td>\n",
              "      <td>0.760714</td>\n",
              "      <td>0.732143</td>\n",
              "      <td>0.721429</td>\n",
              "      <td>0.691071</td>\n",
              "      <td>0.578571</td>\n",
              "    </tr>\n",
              "    <tr>\n",
              "      <th>Support Vector Machine</th>\n",
              "      <td>0.789286</td>\n",
              "      <td>0.789286</td>\n",
              "      <td>0.817857</td>\n",
              "      <td>0.817857</td>\n",
              "      <td>0.764286</td>\n",
              "      <td>0.764286</td>\n",
              "      <td>0.735714</td>\n",
              "      <td>0.735714</td>\n",
              "      <td>0.725000</td>\n",
              "      <td>0.657143</td>\n",
              "      <td>0.662500</td>\n",
              "    </tr>\n",
              "    <tr>\n",
              "      <th>Mutli-layer Perceptron</th>\n",
              "      <td>0.669643</td>\n",
              "      <td>0.669643</td>\n",
              "      <td>0.867857</td>\n",
              "      <td>0.867857</td>\n",
              "      <td>0.516071</td>\n",
              "      <td>0.516071</td>\n",
              "      <td>0.598214</td>\n",
              "      <td>0.544643</td>\n",
              "      <td>0.639286</td>\n",
              "      <td>0.569643</td>\n",
              "      <td>0.589286</td>\n",
              "    </tr>\n",
              "  </tbody>\n",
              "</table>\n",
              "</div>"
            ],
            "text/plain": [
              "                        0.000000   1.386249   ...  15.299046  43.959767\n",
              "Logistic Regresssion     0.803571   0.803571  ...   0.612500   0.612500\n",
              "k-nearest neighbors      0.817857   0.817857  ...   0.687500   0.587500\n",
              "Gaussian naive Bayes     0.758929   0.758929  ...   0.671429   0.671429\n",
              "Decision Tree            0.732143   0.732143  ...   0.625000   0.555357\n",
              "Random Forest            0.694643   0.694643  ...   0.691071   0.578571\n",
              "Support Vector Machine   0.789286   0.789286  ...   0.657143   0.662500\n",
              "Mutli-layer Perceptron   0.669643   0.669643  ...   0.569643   0.589286\n",
              "\n",
              "[7 rows x 11 columns]"
            ]
          },
          "metadata": {
            "tags": []
          },
          "execution_count": 47
        }
      ]
    },
    {
      "cell_type": "code",
      "metadata": {
        "id": "yLZkFgLODBmX",
        "colab": {
          "base_uri": "https://localhost:8080/",
          "height": 269
        },
        "outputId": "9b48d14f-fe20-482d-f58f-67b7dfb9728f"
      },
      "source": [
        "pd.DataFrame(\n",
        "    [\n",
        "        get_different_beta_results(1.8422028019458865, lr_scores, lr_parameters),\n",
        "        get_different_beta_results(1.8422028019458865, knclf_scores, knclf_parameters),\n",
        "        get_different_beta_results(1.8422028019458865, gnb_scores, gnb_parameters),\n",
        "        get_different_beta_results(1.8422028019458865, dtclf_scores, dtclf_parameters),\n",
        "        get_different_beta_results(1.8422028019458865, rfclf_scores, rfclf_parameters),\n",
        "        get_different_beta_results(1.8422028019458865, svc_scores, svc_parameters),\n",
        "        get_different_beta_results(1.8422028019458865, mlpclf_scores, mlpclf_parameters)\n",
        "    ],\n",
        "    columns=[x*0.1 for x in range(6)],\n",
        "    index=[\n",
        "        'Logistic Regresssion',\n",
        "        'k-nearest neighbors',\n",
        "        'Gaussian naive Bayes',\n",
        "        'Decision Tree',\n",
        "        'Random Forest',\n",
        "        'Support Vector Machine',\n",
        "        'Mutli-layer Perceptron'\n",
        "    ]\n",
        ")"
      ],
      "execution_count": null,
      "outputs": [
        {
          "output_type": "execute_result",
          "data": {
            "text/html": [
              "<div>\n",
              "<style scoped>\n",
              "    .dataframe tbody tr th:only-of-type {\n",
              "        vertical-align: middle;\n",
              "    }\n",
              "\n",
              "    .dataframe tbody tr th {\n",
              "        vertical-align: top;\n",
              "    }\n",
              "\n",
              "    .dataframe thead th {\n",
              "        text-align: right;\n",
              "    }\n",
              "</style>\n",
              "<table border=\"1\" class=\"dataframe\">\n",
              "  <thead>\n",
              "    <tr style=\"text-align: right;\">\n",
              "      <th></th>\n",
              "      <th>0.0</th>\n",
              "      <th>0.1</th>\n",
              "      <th>0.2</th>\n",
              "      <th>0.3</th>\n",
              "      <th>0.4</th>\n",
              "      <th>0.5</th>\n",
              "    </tr>\n",
              "  </thead>\n",
              "  <tbody>\n",
              "    <tr>\n",
              "      <th>Logistic Regresssion</th>\n",
              "      <td>0.789286</td>\n",
              "      <td>0.775000</td>\n",
              "      <td>0.803571</td>\n",
              "      <td>0.735714</td>\n",
              "      <td>0.612500</td>\n",
              "      <td>0.612500</td>\n",
              "    </tr>\n",
              "    <tr>\n",
              "      <th>k-nearest neighbors</th>\n",
              "      <td>0.766071</td>\n",
              "      <td>0.791071</td>\n",
              "      <td>0.816071</td>\n",
              "      <td>0.750000</td>\n",
              "      <td>0.664286</td>\n",
              "      <td>0.687500</td>\n",
              "    </tr>\n",
              "    <tr>\n",
              "      <th>Gaussian naive Bayes</th>\n",
              "      <td>0.723214</td>\n",
              "      <td>0.750000</td>\n",
              "      <td>0.787500</td>\n",
              "      <td>0.746429</td>\n",
              "      <td>0.639286</td>\n",
              "      <td>0.671429</td>\n",
              "    </tr>\n",
              "    <tr>\n",
              "      <th>Decision Tree</th>\n",
              "      <td>0.616071</td>\n",
              "      <td>0.555357</td>\n",
              "      <td>0.748214</td>\n",
              "      <td>0.650000</td>\n",
              "      <td>0.619643</td>\n",
              "      <td>0.625000</td>\n",
              "    </tr>\n",
              "    <tr>\n",
              "      <th>Random Forest</th>\n",
              "      <td>0.708929</td>\n",
              "      <td>0.775000</td>\n",
              "      <td>0.800000</td>\n",
              "      <td>0.746429</td>\n",
              "      <td>0.650000</td>\n",
              "      <td>0.691071</td>\n",
              "    </tr>\n",
              "    <tr>\n",
              "      <th>Support Vector Machine</th>\n",
              "      <td>0.762500</td>\n",
              "      <td>0.773214</td>\n",
              "      <td>0.817857</td>\n",
              "      <td>0.764286</td>\n",
              "      <td>0.682143</td>\n",
              "      <td>0.657143</td>\n",
              "    </tr>\n",
              "    <tr>\n",
              "      <th>Mutli-layer Perceptron</th>\n",
              "      <td>0.748214</td>\n",
              "      <td>0.666071</td>\n",
              "      <td>0.867857</td>\n",
              "      <td>0.516071</td>\n",
              "      <td>0.605357</td>\n",
              "      <td>0.569643</td>\n",
              "    </tr>\n",
              "  </tbody>\n",
              "</table>\n",
              "</div>"
            ],
            "text/plain": [
              "                             0.0       0.1  ...       0.4       0.5\n",
              "Logistic Regresssion    0.789286  0.775000  ...  0.612500  0.612500\n",
              "k-nearest neighbors     0.766071  0.791071  ...  0.664286  0.687500\n",
              "Gaussian naive Bayes    0.723214  0.750000  ...  0.639286  0.671429\n",
              "Decision Tree           0.616071  0.555357  ...  0.619643  0.625000\n",
              "Random Forest           0.708929  0.775000  ...  0.650000  0.691071\n",
              "Support Vector Machine  0.762500  0.773214  ...  0.682143  0.657143\n",
              "Mutli-layer Perceptron  0.748214  0.666071  ...  0.605357  0.569643\n",
              "\n",
              "[7 rows x 6 columns]"
            ]
          },
          "metadata": {
            "tags": []
          },
          "execution_count": 43
        }
      ]
    }
  ]
}